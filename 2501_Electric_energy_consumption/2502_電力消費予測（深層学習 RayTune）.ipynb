{
 "cells": [
  {
   "cell_type": "markdown",
   "id": "4632fccf-c834-45ba-95a5-e43d44344e93",
   "metadata": {},
   "source": [
    "# ポートフォリオ「電力消費予測 深層学習 RayTuneチューニング」（仲本夏生）"
   ]
  },
  {
   "cell_type": "markdown",
   "id": "ae8c656b-0632-4775-98ca-6395c5b803eb",
   "metadata": {},
   "source": [
    "## RayTuneを用いてのチューニング結果"
   ]
  },
  {
   "cell_type": "markdown",
   "id": "60bcbe13-487e-46b3-925a-099eb676b410",
   "metadata": {},
   "source": [
    "- 本ノートブックは、深層学習（RNN、LSTM、GRU）を用いた電力消費予測の前回のポートフォリオをベースに、Ray Tune によるハイパーパラメータチューニングの結果を示したものである。\n",
    "- 調整対象のパラメータとその調整方法は以下のとおり。\n",
    "    - 隠れユニット数（`hidden_size`）：64、128、256 の中からランダムに選択\n",
    "    - 学習率（`learning_rate`）: $10^{-4}$から$10^{-2}$の範囲で対数スケールの一様分布に従う浮動小数点数から選択\n",
    "    - ドロップアウト（`dropout`）: 0.0~0.5の範囲で一様分布に従う浮動小数点数から選択\n",
    "    - バッチサイズ（`batch_size`）: 64 または 128 のいずれかをランダムに選択"
   ]
  },
  {
   "cell_type": "markdown",
   "id": "26512869-b0c9-4754-a693-ee9d23da7932",
   "metadata": {
    "jp-MarkdownHeadingCollapsed": true
   },
   "source": [
    "### 前処理"
   ]
  },
  {
   "cell_type": "code",
   "execution_count": 1,
   "id": "d13ece64-ecf7-404c-92a2-e9e5b00f8e52",
   "metadata": {
    "colab": {
     "base_uri": "https://localhost:8080/"
    },
    "id": "7f9751cf-f8b9-407a-a37c-34224b8a2218",
    "outputId": "1e3526f2-0650-434b-8a3d-d4e1f315d2fb"
   },
   "outputs": [],
   "source": [
    "import pandas as pd\n",
    "import numpy as np\n",
    "import matplotlib.pyplot as plt\n",
    "import torch\n",
    "from torch.utils.data import DataLoader, TensorDataset"
   ]
  },
  {
   "cell_type": "code",
   "execution_count": 2,
   "id": "5121a379-3b41-4434-8367-57be95144fd6",
   "metadata": {
    "colab": {
     "base_uri": "https://localhost:8080/",
     "height": 424
    },
    "id": "bb04bc7e-52d9-487f-a766-4ddabd9ea49a",
    "outputId": "7723f51f-9f63-4056-87f9-17740038752c"
   },
   "outputs": [
    {
     "data": {
      "text/html": [
       "<div>\n",
       "<style scoped>\n",
       "    .dataframe tbody tr th:only-of-type {\n",
       "        vertical-align: middle;\n",
       "    }\n",
       "\n",
       "    .dataframe tbody tr th {\n",
       "        vertical-align: top;\n",
       "    }\n",
       "\n",
       "    .dataframe thead th {\n",
       "        text-align: right;\n",
       "    }\n",
       "</style>\n",
       "<table border=\"1\" class=\"dataframe\">\n",
       "  <thead>\n",
       "    <tr style=\"text-align: right;\">\n",
       "      <th></th>\n",
       "      <th>DATETIME</th>\n",
       "      <th>10MW</th>\n",
       "      <th>temperature</th>\n",
       "      <th>temperature_abs</th>\n",
       "      <th>is_holiday</th>\n",
       "    </tr>\n",
       "  </thead>\n",
       "  <tbody>\n",
       "    <tr>\n",
       "      <th>0</th>\n",
       "      <td>2016/4/1 0:00</td>\n",
       "      <td>2555</td>\n",
       "      <td>14.5</td>\n",
       "      <td>3.6</td>\n",
       "      <td>0</td>\n",
       "    </tr>\n",
       "    <tr>\n",
       "      <th>1</th>\n",
       "      <td>2016/4/1 1:00</td>\n",
       "      <td>2433</td>\n",
       "      <td>13.3</td>\n",
       "      <td>4.8</td>\n",
       "      <td>0</td>\n",
       "    </tr>\n",
       "    <tr>\n",
       "      <th>2</th>\n",
       "      <td>2016/4/1 2:00</td>\n",
       "      <td>2393</td>\n",
       "      <td>13.8</td>\n",
       "      <td>4.3</td>\n",
       "      <td>0</td>\n",
       "    </tr>\n",
       "    <tr>\n",
       "      <th>3</th>\n",
       "      <td>2016/4/1 3:00</td>\n",
       "      <td>2375</td>\n",
       "      <td>13.0</td>\n",
       "      <td>5.1</td>\n",
       "      <td>0</td>\n",
       "    </tr>\n",
       "    <tr>\n",
       "      <th>4</th>\n",
       "      <td>2016/4/1 4:00</td>\n",
       "      <td>2390</td>\n",
       "      <td>12.2</td>\n",
       "      <td>5.9</td>\n",
       "      <td>0</td>\n",
       "    </tr>\n",
       "    <tr>\n",
       "      <th>...</th>\n",
       "      <td>...</td>\n",
       "      <td>...</td>\n",
       "      <td>...</td>\n",
       "      <td>...</td>\n",
       "      <td>...</td>\n",
       "    </tr>\n",
       "    <tr>\n",
       "      <th>67939</th>\n",
       "      <td>2023/12/31 19:00</td>\n",
       "      <td>2919</td>\n",
       "      <td>9.6</td>\n",
       "      <td>8.5</td>\n",
       "      <td>1</td>\n",
       "    </tr>\n",
       "    <tr>\n",
       "      <th>67940</th>\n",
       "      <td>2023/12/31 20:00</td>\n",
       "      <td>2845</td>\n",
       "      <td>11.4</td>\n",
       "      <td>6.7</td>\n",
       "      <td>1</td>\n",
       "    </tr>\n",
       "    <tr>\n",
       "      <th>67941</th>\n",
       "      <td>2023/12/31 21:00</td>\n",
       "      <td>2754</td>\n",
       "      <td>11.0</td>\n",
       "      <td>7.1</td>\n",
       "      <td>1</td>\n",
       "    </tr>\n",
       "    <tr>\n",
       "      <th>67942</th>\n",
       "      <td>2023/12/31 22:00</td>\n",
       "      <td>2647</td>\n",
       "      <td>9.5</td>\n",
       "      <td>8.6</td>\n",
       "      <td>1</td>\n",
       "    </tr>\n",
       "    <tr>\n",
       "      <th>67943</th>\n",
       "      <td>2023/12/31 23:00</td>\n",
       "      <td>2583</td>\n",
       "      <td>9.4</td>\n",
       "      <td>8.7</td>\n",
       "      <td>1</td>\n",
       "    </tr>\n",
       "  </tbody>\n",
       "</table>\n",
       "<p>67944 rows × 5 columns</p>\n",
       "</div>"
      ],
      "text/plain": [
       "               DATETIME  10MW  temperature  temperature_abs  is_holiday\n",
       "0         2016/4/1 0:00  2555         14.5              3.6           0\n",
       "1         2016/4/1 1:00  2433         13.3              4.8           0\n",
       "2         2016/4/1 2:00  2393         13.8              4.3           0\n",
       "3         2016/4/1 3:00  2375         13.0              5.1           0\n",
       "4         2016/4/1 4:00  2390         12.2              5.9           0\n",
       "...                 ...   ...          ...              ...         ...\n",
       "67939  2023/12/31 19:00  2919          9.6              8.5           1\n",
       "67940  2023/12/31 20:00  2845         11.4              6.7           1\n",
       "67941  2023/12/31 21:00  2754         11.0              7.1           1\n",
       "67942  2023/12/31 22:00  2647          9.5              8.6           1\n",
       "67943  2023/12/31 23:00  2583          9.4              8.7           1\n",
       "\n",
       "[67944 rows x 5 columns]"
      ]
     },
     "execution_count": 2,
     "metadata": {},
     "output_type": "execute_result"
    }
   ],
   "source": [
    "df = pd.read_csv(\"./data/data.csv\")\n",
    "df = df.ffill()\n",
    "df"
   ]
  },
  {
   "cell_type": "code",
   "execution_count": 3,
   "id": "4000d7ca-8abd-4479-9b60-b47e4cdc95fc",
   "metadata": {
    "id": "e301d330-38a8-4675-b170-8eb2d6857f4c"
   },
   "outputs": [],
   "source": [
    "df['DATETIME'] = pd.to_datetime(df['DATETIME'])"
   ]
  },
  {
   "cell_type": "code",
   "execution_count": 4,
   "id": "c974e35d-98ac-4f94-92dd-a04759b233d5",
   "metadata": {
    "id": "436c7348-c8f5-488d-9d24-14a470f2eecc"
   },
   "outputs": [],
   "source": [
    "import datetime as dt\n",
    "df[\"year\"] = df['DATETIME'].dt.year\n",
    "df[\"month\"] = df['DATETIME'].dt.month\n",
    "df[\"hour\"] = df['DATETIME'].dt.hour"
   ]
  },
  {
   "cell_type": "code",
   "execution_count": 5,
   "id": "5f69b19c-adaa-4514-aaa7-bba748481363",
   "metadata": {
    "id": "051a28e0-ef11-4047-b56e-f308ccb2e244"
   },
   "outputs": [],
   "source": [
    "train_df = df[(df['DATETIME'] >= dt.datetime(2016,4,1)) & (df['DATETIME'] < dt.datetime(2022,12,31))].reset_index(drop=True)\n",
    "test_df = df[(df['DATETIME'] >= dt.datetime(2023,1,1)) & (df['DATETIME'] < dt.datetime(2023,12,31))].reset_index(drop=True)"
   ]
  },
  {
   "cell_type": "code",
   "execution_count": 6,
   "id": "11e5611a-a114-41a8-b6b0-8cf17c11b291",
   "metadata": {
    "id": "95308bac-1a95-4cfc-82f3-00c54edc816a"
   },
   "outputs": [],
   "source": [
    "train_df = train_df.drop(columns='DATETIME')\n",
    "test_df = test_df.drop(columns='DATETIME')"
   ]
  },
  {
   "cell_type": "code",
   "execution_count": 7,
   "id": "da7f89db-fa7a-4c13-9e0d-ef0d16869377",
   "metadata": {
    "id": "24e732b9-bfa8-4d32-bbef-02cd08ba8218"
   },
   "outputs": [],
   "source": [
    "y_train = train_df['10MW']\n",
    "y_test = test_df['10MW']\n",
    "X_train = train_df.drop(columns='10MW')\n",
    "X_test = test_df.drop(columns='10MW')"
   ]
  },
  {
   "cell_type": "code",
   "execution_count": 8,
   "id": "9cf51fbd-f4ff-464c-b734-147ce92749f7",
   "metadata": {
    "colab": {
     "base_uri": "https://localhost:8080/"
    },
    "id": "aa7cda8d-7c3c-4b7f-a198-b381e06fa568",
    "outputId": "5c588ae4-7b13-4025-e21d-ff217ebc4a27"
   },
   "outputs": [
    {
     "name": "stdout",
     "output_type": "stream",
     "text": [
      "(59160, 6) (59160,) (8736, 6) (8736,)\n"
     ]
    }
   ],
   "source": [
    "print(X_train.shape, y_train.shape, X_test.shape, y_test.shape)"
   ]
  },
  {
   "cell_type": "code",
   "execution_count": 9,
   "id": "72c7c103-467c-4199-bf7b-60e7c4e9c2b4",
   "metadata": {
    "id": "9148d8a9-a96f-4fb8-939a-cd27273f2b6b"
   },
   "outputs": [],
   "source": [
    "# MinMaxScalerを使って特徴量とターゲットを 0〜1 にスケーリング\n",
    "from sklearn.preprocessing import MinMaxScaler\n",
    "\n",
    "# MinMaxScalerを適用\n",
    "scaler_X = MinMaxScaler()\n",
    "scaler_y = MinMaxScaler()\n",
    "\n",
    "# X_train, X_test のスケーリング\n",
    "X_train_scaled = scaler_X.fit_transform(X_train)\n",
    "X_test_scaled = scaler_X.transform(X_test)\n",
    "# y_train, y_test のスケーリング (1次元 → 2次元にreshape)\n",
    "y_train_scaled = scaler_y.fit_transform(y_train.values.reshape(-1, 1))\n",
    "y_test_scaled = scaler_y.transform(y_test.values.reshape(-1, 1))\n",
    "# LSTM/RNNモデルの学習や予測では、y_train_scaled が 2次元 (n_samples, 1) のまま使えるので、flattenは不要"
   ]
  },
  {
   "cell_type": "code",
   "execution_count": 10,
   "id": "7fb3ae7a-6f6c-47c0-a535-06c23ffc4e64",
   "metadata": {
    "colab": {
     "base_uri": "https://localhost:8080/"
    },
    "id": "a5655a40-7ccf-4fe7-9f07-844ac23379c1",
    "outputId": "768657e1-6815-4381-8518-8909e1953500"
   },
   "outputs": [
    {
     "name": "stdout",
     "output_type": "stream",
     "text": [
      "X_train_scaled shape: (59160, 6)\n",
      "X_test_scaled shape: (8736, 6)\n",
      "y_train_scaled shape: (59160, 1)\n",
      "y_test_scaled shape: (8736, 1)\n"
     ]
    }
   ],
   "source": [
    "print(\"X_train_scaled shape:\", X_train_scaled.shape)\n",
    "print(\"X_test_scaled shape:\", X_test_scaled.shape)\n",
    "print(\"y_train_scaled shape:\", y_train_scaled.shape)\n",
    "print(\"y_test_scaled shape:\", y_test_scaled.shape)"
   ]
  },
  {
   "cell_type": "code",
   "execution_count": 11,
   "id": "86cedaa6-65df-434d-850f-32f930e211fe",
   "metadata": {
    "id": "74f04ef1-277f-48e2-96e8-b46c63ff83c8"
   },
   "outputs": [],
   "source": [
    "data_train = torch.tensor(X_train_scaled, dtype=torch.float32)\n",
    "data_test = torch.tensor(X_test_scaled, dtype=torch.float32)\n",
    "targets_train = torch.tensor(y_train_scaled, dtype=torch.float32)\n",
    "targets_test = torch.tensor(y_test_scaled, dtype=torch.float32)"
   ]
  },
  {
   "cell_type": "code",
   "execution_count": 12,
   "id": "a5d76069-d085-496d-85b8-061605562743",
   "metadata": {
    "colab": {
     "base_uri": "https://localhost:8080/"
    },
    "id": "b119912c-d5b4-4036-b741-d0ed0cac1f8f",
    "outputId": "03281ef6-a43d-4dfd-f12a-463972e4e7a5"
   },
   "outputs": [
    {
     "name": "stdout",
     "output_type": "stream",
     "text": [
      "torch.Size([59136, 24, 6])\n",
      "torch.Size([59136, 1])\n"
     ]
    }
   ],
   "source": [
    "# モデルに適した形状に変換する\n",
    "def create_sequences(data, targets, sequence_length):\n",
    "    sequences = []\n",
    "    labels = []\n",
    "    for i in range(len(data) - sequence_length):\n",
    "        seq = data[i:i+sequence_length] # モデルの入力\n",
    "        label = targets[i+sequence_length] # 予測すべき次の値\n",
    "        sequences.append(seq)\n",
    "        labels.append(label)\n",
    "    return torch.stack(sequences), torch.stack(labels)\n",
    "\n",
    "# 過去の一定期間（24時間分）のデータを1つの入力シーケンとしてまとめる\n",
    "sequence_length = 24\n",
    "\n",
    "# シーケンスデータ作成\n",
    "train_sequences, train_labels = create_sequences(data_train, targets_train, sequence_length)\n",
    "test_sequences, test_labels = create_sequences(data_test, targets_test, sequence_length)\n",
    "\n",
    "print(train_sequences.shape)  # (n_samples, sequence_length, num_features)\n",
    "print(train_labels.shape)     # (n_samples, 1)"
   ]
  },
  {
   "cell_type": "code",
   "execution_count": 13,
   "id": "f29acec2-1083-456a-ac75-1908ca251fb5",
   "metadata": {
    "id": "hWuON-qBWyhq"
   },
   "outputs": [],
   "source": [
    "def create_dataloaders(batch_size):\n",
    "    train_dataset = TensorDataset(train_sequences, train_labels)\n",
    "    test_dataset = TensorDataset(test_sequences, test_labels)\n",
    "\n",
    "    train_loader = DataLoader(train_dataset, batch_size=batch_size, shuffle=True)\n",
    "    test_loader = DataLoader(test_dataset, batch_size=batch_size, shuffle=False)\n",
    "\n",
    "    # サンプルデータを1バッチ取得して形状を確認\n",
    "    for batch_x, batch_y in train_loader:\n",
    "        print(f\"Sample train_loader batch_x shape: {batch_x.shape}\")\n",
    "        print(f\"Sample train_loader batch_y shape: {batch_y.shape}\")\n",
    "        break\n",
    "    for batch_x, batch_y in test_loader:\n",
    "        print(f\"Sample test_loader batch_x shape: {batch_x.shape}\")\n",
    "        print(f\"Sample test_loader batch_y shape: {batch_y.shape}\")\n",
    "        break\n",
    "\n",
    "    return train_loader, test_loader"
   ]
  },
  {
   "cell_type": "code",
   "execution_count": 14,
   "id": "50bd272a-9945-488f-99a4-46c023c84bad",
   "metadata": {
    "colab": {
     "base_uri": "https://localhost:8080/"
    },
    "id": "KmDX6nd4TjFz",
    "outputId": "7a6a8a3c-74f7-45fa-a146-76709a1e0723"
   },
   "outputs": [
    {
     "name": "stdout",
     "output_type": "stream",
     "text": [
      "torch version: 2.7.0+cu126\n",
      "GPU Available: True\n",
      "GPU Name: NVIDIA GeForce RTX 4070 Ti SUPER\n"
     ]
    }
   ],
   "source": [
    "import torch\n",
    "print('torch version:', torch.__version__)\n",
    "print(\"GPU Available:\", torch.cuda.is_available())\n",
    "print(\"GPU Name:\", torch.cuda.get_device_name(0) if torch.cuda.is_available() else \"No GPU\")"
   ]
  },
  {
   "cell_type": "code",
   "execution_count": 15,
   "id": "262f17ad-a801-4b5e-a4b5-c316c4f32672",
   "metadata": {
    "id": "RStyB8w2CcuO"
   },
   "outputs": [],
   "source": [
    "import torch\n",
    "import torch.nn as nn\n",
    "from torch.utils.data import DataLoader, TensorDataset\n",
    "from torch.optim.lr_scheduler import StepLR\n",
    "\n",
    "from ray import tune\n",
    "from ray.tune.schedulers import ASHAScheduler\n",
    "from ray.tune.search.optuna import OptunaSearch\n",
    "from ray.air import RunConfig, session\n",
    "from ray.train import ScalingConfig\n",
    "from ray.tune import ExperimentAnalysis\n",
    "\n",
    "import numpy as np\n",
    "import random\n",
    "import os\n",
    "from sklearn.metrics import mean_squared_error, r2_score"
   ]
  },
  {
   "cell_type": "markdown",
   "id": "d453b5e6-b3a7-46c7-a5ed-1d86cdee8ee3",
   "metadata": {},
   "source": [
    "### RNN RayTune結果"
   ]
  },
  {
   "cell_type": "code",
   "execution_count": 16,
   "id": "76a06f97-7cc3-4398-a478-cb7194de211d",
   "metadata": {
    "id": "xVIZ5LIcZSIF"
   },
   "outputs": [],
   "source": [
    "# 乱数シード設定\n",
    "def set_seed(seed):\n",
    "    torch.manual_seed(seed)\n",
    "    np.random.seed(seed)\n",
    "    random.seed(seed)\n",
    "\n",
    "class RNNModel(nn.Module):\n",
    "    def __init__(self, input_size, hidden_size, output_size, num_layers, dropout=0.0):\n",
    "        super(RNNModel, self).__init__()\n",
    "        if num_layers == 1:  # 層が1つの場合はdropoutを無効化\n",
    "            dropout = 0.0\n",
    "        self.rnn = nn.RNN(\n",
    "            input_size=input_size,\n",
    "            hidden_size=hidden_size,\n",
    "            num_layers=num_layers,\n",
    "            batch_first=True,\n",
    "            dropout=dropout\n",
    "        )\n",
    "        self.fc = nn.Linear(hidden_size, output_size)\n",
    "\n",
    "    def forward(self, x):\n",
    "        out, _ = self.rnn(x)\n",
    "        out = self.fc(out[:, -1, :])\n",
    "        return out"
   ]
  },
  {
   "cell_type": "markdown",
   "id": "4dd31c01-fcb9-4a0c-abe5-74dbd10b0330",
   "metadata": {},
   "source": [
    "#### RNN 1層"
   ]
  },
  {
   "cell_type": "code",
   "execution_count": null,
   "id": "072988d2-660e-4e48-8703-08ed2417b611",
   "metadata": {
    "colab": {
     "base_uri": "https://localhost:8080/"
    },
    "collapsed": true,
    "id": "aOnpi8i1ZSSU",
    "jupyter": {
     "outputs_hidden": true
    },
    "outputId": "98b916eb-e665-43a9-8415-99f337ff5ee6"
   },
   "outputs": [
    {
     "data": {
      "text/html": [
       "<div class=\"tuneStatus\">\n",
       "  <div style=\"display: flex;flex-direction: row\">\n",
       "    <div style=\"display: flex;flex-direction: column;\">\n",
       "      <h3>Tune Status</h3>\n",
       "      <table>\n",
       "<tbody>\n",
       "<tr><td>Current time:</td><td>2025-05-25 00:48:45</td></tr>\n",
       "<tr><td>Running for: </td><td>00:13:10.35        </td></tr>\n",
       "<tr><td>Memory:      </td><td>8.2/15.3 GiB       </td></tr>\n",
       "</tbody>\n",
       "</table>\n",
       "    </div>\n",
       "    <div class=\"vDivider\"></div>\n",
       "    <div class=\"systemInfo\">\n",
       "      <h3>System Info</h3>\n",
       "      Using AsyncHyperBand: num_stopped=30<br>Bracket: Iter 20.000: -0.003439735550578704 | Iter 10.000: -0.0034686997886551676 | Iter 5.000: -0.003817751018813111<br>Logical resource usage: 4.0/20 CPUs, 1.0/1 GPUs (0.0/1.0 accelerator_type:G)\n",
       "    </div>\n",
       "    \n",
       "  </div>\n",
       "  <div class=\"hDivider\"></div>\n",
       "  <div class=\"trialStatus\">\n",
       "    <h3>Trial Status</h3>\n",
       "    <table>\n",
       "<thead>\n",
       "<tr><th>Trial name              </th><th>status    </th><th>loc                </th><th style=\"text-align: right;\">  batch_size</th><th style=\"text-align: right;\">   dropout</th><th style=\"text-align: right;\">  hidden_size</th><th style=\"text-align: right;\">  learning_rate</th><th style=\"text-align: right;\">  iter</th><th style=\"text-align: right;\">  total time (s)</th><th style=\"text-align: right;\">  train_loss</th><th style=\"text-align: right;\">  train_rmse</th><th style=\"text-align: right;\">  test_loss</th></tr>\n",
       "</thead>\n",
       "<tbody>\n",
       "<tr><td>train_rnn_model_a36700b4</td><td>TERMINATED</td><td>172.23.68.119:47895</td><td style=\"text-align: right;\">          64</td><td style=\"text-align: right;\">0.412412  </td><td style=\"text-align: right;\">          256</td><td style=\"text-align: right;\">    0.000602459</td><td style=\"text-align: right;\">    30</td><td style=\"text-align: right;\">        55.4788 </td><td style=\"text-align: right;\">  0.00216018</td><td style=\"text-align: right;\">     188.374</td><td style=\"text-align: right;\"> 0.00330764</td></tr>\n",
       "<tr><td>train_rnn_model_2c14789d</td><td>TERMINATED</td><td>172.23.68.119:48207</td><td style=\"text-align: right;\">          64</td><td style=\"text-align: right;\">0.333839  </td><td style=\"text-align: right;\">          128</td><td style=\"text-align: right;\">    0.000693656</td><td style=\"text-align: right;\">     5</td><td style=\"text-align: right;\">         9.06407</td><td style=\"text-align: right;\">  0.00315903</td><td style=\"text-align: right;\">     227.8  </td><td style=\"text-align: right;\"> 0.00506014</td></tr>\n",
       "<tr><td>train_rnn_model_bb0f7e6a</td><td>TERMINATED</td><td>172.23.68.119:48319</td><td style=\"text-align: right;\">          64</td><td style=\"text-align: right;\">0.452572  </td><td style=\"text-align: right;\">          128</td><td style=\"text-align: right;\">    0.00213421 </td><td style=\"text-align: right;\">    10</td><td style=\"text-align: right;\">        17.9215 </td><td style=\"text-align: right;\">  0.00262848</td><td style=\"text-align: right;\">     207.792</td><td style=\"text-align: right;\"> 0.00395043</td></tr>\n",
       "<tr><td>train_rnn_model_4515befe</td><td>TERMINATED</td><td>172.23.68.119:48452</td><td style=\"text-align: right;\">          64</td><td style=\"text-align: right;\">0.134905  </td><td style=\"text-align: right;\">          256</td><td style=\"text-align: right;\">    0.00999255 </td><td style=\"text-align: right;\">     5</td><td style=\"text-align: right;\">         9.34925</td><td style=\"text-align: right;\">  0.910555  </td><td style=\"text-align: right;\">    3867.49 </td><td style=\"text-align: right;\"> 0.0179895 </td></tr>\n",
       "<tr><td>train_rnn_model_6840cf45</td><td>TERMINATED</td><td>172.23.68.119:48564</td><td style=\"text-align: right;\">          64</td><td style=\"text-align: right;\">0.106978  </td><td style=\"text-align: right;\">           64</td><td style=\"text-align: right;\">    0.000241847</td><td style=\"text-align: right;\">     5</td><td style=\"text-align: right;\">         8.63612</td><td style=\"text-align: right;\">  0.00375786</td><td style=\"text-align: right;\">     248.455</td><td style=\"text-align: right;\"> 0.0048048 </td></tr>\n",
       "<tr><td>train_rnn_model_71adffa0</td><td>TERMINATED</td><td>172.23.68.119:48671</td><td style=\"text-align: right;\">          64</td><td style=\"text-align: right;\">0.133196  </td><td style=\"text-align: right;\">           64</td><td style=\"text-align: right;\">    0.000698101</td><td style=\"text-align: right;\">    30</td><td style=\"text-align: right;\">        48.1202 </td><td style=\"text-align: right;\">  0.00230974</td><td style=\"text-align: right;\">     194.786</td><td style=\"text-align: right;\"> 0.00337013</td></tr>\n",
       "<tr><td>train_rnn_model_81b4bfae</td><td>TERMINATED</td><td>172.23.68.119:48896</td><td style=\"text-align: right;\">          64</td><td style=\"text-align: right;\">0.195764  </td><td style=\"text-align: right;\">          256</td><td style=\"text-align: right;\">    0.000289564</td><td style=\"text-align: right;\">    10</td><td style=\"text-align: right;\">        18.2578 </td><td style=\"text-align: right;\">  0.00280042</td><td style=\"text-align: right;\">     214.481</td><td style=\"text-align: right;\"> 0.00409404</td></tr>\n",
       "<tr><td>train_rnn_model_7ea781c3</td><td>TERMINATED</td><td>172.23.68.119:49033</td><td style=\"text-align: right;\">         128</td><td style=\"text-align: right;\">0.311016  </td><td style=\"text-align: right;\">          256</td><td style=\"text-align: right;\">    0.000332004</td><td style=\"text-align: right;\">     5</td><td style=\"text-align: right;\">         5.57032</td><td style=\"text-align: right;\">  0.00355866</td><td style=\"text-align: right;\">     241.78 </td><td style=\"text-align: right;\"> 0.00418854</td></tr>\n",
       "<tr><td>train_rnn_model_714dbd96</td><td>TERMINATED</td><td>172.23.68.119:49132</td><td style=\"text-align: right;\">          64</td><td style=\"text-align: right;\">0.136779  </td><td style=\"text-align: right;\">           64</td><td style=\"text-align: right;\">    0.000117639</td><td style=\"text-align: right;\">     5</td><td style=\"text-align: right;\">         9.01101</td><td style=\"text-align: right;\">  0.00507636</td><td style=\"text-align: right;\">     288.77 </td><td style=\"text-align: right;\"> 0.0070162 </td></tr>\n",
       "<tr><td>train_rnn_model_a259d54c</td><td>TERMINATED</td><td>172.23.68.119:49238</td><td style=\"text-align: right;\">         128</td><td style=\"text-align: right;\">0.38124   </td><td style=\"text-align: right;\">          256</td><td style=\"text-align: right;\">    0.00929062 </td><td style=\"text-align: right;\">     5</td><td style=\"text-align: right;\">         5.52988</td><td style=\"text-align: right;\">  0.0188308 </td><td style=\"text-align: right;\">     556.174</td><td style=\"text-align: right;\"> 0.0112541 </td></tr>\n",
       "<tr><td>train_rnn_model_a6d69ac6</td><td>TERMINATED</td><td>172.23.68.119:49339</td><td style=\"text-align: right;\">          64</td><td style=\"text-align: right;\">0.0691062 </td><td style=\"text-align: right;\">          256</td><td style=\"text-align: right;\">    0.00773803 </td><td style=\"text-align: right;\">     5</td><td style=\"text-align: right;\">         9.305  </td><td style=\"text-align: right;\">  0.0174945 </td><td style=\"text-align: right;\">     536.077</td><td style=\"text-align: right;\"> 0.00871134</td></tr>\n",
       "<tr><td>train_rnn_model_c938d4c8</td><td>TERMINATED</td><td>172.23.68.119:49451</td><td style=\"text-align: right;\">         128</td><td style=\"text-align: right;\">0.490358  </td><td style=\"text-align: right;\">          256</td><td style=\"text-align: right;\">    0.00255418 </td><td style=\"text-align: right;\">    10</td><td style=\"text-align: right;\">        10.5315 </td><td style=\"text-align: right;\">  0.00283481</td><td style=\"text-align: right;\">     215.794</td><td style=\"text-align: right;\"> 0.00386492</td></tr>\n",
       "<tr><td>train_rnn_model_0d8ed33b</td><td>TERMINATED</td><td>172.23.68.119:49564</td><td style=\"text-align: right;\">         128</td><td style=\"text-align: right;\">0.00272785</td><td style=\"text-align: right;\">           64</td><td style=\"text-align: right;\">    0.000980488</td><td style=\"text-align: right;\">     5</td><td style=\"text-align: right;\">         5.11597</td><td style=\"text-align: right;\">  0.0033139 </td><td style=\"text-align: right;\">     233.317</td><td style=\"text-align: right;\"> 0.0054467 </td></tr>\n",
       "<tr><td>train_rnn_model_4f96cae9</td><td>TERMINATED</td><td>172.23.68.119:49657</td><td style=\"text-align: right;\">          64</td><td style=\"text-align: right;\">0.242609  </td><td style=\"text-align: right;\">           64</td><td style=\"text-align: right;\">    0.000908611</td><td style=\"text-align: right;\">    30</td><td style=\"text-align: right;\">        50.3798 </td><td style=\"text-align: right;\">  0.0022617 </td><td style=\"text-align: right;\">     192.75 </td><td style=\"text-align: right;\"> 0.00330907</td></tr>\n",
       "<tr><td>train_rnn_model_76d9112e</td><td>TERMINATED</td><td>172.23.68.119:49895</td><td style=\"text-align: right;\">          64</td><td style=\"text-align: right;\">0.222381  </td><td style=\"text-align: right;\">           64</td><td style=\"text-align: right;\">    0.000567475</td><td style=\"text-align: right;\">    20</td><td style=\"text-align: right;\">        31.444  </td><td style=\"text-align: right;\">  0.00242883</td><td style=\"text-align: right;\">     199.745</td><td style=\"text-align: right;\"> 0.00343532</td></tr>\n",
       "<tr><td>train_rnn_model_7e972c9e</td><td>TERMINATED</td><td>172.23.68.119:50076</td><td style=\"text-align: right;\">          64</td><td style=\"text-align: right;\">0.249962  </td><td style=\"text-align: right;\">           64</td><td style=\"text-align: right;\">    0.0020576  </td><td style=\"text-align: right;\">    20</td><td style=\"text-align: right;\">        33.1437 </td><td style=\"text-align: right;\">  0.00231284</td><td style=\"text-align: right;\">     194.917</td><td style=\"text-align: right;\"> 0.00365484</td></tr>\n",
       "<tr><td>train_rnn_model_14f10d28</td><td>TERMINATED</td><td>172.23.68.119:50256</td><td style=\"text-align: right;\">          64</td><td style=\"text-align: right;\">0.283829  </td><td style=\"text-align: right;\">          128</td><td style=\"text-align: right;\">    0.00207022 </td><td style=\"text-align: right;\">    10</td><td style=\"text-align: right;\">        18.1473 </td><td style=\"text-align: right;\">  0.00261443</td><td style=\"text-align: right;\">     207.236</td><td style=\"text-align: right;\"> 0.00409043</td></tr>\n",
       "<tr><td>train_rnn_model_89c02f48</td><td>TERMINATED</td><td>172.23.68.119:50387</td><td style=\"text-align: right;\">          64</td><td style=\"text-align: right;\">0.368635  </td><td style=\"text-align: right;\">          128</td><td style=\"text-align: right;\">    0.00146878 </td><td style=\"text-align: right;\">    10</td><td style=\"text-align: right;\">        17.6367 </td><td style=\"text-align: right;\">  0.00259278</td><td style=\"text-align: right;\">     206.376</td><td style=\"text-align: right;\"> 0.00393099</td></tr>\n",
       "<tr><td>train_rnn_model_41730ed3</td><td>TERMINATED</td><td>172.23.68.119:50526</td><td style=\"text-align: right;\">          64</td><td style=\"text-align: right;\">0.395471  </td><td style=\"text-align: right;\">           64</td><td style=\"text-align: right;\">    0.00405813 </td><td style=\"text-align: right;\">    20</td><td style=\"text-align: right;\">        35.803  </td><td style=\"text-align: right;\">  0.00226371</td><td style=\"text-align: right;\">     192.835</td><td style=\"text-align: right;\"> 0.00351508</td></tr>\n",
       "<tr><td>train_rnn_model_3e58cbf2</td><td>TERMINATED</td><td>172.23.68.119:50719</td><td style=\"text-align: right;\">         128</td><td style=\"text-align: right;\">0.421426  </td><td style=\"text-align: right;\">          256</td><td style=\"text-align: right;\">    0.00425617 </td><td style=\"text-align: right;\">     5</td><td style=\"text-align: right;\">         5.4092 </td><td style=\"text-align: right;\">  0.00750711</td><td style=\"text-align: right;\">     351.166</td><td style=\"text-align: right;\"> 0.0193643 </td></tr>\n",
       "<tr><td>train_rnn_model_86fa75cc</td><td>TERMINATED</td><td>172.23.68.119:50814</td><td style=\"text-align: right;\">         128</td><td style=\"text-align: right;\">0.431058  </td><td style=\"text-align: right;\">          256</td><td style=\"text-align: right;\">    0.000425667</td><td style=\"text-align: right;\">     5</td><td style=\"text-align: right;\">         5.21419</td><td style=\"text-align: right;\">  0.00347371</td><td style=\"text-align: right;\">     238.876</td><td style=\"text-align: right;\"> 0.00415846</td></tr>\n",
       "<tr><td>train_rnn_model_e452bd86</td><td>TERMINATED</td><td>172.23.68.119:50914</td><td style=\"text-align: right;\">          64</td><td style=\"text-align: right;\">0.280695  </td><td style=\"text-align: right;\">          256</td><td style=\"text-align: right;\">    0.000154244</td><td style=\"text-align: right;\">    10</td><td style=\"text-align: right;\">        17.1206 </td><td style=\"text-align: right;\">  0.00290027</td><td style=\"text-align: right;\">     218.271</td><td style=\"text-align: right;\"> 0.00414866</td></tr>\n",
       "<tr><td>train_rnn_model_bff4f2b7</td><td>TERMINATED</td><td>172.23.68.119:51045</td><td style=\"text-align: right;\">          64</td><td style=\"text-align: right;\">0.177532  </td><td style=\"text-align: right;\">           64</td><td style=\"text-align: right;\">    0.000957644</td><td style=\"text-align: right;\">    30</td><td style=\"text-align: right;\">        46.9647 </td><td style=\"text-align: right;\">  0.00224865</td><td style=\"text-align: right;\">     192.193</td><td style=\"text-align: right;\"> 0.00332975</td></tr>\n",
       "<tr><td>train_rnn_model_f172189a</td><td>TERMINATED</td><td>172.23.68.119:51269</td><td style=\"text-align: right;\">          64</td><td style=\"text-align: right;\">0.183074  </td><td style=\"text-align: right;\">           64</td><td style=\"text-align: right;\">    0.000940071</td><td style=\"text-align: right;\">    30</td><td style=\"text-align: right;\">        56.9174 </td><td style=\"text-align: right;\">  0.0022538 </td><td style=\"text-align: right;\">     192.413</td><td style=\"text-align: right;\"> 0.00331329</td></tr>\n",
       "<tr><td>train_rnn_model_520879bf</td><td>TERMINATED</td><td>172.23.68.119:51528</td><td style=\"text-align: right;\">          64</td><td style=\"text-align: right;\">0.190508  </td><td style=\"text-align: right;\">           64</td><td style=\"text-align: right;\">    0.00107791 </td><td style=\"text-align: right;\">    30</td><td style=\"text-align: right;\">        54.1854 </td><td style=\"text-align: right;\">  0.00223467</td><td style=\"text-align: right;\">     191.595</td><td style=\"text-align: right;\"> 0.00318174</td></tr>\n",
       "<tr><td>train_rnn_model_aa9eaecd</td><td>TERMINATED</td><td>172.23.68.119:51772</td><td style=\"text-align: right;\">          64</td><td style=\"text-align: right;\">0.221606  </td><td style=\"text-align: right;\">           64</td><td style=\"text-align: right;\">    0.00115091 </td><td style=\"text-align: right;\">    30</td><td style=\"text-align: right;\">        47.8022 </td><td style=\"text-align: right;\">  0.00223868</td><td style=\"text-align: right;\">     191.767</td><td style=\"text-align: right;\"> 0.00317462</td></tr>\n",
       "<tr><td>train_rnn_model_31eb495c</td><td>TERMINATED</td><td>172.23.68.119:52001</td><td style=\"text-align: right;\">          64</td><td style=\"text-align: right;\">0.254896  </td><td style=\"text-align: right;\">           64</td><td style=\"text-align: right;\">    0.00154126 </td><td style=\"text-align: right;\">    20</td><td style=\"text-align: right;\">        34.5749 </td><td style=\"text-align: right;\">  0.00230222</td><td style=\"text-align: right;\">     194.469</td><td style=\"text-align: right;\"> 0.00348133</td></tr>\n",
       "<tr><td>train_rnn_model_79c4fe87</td><td>TERMINATED</td><td>172.23.68.119:52192</td><td style=\"text-align: right;\">          64</td><td style=\"text-align: right;\">0.338589  </td><td style=\"text-align: right;\">           64</td><td style=\"text-align: right;\">    0.00157686 </td><td style=\"text-align: right;\">    20</td><td style=\"text-align: right;\">        37.4371 </td><td style=\"text-align: right;\">  0.00230503</td><td style=\"text-align: right;\">     194.587</td><td style=\"text-align: right;\"> 0.00358659</td></tr>\n",
       "<tr><td>train_rnn_model_651522d2</td><td>TERMINATED</td><td>172.23.68.119:52386</td><td style=\"text-align: right;\">          64</td><td style=\"text-align: right;\">0.341263  </td><td style=\"text-align: right;\">           64</td><td style=\"text-align: right;\">    0.000477444</td><td style=\"text-align: right;\">     5</td><td style=\"text-align: right;\">         9.34207</td><td style=\"text-align: right;\">  0.0033597 </td><td style=\"text-align: right;\">     234.924</td><td style=\"text-align: right;\"> 0.00429607</td></tr>\n",
       "<tr><td>train_rnn_model_758d59c0</td><td>TERMINATED</td><td>172.23.68.119:52504</td><td style=\"text-align: right;\">          64</td><td style=\"text-align: right;\">0.059166  </td><td style=\"text-align: right;\">          128</td><td style=\"text-align: right;\">    0.000554555</td><td style=\"text-align: right;\">     5</td><td style=\"text-align: right;\">         8.56376</td><td style=\"text-align: right;\">  0.00319259</td><td style=\"text-align: right;\">     229.007</td><td style=\"text-align: right;\"> 0.00491688</td></tr>\n",
       "</tbody>\n",
       "</table>\n",
       "  </div>\n",
       "</div>\n",
       "<style>\n",
       ".tuneStatus {\n",
       "  color: var(--jp-ui-font-color1);\n",
       "}\n",
       ".tuneStatus .systemInfo {\n",
       "  display: flex;\n",
       "  flex-direction: column;\n",
       "}\n",
       ".tuneStatus td {\n",
       "  white-space: nowrap;\n",
       "}\n",
       ".tuneStatus .trialStatus {\n",
       "  display: flex;\n",
       "  flex-direction: column;\n",
       "}\n",
       ".tuneStatus h3 {\n",
       "  font-weight: bold;\n",
       "}\n",
       ".tuneStatus .hDivider {\n",
       "  border-bottom-width: var(--jp-border-width);\n",
       "  border-bottom-color: var(--jp-border-color0);\n",
       "  border-bottom-style: solid;\n",
       "}\n",
       ".tuneStatus .vDivider {\n",
       "  border-left-width: var(--jp-border-width);\n",
       "  border-left-color: var(--jp-border-color0);\n",
       "  border-left-style: solid;\n",
       "  margin: 0.5em 1em 0.5em 1em;\n",
       "}\n",
       "</style>\n"
      ],
      "text/plain": [
       "<IPython.core.display.HTML object>"
      ]
     },
     "metadata": {},
     "output_type": "display_data"
    },
    {
     "name": "stdout",
     "output_type": "stream",
     "text": [
      "\u001b[33m(raylet)\u001b[0m Warning: The actor ImplicitFunc is very large (37 MiB). Check that its definition is not implicitly capturing a large array or other object in scope. Tip: use ray.put() to put large objects in the Ray object store.\n",
      "\u001b[36m(train_rnn_model pid=47895)\u001b[0m Sample train_loader batch_x shape: torch.Size([64, 24, 6])\n",
      "\u001b[36m(train_rnn_model pid=47895)\u001b[0m Sample train_loader batch_y shape: torch.Size([64, 1])\n",
      "\u001b[36m(train_rnn_model pid=47895)\u001b[0m Sample test_loader batch_x shape: torch.Size([64, 24, 6])\n",
      "\u001b[36m(train_rnn_model pid=47895)\u001b[0m Sample test_loader batch_y shape: torch.Size([64, 1])\n",
      "\u001b[36m(train_rnn_model pid=48207)\u001b[0m Sample train_loader batch_x shape: torch.Size([64, 24, 6])\n",
      "\u001b[36m(train_rnn_model pid=48207)\u001b[0m Sample train_loader batch_y shape: torch.Size([64, 1])\n",
      "\u001b[36m(train_rnn_model pid=48207)\u001b[0m Sample test_loader batch_x shape: torch.Size([64, 24, 6])\n",
      "\u001b[36m(train_rnn_model pid=48207)\u001b[0m Sample test_loader batch_y shape: torch.Size([64, 1])\n",
      "\u001b[36m(train_rnn_model pid=48319)\u001b[0m Sample train_loader batch_x shape: torch.Size([64, 24, 6])\n",
      "\u001b[36m(train_rnn_model pid=48319)\u001b[0m Sample train_loader batch_y shape: torch.Size([64, 1])\n",
      "\u001b[36m(train_rnn_model pid=48319)\u001b[0m Sample test_loader batch_x shape: torch.Size([64, 24, 6])\n",
      "\u001b[36m(train_rnn_model pid=48319)\u001b[0m Sample test_loader batch_y shape: torch.Size([64, 1])\n",
      "\u001b[36m(train_rnn_model pid=48452)\u001b[0m Sample train_loader batch_x shape: torch.Size([64, 24, 6])\n",
      "\u001b[36m(train_rnn_model pid=48452)\u001b[0m Sample train_loader batch_y shape: torch.Size([64, 1])\n",
      "\u001b[36m(train_rnn_model pid=48452)\u001b[0m Sample test_loader batch_x shape: torch.Size([64, 24, 6])\n",
      "\u001b[36m(train_rnn_model pid=48452)\u001b[0m Sample test_loader batch_y shape: torch.Size([64, 1])\n",
      "\u001b[36m(train_rnn_model pid=48564)\u001b[0m Sample train_loader batch_x shape: torch.Size([64, 24, 6])\n",
      "\u001b[36m(train_rnn_model pid=48564)\u001b[0m Sample train_loader batch_y shape: torch.Size([64, 1])\n",
      "\u001b[36m(train_rnn_model pid=48564)\u001b[0m Sample test_loader batch_x shape: torch.Size([64, 24, 6])\n",
      "\u001b[36m(train_rnn_model pid=48564)\u001b[0m Sample test_loader batch_y shape: torch.Size([64, 1])\n",
      "\u001b[36m(train_rnn_model pid=48671)\u001b[0m Sample train_loader batch_x shape: torch.Size([64, 24, 6])\n",
      "\u001b[36m(train_rnn_model pid=48671)\u001b[0m Sample train_loader batch_y shape: torch.Size([64, 1])\n",
      "\u001b[36m(train_rnn_model pid=48671)\u001b[0m Sample test_loader batch_x shape: torch.Size([64, 24, 6])\n",
      "\u001b[36m(train_rnn_model pid=48671)\u001b[0m Sample test_loader batch_y shape: torch.Size([64, 1])\n",
      "\u001b[36m(train_rnn_model pid=48896)\u001b[0m Sample train_loader batch_x shape: torch.Size([64, 24, 6])\n",
      "\u001b[36m(train_rnn_model pid=48896)\u001b[0m Sample train_loader batch_y shape: torch.Size([64, 1])\n",
      "\u001b[36m(train_rnn_model pid=48896)\u001b[0m Sample test_loader batch_x shape: torch.Size([64, 24, 6])\n",
      "\u001b[36m(train_rnn_model pid=48896)\u001b[0m Sample test_loader batch_y shape: torch.Size([64, 1])\n",
      "\u001b[36m(train_rnn_model pid=49033)\u001b[0m Sample train_loader batch_x shape: torch.Size([128, 24, 6])\n",
      "\u001b[36m(train_rnn_model pid=49033)\u001b[0m Sample train_loader batch_y shape: torch.Size([128, 1])\n",
      "\u001b[36m(train_rnn_model pid=49033)\u001b[0m Sample test_loader batch_x shape: torch.Size([128, 24, 6])\n",
      "\u001b[36m(train_rnn_model pid=49033)\u001b[0m Sample test_loader batch_y shape: torch.Size([128, 1])\n",
      "\u001b[36m(train_rnn_model pid=49132)\u001b[0m Sample train_loader batch_x shape: torch.Size([64, 24, 6])\n",
      "\u001b[36m(train_rnn_model pid=49132)\u001b[0m Sample train_loader batch_y shape: torch.Size([64, 1])\n",
      "\u001b[36m(train_rnn_model pid=49132)\u001b[0m Sample test_loader batch_x shape: torch.Size([64, 24, 6])\n",
      "\u001b[36m(train_rnn_model pid=49132)\u001b[0m Sample test_loader batch_y shape: torch.Size([64, 1])\n",
      "\u001b[36m(train_rnn_model pid=49238)\u001b[0m Sample train_loader batch_x shape: torch.Size([128, 24, 6])\n",
      "\u001b[36m(train_rnn_model pid=49238)\u001b[0m Sample train_loader batch_y shape: torch.Size([128, 1])\n",
      "\u001b[36m(train_rnn_model pid=49238)\u001b[0m Sample test_loader batch_x shape: torch.Size([128, 24, 6])\n",
      "\u001b[36m(train_rnn_model pid=49238)\u001b[0m Sample test_loader batch_y shape: torch.Size([128, 1])\n",
      "\u001b[36m(train_rnn_model pid=49339)\u001b[0m Sample train_loader batch_x shape: torch.Size([64, 24, 6])\n",
      "\u001b[36m(train_rnn_model pid=49339)\u001b[0m Sample train_loader batch_y shape: torch.Size([64, 1])\n",
      "\u001b[36m(train_rnn_model pid=49339)\u001b[0m Sample test_loader batch_x shape: torch.Size([64, 24, 6])\n",
      "\u001b[36m(train_rnn_model pid=49339)\u001b[0m Sample test_loader batch_y shape: torch.Size([64, 1])\n",
      "\u001b[36m(train_rnn_model pid=49451)\u001b[0m Sample train_loader batch_x shape: torch.Size([128, 24, 6])\n",
      "\u001b[36m(train_rnn_model pid=49451)\u001b[0m Sample train_loader batch_y shape: torch.Size([128, 1])\n",
      "\u001b[36m(train_rnn_model pid=49451)\u001b[0m Sample test_loader batch_x shape: torch.Size([128, 24, 6])\n",
      "\u001b[36m(train_rnn_model pid=49451)\u001b[0m Sample test_loader batch_y shape: torch.Size([128, 1])\n",
      "\u001b[36m(train_rnn_model pid=49564)\u001b[0m Sample train_loader batch_x shape: torch.Size([128, 24, 6])\n",
      "\u001b[36m(train_rnn_model pid=49564)\u001b[0m Sample train_loader batch_y shape: torch.Size([128, 1])\n",
      "\u001b[36m(train_rnn_model pid=49564)\u001b[0m Sample test_loader batch_x shape: torch.Size([128, 24, 6])\n",
      "\u001b[36m(train_rnn_model pid=49564)\u001b[0m Sample test_loader batch_y shape: torch.Size([128, 1])\n",
      "\u001b[36m(train_rnn_model pid=49657)\u001b[0m Sample train_loader batch_x shape: torch.Size([64, 24, 6])\n",
      "\u001b[36m(train_rnn_model pid=49657)\u001b[0m Sample train_loader batch_y shape: torch.Size([64, 1])\n",
      "\u001b[36m(train_rnn_model pid=49657)\u001b[0m Sample test_loader batch_x shape: torch.Size([64, 24, 6])\n",
      "\u001b[36m(train_rnn_model pid=49657)\u001b[0m Sample test_loader batch_y shape: torch.Size([64, 1])\n",
      "\u001b[36m(train_rnn_model pid=49895)\u001b[0m Sample train_loader batch_x shape: torch.Size([64, 24, 6])\n",
      "\u001b[36m(train_rnn_model pid=49895)\u001b[0m Sample train_loader batch_y shape: torch.Size([64, 1])\n",
      "\u001b[36m(train_rnn_model pid=49895)\u001b[0m Sample test_loader batch_x shape: torch.Size([64, 24, 6])\n",
      "\u001b[36m(train_rnn_model pid=49895)\u001b[0m Sample test_loader batch_y shape: torch.Size([64, 1])\n",
      "\u001b[36m(train_rnn_model pid=50076)\u001b[0m Sample train_loader batch_x shape: torch.Size([64, 24, 6])\n",
      "\u001b[36m(train_rnn_model pid=50076)\u001b[0m Sample train_loader batch_y shape: torch.Size([64, 1])\n",
      "\u001b[36m(train_rnn_model pid=50076)\u001b[0m Sample test_loader batch_x shape: torch.Size([64, 24, 6])\n",
      "\u001b[36m(train_rnn_model pid=50076)\u001b[0m Sample test_loader batch_y shape: torch.Size([64, 1])\n",
      "\u001b[36m(train_rnn_model pid=50256)\u001b[0m Sample train_loader batch_x shape: torch.Size([64, 24, 6])\n",
      "\u001b[36m(train_rnn_model pid=50256)\u001b[0m Sample train_loader batch_y shape: torch.Size([64, 1])\n",
      "\u001b[36m(train_rnn_model pid=50256)\u001b[0m Sample test_loader batch_x shape: torch.Size([64, 24, 6])\n",
      "\u001b[36m(train_rnn_model pid=50256)\u001b[0m Sample test_loader batch_y shape: torch.Size([64, 1])\n",
      "\u001b[36m(train_rnn_model pid=50387)\u001b[0m Sample train_loader batch_x shape: torch.Size([64, 24, 6])\n",
      "\u001b[36m(train_rnn_model pid=50387)\u001b[0m Sample train_loader batch_y shape: torch.Size([64, 1])\n",
      "\u001b[36m(train_rnn_model pid=50387)\u001b[0m Sample test_loader batch_x shape: torch.Size([64, 24, 6])\n",
      "\u001b[36m(train_rnn_model pid=50387)\u001b[0m Sample test_loader batch_y shape: torch.Size([64, 1])\n",
      "\u001b[36m(train_rnn_model pid=50526)\u001b[0m Sample train_loader batch_x shape: torch.Size([64, 24, 6])\n",
      "\u001b[36m(train_rnn_model pid=50526)\u001b[0m Sample train_loader batch_y shape: torch.Size([64, 1])\n",
      "\u001b[36m(train_rnn_model pid=50526)\u001b[0m Sample test_loader batch_x shape: torch.Size([64, 24, 6])\n",
      "\u001b[36m(train_rnn_model pid=50526)\u001b[0m Sample test_loader batch_y shape: torch.Size([64, 1])\n",
      "\u001b[36m(train_rnn_model pid=50719)\u001b[0m Sample train_loader batch_x shape: torch.Size([128, 24, 6])\n",
      "\u001b[36m(train_rnn_model pid=50719)\u001b[0m Sample train_loader batch_y shape: torch.Size([128, 1])\n",
      "\u001b[36m(train_rnn_model pid=50719)\u001b[0m Sample test_loader batch_x shape: torch.Size([128, 24, 6])\n",
      "\u001b[36m(train_rnn_model pid=50719)\u001b[0m Sample test_loader batch_y shape: torch.Size([128, 1])\n",
      "\u001b[36m(train_rnn_model pid=50814)\u001b[0m Sample train_loader batch_x shape: torch.Size([128, 24, 6])\n",
      "\u001b[36m(train_rnn_model pid=50814)\u001b[0m Sample train_loader batch_y shape: torch.Size([128, 1])\n",
      "\u001b[36m(train_rnn_model pid=50814)\u001b[0m Sample test_loader batch_x shape: torch.Size([128, 24, 6])\n",
      "\u001b[36m(train_rnn_model pid=50814)\u001b[0m Sample test_loader batch_y shape: torch.Size([128, 1])\n",
      "\u001b[36m(train_rnn_model pid=50914)\u001b[0m Sample train_loader batch_x shape: torch.Size([64, 24, 6])\n",
      "\u001b[36m(train_rnn_model pid=50914)\u001b[0m Sample train_loader batch_y shape: torch.Size([64, 1])\n",
      "\u001b[36m(train_rnn_model pid=50914)\u001b[0m Sample test_loader batch_x shape: torch.Size([64, 24, 6])\n",
      "\u001b[36m(train_rnn_model pid=50914)\u001b[0m Sample test_loader batch_y shape: torch.Size([64, 1])\n",
      "\u001b[36m(train_rnn_model pid=51045)\u001b[0m Sample train_loader batch_x shape: torch.Size([64, 24, 6])\n",
      "\u001b[36m(train_rnn_model pid=51045)\u001b[0m Sample train_loader batch_y shape: torch.Size([64, 1])\n",
      "\u001b[36m(train_rnn_model pid=51045)\u001b[0m Sample test_loader batch_x shape: torch.Size([64, 24, 6])\n",
      "\u001b[36m(train_rnn_model pid=51045)\u001b[0m Sample test_loader batch_y shape: torch.Size([64, 1])\n",
      "\u001b[36m(train_rnn_model pid=51269)\u001b[0m Sample train_loader batch_x shape: torch.Size([64, 24, 6])\n",
      "\u001b[36m(train_rnn_model pid=51269)\u001b[0m Sample train_loader batch_y shape: torch.Size([64, 1])\n",
      "\u001b[36m(train_rnn_model pid=51269)\u001b[0m Sample test_loader batch_x shape: torch.Size([64, 24, 6])\n",
      "\u001b[36m(train_rnn_model pid=51269)\u001b[0m Sample test_loader batch_y shape: torch.Size([64, 1])\n",
      "\u001b[36m(train_rnn_model pid=51528)\u001b[0m Sample train_loader batch_x shape: torch.Size([64, 24, 6])\n",
      "\u001b[36m(train_rnn_model pid=51528)\u001b[0m Sample train_loader batch_y shape: torch.Size([64, 1])\n",
      "\u001b[36m(train_rnn_model pid=51528)\u001b[0m Sample test_loader batch_x shape: torch.Size([64, 24, 6])\n",
      "\u001b[36m(train_rnn_model pid=51528)\u001b[0m Sample test_loader batch_y shape: torch.Size([64, 1])\n",
      "\u001b[36m(train_rnn_model pid=51772)\u001b[0m Sample train_loader batch_x shape: torch.Size([64, 24, 6])\n",
      "\u001b[36m(train_rnn_model pid=51772)\u001b[0m Sample train_loader batch_y shape: torch.Size([64, 1])\n",
      "\u001b[36m(train_rnn_model pid=51772)\u001b[0m Sample test_loader batch_x shape: torch.Size([64, 24, 6])\n",
      "\u001b[36m(train_rnn_model pid=51772)\u001b[0m Sample test_loader batch_y shape: torch.Size([64, 1])\n",
      "\u001b[36m(train_rnn_model pid=52001)\u001b[0m Sample train_loader batch_x shape: torch.Size([64, 24, 6])\n",
      "\u001b[36m(train_rnn_model pid=52001)\u001b[0m Sample train_loader batch_y shape: torch.Size([64, 1])\n",
      "\u001b[36m(train_rnn_model pid=52001)\u001b[0m Sample test_loader batch_x shape: torch.Size([64, 24, 6])\n",
      "\u001b[36m(train_rnn_model pid=52001)\u001b[0m Sample test_loader batch_y shape: torch.Size([64, 1])\n",
      "\u001b[36m(train_rnn_model pid=52192)\u001b[0m Sample train_loader batch_x shape: torch.Size([64, 24, 6])\n",
      "\u001b[36m(train_rnn_model pid=52192)\u001b[0m Sample train_loader batch_y shape: torch.Size([64, 1])\n",
      "\u001b[36m(train_rnn_model pid=52192)\u001b[0m Sample test_loader batch_x shape: torch.Size([64, 24, 6])\n",
      "\u001b[36m(train_rnn_model pid=52192)\u001b[0m Sample test_loader batch_y shape: torch.Size([64, 1])\n",
      "\u001b[36m(train_rnn_model pid=52386)\u001b[0m Sample train_loader batch_x shape: torch.Size([64, 24, 6])\n",
      "\u001b[36m(train_rnn_model pid=52386)\u001b[0m Sample train_loader batch_y shape: torch.Size([64, 1])\n",
      "\u001b[36m(train_rnn_model pid=52386)\u001b[0m Sample test_loader batch_x shape: torch.Size([64, 24, 6])\n",
      "\u001b[36m(train_rnn_model pid=52386)\u001b[0m Sample test_loader batch_y shape: torch.Size([64, 1])\n",
      "\u001b[36m(train_rnn_model pid=52504)\u001b[0m Sample train_loader batch_x shape: torch.Size([64, 24, 6])\n",
      "\u001b[36m(train_rnn_model pid=52504)\u001b[0m Sample train_loader batch_y shape: torch.Size([64, 1])\n",
      "\u001b[36m(train_rnn_model pid=52504)\u001b[0m Sample test_loader batch_x shape: torch.Size([64, 24, 6])\n",
      "\u001b[36m(train_rnn_model pid=52504)\u001b[0m Sample test_loader batch_y shape: torch.Size([64, 1])\n"
     ]
    },
    {
     "name": "stderr",
     "output_type": "stream",
     "text": [
      "2025-05-25 00:48:45,141\tINFO tune.py:1009 -- Wrote the latest version of all result files and experiment state to '/home/omen/Projects/2505_portfolio_r/ray_results/RNN_tune_1/train_rnn_model_2025-05-25_00-35-32' in 0.0059s.\n",
      "2025-05-25 00:48:45,148\tINFO tune.py:1041 -- Total run time: 790.62 seconds (790.34 seconds for the tuning loop).\n"
     ]
    },
    {
     "name": "stdout",
     "output_type": "stream",
     "text": [
      "\u001b[33m(raylet)\u001b[0m Warning: The actor ImplicitFunc is very large (37 MiB). Check that its definition is not implicitly capturing a large array or other object in scope. Tip: use ray.put() to put large objects in the Ray object store.\n"
     ]
    },
    {
     "name": "stderr",
     "output_type": "stream",
     "text": [
      "\u001b[36m(train_lstm1_model pid=52612)\u001b[0m /home/omen/miniconda3/envs/ray311/lib/python3.11/site-packages/torch/nn/modules/rnn.py:123: UserWarning: dropout option adds dropout after all but last recurrent layer, so non-zero dropout expects num_layers greater than 1, but got dropout=0.30889711256534197 and num_layers=1\n",
      "\u001b[36m(train_lstm1_model pid=52612)\u001b[0m   warnings.warn(\n"
     ]
    },
    {
     "name": "stdout",
     "output_type": "stream",
     "text": [
      "\u001b[36m(train_lstm1_model pid=52612)\u001b[0m Sample train_loader batch_x shape: torch.Size([128, 24, 6])\n",
      "\u001b[36m(train_lstm1_model pid=52612)\u001b[0m Sample train_loader batch_y shape: torch.Size([128, 1])\n",
      "\u001b[36m(train_lstm1_model pid=52612)\u001b[0m Sample test_loader batch_x shape: torch.Size([128, 24, 6])\n",
      "\u001b[36m(train_lstm1_model pid=52612)\u001b[0m Sample test_loader batch_y shape: torch.Size([128, 1])\n"
     ]
    },
    {
     "name": "stderr",
     "output_type": "stream",
     "text": [
      "\u001b[36m(train_lstm1_model pid=52787)\u001b[0m /home/omen/miniconda3/envs/ray311/lib/python3.11/site-packages/torch/nn/modules/rnn.py:123: UserWarning: dropout option adds dropout after all but last recurrent layer, so non-zero dropout expects num_layers greater than 1, but got dropout=0.4990469557519696 and num_layers=1\n",
      "\u001b[36m(train_lstm1_model pid=52787)\u001b[0m   warnings.warn(\n"
     ]
    },
    {
     "name": "stdout",
     "output_type": "stream",
     "text": [
      "\u001b[36m(train_lstm1_model pid=52787)\u001b[0m Sample train_loader batch_x shape: torch.Size([128, 24, 6])\n",
      "\u001b[36m(train_lstm1_model pid=52787)\u001b[0m Sample train_loader batch_y shape: torch.Size([128, 1])\n",
      "\u001b[36m(train_lstm1_model pid=52787)\u001b[0m Sample test_loader batch_x shape: torch.Size([128, 24, 6])\n",
      "\u001b[36m(train_lstm1_model pid=52787)\u001b[0m Sample test_loader batch_y shape: torch.Size([128, 1])\n",
      "\u001b[36m(train_lstm1_model pid=52893)\u001b[0m Sample train_loader batch_x shape: torch.Size([64, 24, 6])\n",
      "\u001b[36m(train_lstm1_model pid=52893)\u001b[0m Sample train_loader batch_y shape: torch.Size([64, 1])\n",
      "\u001b[36m(train_lstm1_model pid=52893)\u001b[0m Sample test_loader batch_x shape: torch.Size([64, 24, 6])\n",
      "\u001b[36m(train_lstm1_model pid=52893)\u001b[0m Sample test_loader batch_y shape: torch.Size([64, 1])\n"
     ]
    },
    {
     "name": "stderr",
     "output_type": "stream",
     "text": [
      "\u001b[36m(train_lstm1_model pid=52893)\u001b[0m /home/omen/miniconda3/envs/ray311/lib/python3.11/site-packages/torch/nn/modules/rnn.py:123: UserWarning: dropout option adds dropout after all but last recurrent layer, so non-zero dropout expects num_layers greater than 1, but got dropout=0.4765715134203342 and num_layers=1\n",
      "\u001b[36m(train_lstm1_model pid=52893)\u001b[0m   warnings.warn(\n",
      "\u001b[36m(train_lstm1_model pid=53024)\u001b[0m /home/omen/miniconda3/envs/ray311/lib/python3.11/site-packages/torch/nn/modules/rnn.py:123: UserWarning: dropout option adds dropout after all but last recurrent layer, so non-zero dropout expects num_layers greater than 1, but got dropout=0.23032128447796169 and num_layers=1\n",
      "\u001b[36m(train_lstm1_model pid=53024)\u001b[0m   warnings.warn(\n"
     ]
    },
    {
     "name": "stdout",
     "output_type": "stream",
     "text": [
      "\u001b[36m(train_lstm1_model pid=53024)\u001b[0m Sample train_loader batch_x shape: torch.Size([128, 24, 6])\n",
      "\u001b[36m(train_lstm1_model pid=53024)\u001b[0m Sample train_loader batch_y shape: torch.Size([128, 1])\n",
      "\u001b[36m(train_lstm1_model pid=53024)\u001b[0m Sample test_loader batch_x shape: torch.Size([128, 24, 6])\n",
      "\u001b[36m(train_lstm1_model pid=53024)\u001b[0m Sample test_loader batch_y shape: torch.Size([128, 1])\n"
     ]
    },
    {
     "name": "stderr",
     "output_type": "stream",
     "text": [
      "\u001b[36m(train_lstm1_model pid=53130)\u001b[0m /home/omen/miniconda3/envs/ray311/lib/python3.11/site-packages/torch/nn/modules/rnn.py:123: UserWarning: dropout option adds dropout after all but last recurrent layer, so non-zero dropout expects num_layers greater than 1, but got dropout=0.19821460757960463 and num_layers=1\n",
      "\u001b[36m(train_lstm1_model pid=53130)\u001b[0m   warnings.warn(\n"
     ]
    },
    {
     "name": "stdout",
     "output_type": "stream",
     "text": [
      "\u001b[36m(train_lstm1_model pid=53130)\u001b[0m Sample train_loader batch_x shape: torch.Size([64, 24, 6])\n",
      "\u001b[36m(train_lstm1_model pid=53130)\u001b[0m Sample train_loader batch_y shape: torch.Size([64, 1])\n",
      "\u001b[36m(train_lstm1_model pid=53130)\u001b[0m Sample test_loader batch_x shape: torch.Size([64, 24, 6])\n",
      "\u001b[36m(train_lstm1_model pid=53130)\u001b[0m Sample test_loader batch_y shape: torch.Size([64, 1])\n",
      "\u001b[36m(train_lstm1_model pid=53237)\u001b[0m Sample train_loader batch_x shape: torch.Size([128, 24, 6])\n",
      "\u001b[36m(train_lstm1_model pid=53237)\u001b[0m Sample train_loader batch_y shape: torch.Size([128, 1])\n",
      "\u001b[36m(train_lstm1_model pid=53237)\u001b[0m Sample test_loader batch_x shape: torch.Size([128, 24, 6])\n",
      "\u001b[36m(train_lstm1_model pid=53237)\u001b[0m Sample test_loader batch_y shape: torch.Size([128, 1])\n"
     ]
    },
    {
     "name": "stderr",
     "output_type": "stream",
     "text": [
      "\u001b[36m(train_lstm1_model pid=53237)\u001b[0m /home/omen/miniconda3/envs/ray311/lib/python3.11/site-packages/torch/nn/modules/rnn.py:123: UserWarning: dropout option adds dropout after all but last recurrent layer, so non-zero dropout expects num_layers greater than 1, but got dropout=0.23188617234615683 and num_layers=1\n",
      "\u001b[36m(train_lstm1_model pid=53237)\u001b[0m   warnings.warn(\n",
      "\u001b[36m(train_lstm1_model pid=53330)\u001b[0m /home/omen/miniconda3/envs/ray311/lib/python3.11/site-packages/torch/nn/modules/rnn.py:123: UserWarning: dropout option adds dropout after all but last recurrent layer, so non-zero dropout expects num_layers greater than 1, but got dropout=0.10452043385361542 and num_layers=1\n",
      "\u001b[36m(train_lstm1_model pid=53330)\u001b[0m   warnings.warn(\n"
     ]
    },
    {
     "name": "stdout",
     "output_type": "stream",
     "text": [
      "\u001b[36m(train_lstm1_model pid=53330)\u001b[0m Sample train_loader batch_x shape: torch.Size([128, 24, 6])\n",
      "\u001b[36m(train_lstm1_model pid=53330)\u001b[0m Sample train_loader batch_y shape: torch.Size([128, 1])\n",
      "\u001b[36m(train_lstm1_model pid=53330)\u001b[0m Sample test_loader batch_x shape: torch.Size([128, 24, 6])\n",
      "\u001b[36m(train_lstm1_model pid=53330)\u001b[0m Sample test_loader batch_y shape: torch.Size([128, 1])\n",
      "\u001b[36m(train_lstm1_model pid=53424)\u001b[0m Sample train_loader batch_x shape: torch.Size([128, 24, 6])\n",
      "\u001b[36m(train_lstm1_model pid=53424)\u001b[0m Sample train_loader batch_y shape: torch.Size([128, 1])\n",
      "\u001b[36m(train_lstm1_model pid=53424)\u001b[0m Sample test_loader batch_x shape: torch.Size([128, 24, 6])\n",
      "\u001b[36m(train_lstm1_model pid=53424)\u001b[0m Sample test_loader batch_y shape: torch.Size([128, 1])\n"
     ]
    },
    {
     "name": "stderr",
     "output_type": "stream",
     "text": [
      "\u001b[36m(train_lstm1_model pid=53424)\u001b[0m /home/omen/miniconda3/envs/ray311/lib/python3.11/site-packages/torch/nn/modules/rnn.py:123: UserWarning: dropout option adds dropout after all but last recurrent layer, so non-zero dropout expects num_layers greater than 1, but got dropout=0.08265661313913014 and num_layers=1\n",
      "\u001b[36m(train_lstm1_model pid=53424)\u001b[0m   warnings.warn(\n",
      "\u001b[36m(train_lstm1_model pid=53530)\u001b[0m /home/omen/miniconda3/envs/ray311/lib/python3.11/site-packages/torch/nn/modules/rnn.py:123: UserWarning: dropout option adds dropout after all but last recurrent layer, so non-zero dropout expects num_layers greater than 1, but got dropout=0.48286385359197764 and num_layers=1\n",
      "\u001b[36m(train_lstm1_model pid=53530)\u001b[0m   warnings.warn(\n"
     ]
    },
    {
     "name": "stdout",
     "output_type": "stream",
     "text": [
      "\u001b[36m(train_lstm1_model pid=53530)\u001b[0m Sample train_loader batch_x shape: torch.Size([128, 24, 6])\n",
      "\u001b[36m(train_lstm1_model pid=53530)\u001b[0m Sample train_loader batch_y shape: torch.Size([128, 1])\n",
      "\u001b[36m(train_lstm1_model pid=53530)\u001b[0m Sample test_loader batch_x shape: torch.Size([128, 24, 6])\n",
      "\u001b[36m(train_lstm1_model pid=53530)\u001b[0m Sample test_loader batch_y shape: torch.Size([128, 1])\n"
     ]
    },
    {
     "name": "stderr",
     "output_type": "stream",
     "text": [
      "\u001b[36m(train_lstm1_model pid=53630)\u001b[0m /home/omen/miniconda3/envs/ray311/lib/python3.11/site-packages/torch/nn/modules/rnn.py:123: UserWarning: dropout option adds dropout after all but last recurrent layer, so non-zero dropout expects num_layers greater than 1, but got dropout=0.4870478156724884 and num_layers=1\n",
      "\u001b[36m(train_lstm1_model pid=53630)\u001b[0m   warnings.warn(\n"
     ]
    },
    {
     "name": "stdout",
     "output_type": "stream",
     "text": [
      "\u001b[36m(train_lstm1_model pid=53630)\u001b[0m Sample train_loader batch_x shape: torch.Size([128, 24, 6])\n",
      "\u001b[36m(train_lstm1_model pid=53630)\u001b[0m Sample train_loader batch_y shape: torch.Size([128, 1])\n",
      "\u001b[36m(train_lstm1_model pid=53630)\u001b[0m Sample test_loader batch_x shape: torch.Size([128, 24, 6])\n",
      "\u001b[36m(train_lstm1_model pid=53630)\u001b[0m Sample test_loader batch_y shape: torch.Size([128, 1])\n"
     ]
    },
    {
     "name": "stderr",
     "output_type": "stream",
     "text": [
      "\u001b[36m(train_lstm1_model pid=53780)\u001b[0m /home/omen/miniconda3/envs/ray311/lib/python3.11/site-packages/torch/nn/modules/rnn.py:123: UserWarning: dropout option adds dropout after all but last recurrent layer, so non-zero dropout expects num_layers greater than 1, but got dropout=0.4049880230368632 and num_layers=1\n",
      "\u001b[36m(train_lstm1_model pid=53780)\u001b[0m   warnings.warn(\n"
     ]
    },
    {
     "name": "stdout",
     "output_type": "stream",
     "text": [
      "\u001b[36m(train_lstm1_model pid=53780)\u001b[0m Sample train_loader batch_x shape: torch.Size([128, 24, 6])\n",
      "\u001b[36m(train_lstm1_model pid=53780)\u001b[0m Sample train_loader batch_y shape: torch.Size([128, 1])\n",
      "\u001b[36m(train_lstm1_model pid=53780)\u001b[0m Sample test_loader batch_x shape: torch.Size([128, 24, 6])\n",
      "\u001b[36m(train_lstm1_model pid=53780)\u001b[0m Sample test_loader batch_y shape: torch.Size([128, 1])\n",
      "\u001b[36m(train_lstm1_model pid=53880)\u001b[0m Sample train_loader batch_x shape: torch.Size([64, 24, 6])\n",
      "\u001b[36m(train_lstm1_model pid=53880)\u001b[0m Sample train_loader batch_y shape: torch.Size([64, 1])\n",
      "\u001b[36m(train_lstm1_model pid=53880)\u001b[0m Sample test_loader batch_x shape: torch.Size([64, 24, 6])\n",
      "\u001b[36m(train_lstm1_model pid=53880)\u001b[0m Sample test_loader batch_y shape: torch.Size([64, 1])\n"
     ]
    },
    {
     "name": "stderr",
     "output_type": "stream",
     "text": [
      "\u001b[36m(train_lstm1_model pid=53880)\u001b[0m /home/omen/miniconda3/envs/ray311/lib/python3.11/site-packages/torch/nn/modules/rnn.py:123: UserWarning: dropout option adds dropout after all but last recurrent layer, so non-zero dropout expects num_layers greater than 1, but got dropout=0.34236968376294497 and num_layers=1\n",
      "\u001b[36m(train_lstm1_model pid=53880)\u001b[0m   warnings.warn(\n",
      "\u001b[36m(train_lstm1_model pid=54168)\u001b[0m /home/omen/miniconda3/envs/ray311/lib/python3.11/site-packages/torch/nn/modules/rnn.py:123: UserWarning: dropout option adds dropout after all but last recurrent layer, so non-zero dropout expects num_layers greater than 1, but got dropout=0.2108321153143544 and num_layers=1\n",
      "\u001b[36m(train_lstm1_model pid=54168)\u001b[0m   warnings.warn(\n"
     ]
    },
    {
     "name": "stdout",
     "output_type": "stream",
     "text": [
      "\u001b[36m(train_lstm1_model pid=54168)\u001b[0m Sample train_loader batch_x shape: torch.Size([64, 24, 6])\n",
      "\u001b[36m(train_lstm1_model pid=54168)\u001b[0m Sample train_loader batch_y shape: torch.Size([64, 1])\n",
      "\u001b[36m(train_lstm1_model pid=54168)\u001b[0m Sample test_loader batch_x shape: torch.Size([64, 24, 6])\n",
      "\u001b[36m(train_lstm1_model pid=54168)\u001b[0m Sample test_loader batch_y shape: torch.Size([64, 1])\n",
      "\u001b[36m(train_lstm1_model pid=54274)\u001b[0m Sample train_loader batch_x shape: torch.Size([64, 24, 6])\n",
      "\u001b[36m(train_lstm1_model pid=54274)\u001b[0m Sample train_loader batch_y shape: torch.Size([64, 1])\n",
      "\u001b[36m(train_lstm1_model pid=54274)\u001b[0m Sample test_loader batch_x shape: torch.Size([64, 24, 6])\n",
      "\u001b[36m(train_lstm1_model pid=54274)\u001b[0m Sample test_loader batch_y shape: torch.Size([64, 1])\n"
     ]
    },
    {
     "name": "stderr",
     "output_type": "stream",
     "text": [
      "\u001b[36m(train_lstm1_model pid=54274)\u001b[0m /home/omen/miniconda3/envs/ray311/lib/python3.11/site-packages/torch/nn/modules/rnn.py:123: UserWarning: dropout option adds dropout after all but last recurrent layer, so non-zero dropout expects num_layers greater than 1, but got dropout=0.32135365502964364 and num_layers=1\n",
      "\u001b[36m(train_lstm1_model pid=54274)\u001b[0m   warnings.warn(\n"
     ]
    },
    {
     "name": "stdout",
     "output_type": "stream",
     "text": [
      "\u001b[36m(train_lstm1_model pid=54493)\u001b[0m Sample train_loader batch_x shape: torch.Size([64, 24, 6])\n",
      "\u001b[36m(train_lstm1_model pid=54493)\u001b[0m Sample train_loader batch_y shape: torch.Size([64, 1])\n",
      "\u001b[36m(train_lstm1_model pid=54493)\u001b[0m Sample test_loader batch_x shape: torch.Size([64, 24, 6])\n",
      "\u001b[36m(train_lstm1_model pid=54493)\u001b[0m Sample test_loader batch_y shape: torch.Size([64, 1])\n"
     ]
    },
    {
     "name": "stderr",
     "output_type": "stream",
     "text": [
      "\u001b[36m(train_lstm1_model pid=54493)\u001b[0m /home/omen/miniconda3/envs/ray311/lib/python3.11/site-packages/torch/nn/modules/rnn.py:123: UserWarning: dropout option adds dropout after all but last recurrent layer, so non-zero dropout expects num_layers greater than 1, but got dropout=0.3361689659181704 and num_layers=1\n",
      "\u001b[36m(train_lstm1_model pid=54493)\u001b[0m   warnings.warn(\n"
     ]
    },
    {
     "name": "stdout",
     "output_type": "stream",
     "text": [
      "\u001b[36m(train_lstm1_model pid=54718)\u001b[0m Sample train_loader batch_x shape: torch.Size([64, 24, 6])\n",
      "\u001b[36m(train_lstm1_model pid=54718)\u001b[0m Sample train_loader batch_y shape: torch.Size([64, 1])\n",
      "\u001b[36m(train_lstm1_model pid=54718)\u001b[0m Sample test_loader batch_x shape: torch.Size([64, 24, 6])\n",
      "\u001b[36m(train_lstm1_model pid=54718)\u001b[0m Sample test_loader batch_y shape: torch.Size([64, 1])\n"
     ]
    },
    {
     "name": "stderr",
     "output_type": "stream",
     "text": [
      "\u001b[36m(train_lstm1_model pid=54718)\u001b[0m /home/omen/miniconda3/envs/ray311/lib/python3.11/site-packages/torch/nn/modules/rnn.py:123: UserWarning: dropout option adds dropout after all but last recurrent layer, so non-zero dropout expects num_layers greater than 1, but got dropout=0.32753993198510223 and num_layers=1\n",
      "\u001b[36m(train_lstm1_model pid=54718)\u001b[0m   warnings.warn(\n",
      "\u001b[36m(train_lstm1_model pid=54830)\u001b[0m /home/omen/miniconda3/envs/ray311/lib/python3.11/site-packages/torch/nn/modules/rnn.py:123: UserWarning: dropout option adds dropout after all but last recurrent layer, so non-zero dropout expects num_layers greater than 1, but got dropout=0.12920479070321794 and num_layers=1\n",
      "\u001b[36m(train_lstm1_model pid=54830)\u001b[0m   warnings.warn(\n"
     ]
    },
    {
     "name": "stdout",
     "output_type": "stream",
     "text": [
      "\u001b[36m(train_lstm1_model pid=54830)\u001b[0m Sample train_loader batch_x shape: torch.Size([64, 24, 6])\n",
      "\u001b[36m(train_lstm1_model pid=54830)\u001b[0m Sample train_loader batch_y shape: torch.Size([64, 1])\n",
      "\u001b[36m(train_lstm1_model pid=54830)\u001b[0m Sample test_loader batch_x shape: torch.Size([64, 24, 6])\n",
      "\u001b[36m(train_lstm1_model pid=54830)\u001b[0m Sample test_loader batch_y shape: torch.Size([64, 1])\n",
      "\u001b[36m(train_lstm1_model pid=55132)\u001b[0m Sample train_loader batch_x shape: torch.Size([64, 24, 6])\n",
      "\u001b[36m(train_lstm1_model pid=55132)\u001b[0m Sample train_loader batch_y shape: torch.Size([64, 1])\n",
      "\u001b[36m(train_lstm1_model pid=55132)\u001b[0m Sample test_loader batch_x shape: torch.Size([64, 24, 6])\n",
      "\u001b[36m(train_lstm1_model pid=55132)\u001b[0m Sample test_loader batch_y shape: torch.Size([64, 1])\n"
     ]
    },
    {
     "name": "stderr",
     "output_type": "stream",
     "text": [
      "\u001b[36m(train_lstm1_model pid=55132)\u001b[0m /home/omen/miniconda3/envs/ray311/lib/python3.11/site-packages/torch/nn/modules/rnn.py:123: UserWarning: dropout option adds dropout after all but last recurrent layer, so non-zero dropout expects num_layers greater than 1, but got dropout=0.16343784675355633 and num_layers=1\n",
      "\u001b[36m(train_lstm1_model pid=55132)\u001b[0m   warnings.warn(\n"
     ]
    },
    {
     "name": "stdout",
     "output_type": "stream",
     "text": [
      "\u001b[36m(train_lstm1_model pid=55419)\u001b[0m Sample train_loader batch_x shape: torch.Size([64, 24, 6])\n",
      "\u001b[36m(train_lstm1_model pid=55419)\u001b[0m Sample train_loader batch_y shape: torch.Size([64, 1])\n",
      "\u001b[36m(train_lstm1_model pid=55419)\u001b[0m Sample test_loader batch_x shape: torch.Size([64, 24, 6])\n",
      "\u001b[36m(train_lstm1_model pid=55419)\u001b[0m Sample test_loader batch_y shape: torch.Size([64, 1])\n"
     ]
    },
    {
     "name": "stderr",
     "output_type": "stream",
     "text": [
      "\u001b[36m(train_lstm1_model pid=55419)\u001b[0m /home/omen/miniconda3/envs/ray311/lib/python3.11/site-packages/torch/nn/modules/rnn.py:123: UserWarning: dropout option adds dropout after all but last recurrent layer, so non-zero dropout expects num_layers greater than 1, but got dropout=0.02071036206803767 and num_layers=1\n",
      "\u001b[36m(train_lstm1_model pid=55419)\u001b[0m   warnings.warn(\n"
     ]
    },
    {
     "name": "stdout",
     "output_type": "stream",
     "text": [
      "\u001b[36m(train_lstm1_model pid=55546)\u001b[0m Sample train_loader batch_x shape: torch.Size([64, 24, 6])\n",
      "\u001b[36m(train_lstm1_model pid=55546)\u001b[0m Sample train_loader batch_y shape: torch.Size([64, 1])\n",
      "\u001b[36m(train_lstm1_model pid=55546)\u001b[0m Sample test_loader batch_x shape: torch.Size([64, 24, 6])\n",
      "\u001b[36m(train_lstm1_model pid=55546)\u001b[0m Sample test_loader batch_y shape: torch.Size([64, 1])\n"
     ]
    },
    {
     "name": "stderr",
     "output_type": "stream",
     "text": [
      "\u001b[36m(train_lstm1_model pid=55546)\u001b[0m /home/omen/miniconda3/envs/ray311/lib/python3.11/site-packages/torch/nn/modules/rnn.py:123: UserWarning: dropout option adds dropout after all but last recurrent layer, so non-zero dropout expects num_layers greater than 1, but got dropout=0.0007944193725171189 and num_layers=1\n",
      "\u001b[36m(train_lstm1_model pid=55546)\u001b[0m   warnings.warn(\n",
      "\u001b[36m(train_lstm1_model pid=55664)\u001b[0m /home/omen/miniconda3/envs/ray311/lib/python3.11/site-packages/torch/nn/modules/rnn.py:123: UserWarning: dropout option adds dropout after all but last recurrent layer, so non-zero dropout expects num_layers greater than 1, but got dropout=0.13779437677657655 and num_layers=1\n",
      "\u001b[36m(train_lstm1_model pid=55664)\u001b[0m   warnings.warn(\n"
     ]
    },
    {
     "name": "stdout",
     "output_type": "stream",
     "text": [
      "\u001b[36m(train_lstm1_model pid=55664)\u001b[0m Sample train_loader batch_x shape: torch.Size([64, 24, 6])\n",
      "\u001b[36m(train_lstm1_model pid=55664)\u001b[0m Sample train_loader batch_y shape: torch.Size([64, 1])\n",
      "\u001b[36m(train_lstm1_model pid=55664)\u001b[0m Sample test_loader batch_x shape: torch.Size([64, 24, 6])\n",
      "\u001b[36m(train_lstm1_model pid=55664)\u001b[0m Sample test_loader batch_y shape: torch.Size([64, 1])\n",
      "\u001b[36m(train_lstm1_model pid=55780)\u001b[0m Sample train_loader batch_x shape: torch.Size([64, 24, 6])\n",
      "\u001b[36m(train_lstm1_model pid=55780)\u001b[0m Sample train_loader batch_y shape: torch.Size([64, 1])\n",
      "\u001b[36m(train_lstm1_model pid=55780)\u001b[0m Sample test_loader batch_x shape: torch.Size([64, 24, 6])\n",
      "\u001b[36m(train_lstm1_model pid=55780)\u001b[0m Sample test_loader batch_y shape: torch.Size([64, 1])\n"
     ]
    },
    {
     "name": "stderr",
     "output_type": "stream",
     "text": [
      "\u001b[36m(train_lstm1_model pid=55780)\u001b[0m /home/omen/miniconda3/envs/ray311/lib/python3.11/site-packages/torch/nn/modules/rnn.py:123: UserWarning: dropout option adds dropout after all but last recurrent layer, so non-zero dropout expects num_layers greater than 1, but got dropout=0.14134570145386308 and num_layers=1\n",
      "\u001b[36m(train_lstm1_model pid=55780)\u001b[0m   warnings.warn(\n"
     ]
    },
    {
     "name": "stdout",
     "output_type": "stream",
     "text": [
      "\u001b[36m(train_lstm1_model pid=55895)\u001b[0m Sample train_loader batch_x shape: torch.Size([64, 24, 6])\n",
      "\u001b[36m(train_lstm1_model pid=55895)\u001b[0m Sample train_loader batch_y shape: torch.Size([64, 1])\n",
      "\u001b[36m(train_lstm1_model pid=55895)\u001b[0m Sample test_loader batch_x shape: torch.Size([64, 24, 6])\n",
      "\u001b[36m(train_lstm1_model pid=55895)\u001b[0m Sample test_loader batch_y shape: torch.Size([64, 1])\n"
     ]
    },
    {
     "name": "stderr",
     "output_type": "stream",
     "text": [
      "\u001b[36m(train_lstm1_model pid=55895)\u001b[0m /home/omen/miniconda3/envs/ray311/lib/python3.11/site-packages/torch/nn/modules/rnn.py:123: UserWarning: dropout option adds dropout after all but last recurrent layer, so non-zero dropout expects num_layers greater than 1, but got dropout=0.1578652887011048 and num_layers=1\n",
      "\u001b[36m(train_lstm1_model pid=55895)\u001b[0m   warnings.warn(\n"
     ]
    },
    {
     "name": "stdout",
     "output_type": "stream",
     "text": [
      "\u001b[36m(train_lstm1_model pid=56194)\u001b[0m Sample train_loader batch_x shape: torch.Size([64, 24, 6])\n",
      "\u001b[36m(train_lstm1_model pid=56194)\u001b[0m Sample train_loader batch_y shape: torch.Size([64, 1])\n",
      "\u001b[36m(train_lstm1_model pid=56194)\u001b[0m Sample test_loader batch_x shape: torch.Size([64, 24, 6])\n",
      "\u001b[36m(train_lstm1_model pid=56194)\u001b[0m Sample test_loader batch_y shape: torch.Size([64, 1])\n"
     ]
    },
    {
     "name": "stderr",
     "output_type": "stream",
     "text": [
      "\u001b[36m(train_lstm1_model pid=56194)\u001b[0m /home/omen/miniconda3/envs/ray311/lib/python3.11/site-packages/torch/nn/modules/rnn.py:123: UserWarning: dropout option adds dropout after all but last recurrent layer, so non-zero dropout expects num_layers greater than 1, but got dropout=0.17057002901095947 and num_layers=1\n",
      "\u001b[36m(train_lstm1_model pid=56194)\u001b[0m   warnings.warn(\n"
     ]
    },
    {
     "name": "stdout",
     "output_type": "stream",
     "text": [
      "\u001b[36m(train_lstm1_model pid=56482)\u001b[0m Sample train_loader batch_x shape: torch.Size([64, 24, 6])\n",
      "\u001b[36m(train_lstm1_model pid=56482)\u001b[0m Sample train_loader batch_y shape: torch.Size([64, 1])\n",
      "\u001b[36m(train_lstm1_model pid=56482)\u001b[0m Sample test_loader batch_x shape: torch.Size([64, 24, 6])\n",
      "\u001b[36m(train_lstm1_model pid=56482)\u001b[0m Sample test_loader batch_y shape: torch.Size([64, 1])\n"
     ]
    },
    {
     "name": "stderr",
     "output_type": "stream",
     "text": [
      "\u001b[36m(train_lstm1_model pid=56482)\u001b[0m /home/omen/miniconda3/envs/ray311/lib/python3.11/site-packages/torch/nn/modules/rnn.py:123: UserWarning: dropout option adds dropout after all but last recurrent layer, so non-zero dropout expects num_layers greater than 1, but got dropout=0.16555315028945927 and num_layers=1\n",
      "\u001b[36m(train_lstm1_model pid=56482)\u001b[0m   warnings.warn(\n",
      "\u001b[36m(train_lstm1_model pid=56772)\u001b[0m /home/omen/miniconda3/envs/ray311/lib/python3.11/site-packages/torch/nn/modules/rnn.py:123: UserWarning: dropout option adds dropout after all but last recurrent layer, so non-zero dropout expects num_layers greater than 1, but got dropout=0.05095255638920146 and num_layers=1\n",
      "\u001b[36m(train_lstm1_model pid=56772)\u001b[0m   warnings.warn(\n"
     ]
    },
    {
     "name": "stdout",
     "output_type": "stream",
     "text": [
      "\u001b[36m(train_lstm1_model pid=56772)\u001b[0m Sample train_loader batch_x shape: torch.Size([64, 24, 6])\n",
      "\u001b[36m(train_lstm1_model pid=56772)\u001b[0m Sample train_loader batch_y shape: torch.Size([64, 1])\n",
      "\u001b[36m(train_lstm1_model pid=56772)\u001b[0m Sample test_loader batch_x shape: torch.Size([64, 24, 6])\n",
      "\u001b[36m(train_lstm1_model pid=56772)\u001b[0m Sample test_loader batch_y shape: torch.Size([64, 1])\n",
      "\u001b[36m(train_lstm1_model pid=56931)\u001b[0m Sample train_loader batch_x shape: torch.Size([64, 24, 6])\n",
      "\u001b[36m(train_lstm1_model pid=56931)\u001b[0m Sample train_loader batch_y shape: torch.Size([64, 1])\n",
      "\u001b[36m(train_lstm1_model pid=56931)\u001b[0m Sample test_loader batch_x shape: torch.Size([64, 24, 6])\n",
      "\u001b[36m(train_lstm1_model pid=56931)\u001b[0m Sample test_loader batch_y shape: torch.Size([64, 1])\n"
     ]
    },
    {
     "name": "stderr",
     "output_type": "stream",
     "text": [
      "\u001b[36m(train_lstm1_model pid=56931)\u001b[0m /home/omen/miniconda3/envs/ray311/lib/python3.11/site-packages/torch/nn/modules/rnn.py:123: UserWarning: dropout option adds dropout after all but last recurrent layer, so non-zero dropout expects num_layers greater than 1, but got dropout=0.06454837104138907 and num_layers=1\n",
      "\u001b[36m(train_lstm1_model pid=56931)\u001b[0m   warnings.warn(\n"
     ]
    },
    {
     "name": "stdout",
     "output_type": "stream",
     "text": [
      "\u001b[36m(train_lstm1_model pid=57083)\u001b[0m Sample train_loader batch_x shape: torch.Size([64, 24, 6])\n",
      "\u001b[36m(train_lstm1_model pid=57083)\u001b[0m Sample train_loader batch_y shape: torch.Size([64, 1])\n",
      "\u001b[36m(train_lstm1_model pid=57083)\u001b[0m Sample test_loader batch_x shape: torch.Size([64, 24, 6])\n",
      "\u001b[36m(train_lstm1_model pid=57083)\u001b[0m Sample test_loader batch_y shape: torch.Size([64, 1])\n"
     ]
    },
    {
     "name": "stderr",
     "output_type": "stream",
     "text": [
      "\u001b[36m(train_lstm1_model pid=57083)\u001b[0m /home/omen/miniconda3/envs/ray311/lib/python3.11/site-packages/torch/nn/modules/rnn.py:123: UserWarning: dropout option adds dropout after all but last recurrent layer, so non-zero dropout expects num_layers greater than 1, but got dropout=0.27882932174417047 and num_layers=1\n",
      "\u001b[36m(train_lstm1_model pid=57083)\u001b[0m   warnings.warn(\n",
      "\u001b[36m(train_lstm1_model pid=57201)\u001b[0m /home/omen/miniconda3/envs/ray311/lib/python3.11/site-packages/torch/nn/modules/rnn.py:123: UserWarning: dropout option adds dropout after all but last recurrent layer, so non-zero dropout expects num_layers greater than 1, but got dropout=0.2663008658954891 and num_layers=1\n",
      "\u001b[36m(train_lstm1_model pid=57201)\u001b[0m   warnings.warn(\n"
     ]
    },
    {
     "name": "stdout",
     "output_type": "stream",
     "text": [
      "\u001b[36m(train_lstm1_model pid=57201)\u001b[0m Sample train_loader batch_x shape: torch.Size([64, 24, 6])\n",
      "\u001b[36m(train_lstm1_model pid=57201)\u001b[0m Sample train_loader batch_y shape: torch.Size([64, 1])\n",
      "\u001b[36m(train_lstm1_model pid=57201)\u001b[0m Sample test_loader batch_x shape: torch.Size([64, 24, 6])\n",
      "\u001b[36m(train_lstm1_model pid=57201)\u001b[0m Sample test_loader batch_y shape: torch.Size([64, 1])\n"
     ]
    },
    {
     "name": "stderr",
     "output_type": "stream",
     "text": [
      "\u001b[36m(train_lstm1_model pid=57319)\u001b[0m /home/omen/miniconda3/envs/ray311/lib/python3.11/site-packages/torch/nn/modules/rnn.py:123: UserWarning: dropout option adds dropout after all but last recurrent layer, so non-zero dropout expects num_layers greater than 1, but got dropout=0.17954429737761401 and num_layers=1\n",
      "\u001b[36m(train_lstm1_model pid=57319)\u001b[0m   warnings.warn(\n"
     ]
    },
    {
     "name": "stdout",
     "output_type": "stream",
     "text": [
      "\u001b[36m(train_lstm1_model pid=57319)\u001b[0m Sample train_loader batch_x shape: torch.Size([64, 24, 6])\n",
      "\u001b[36m(train_lstm1_model pid=57319)\u001b[0m Sample train_loader batch_y shape: torch.Size([64, 1])\n",
      "\u001b[36m(train_lstm1_model pid=57319)\u001b[0m Sample test_loader batch_x shape: torch.Size([64, 24, 6])\n",
      "\u001b[36m(train_lstm1_model pid=57319)\u001b[0m Sample test_loader batch_y shape: torch.Size([64, 1])\n",
      "\u001b[33m(raylet)\u001b[0m Warning: The actor ImplicitFunc is very large (37 MiB). Check that its definition is not implicitly capturing a large array or other object in scope. Tip: use ray.put() to put large objects in the Ray object store.\n",
      "\u001b[36m(train_lstm2_model pid=57426)\u001b[0m Sample train_loader batch_x shape: torch.Size([64, 24, 6])\n",
      "\u001b[36m(train_lstm2_model pid=57426)\u001b[0m Sample train_loader batch_y shape: torch.Size([64, 1])\n",
      "\u001b[36m(train_lstm2_model pid=57426)\u001b[0m Sample test_loader batch_x shape: torch.Size([64, 24, 6])\n",
      "\u001b[36m(train_lstm2_model pid=57426)\u001b[0m Sample test_loader batch_y shape: torch.Size([64, 1])\n",
      "\u001b[36m(train_lstm2_model pid=57701)\u001b[0m Sample train_loader batch_x shape: torch.Size([64, 24, 6])\n",
      "\u001b[36m(train_lstm2_model pid=57701)\u001b[0m Sample train_loader batch_y shape: torch.Size([64, 1])\n",
      "\u001b[36m(train_lstm2_model pid=57701)\u001b[0m Sample test_loader batch_x shape: torch.Size([64, 24, 6])\n",
      "\u001b[36m(train_lstm2_model pid=57701)\u001b[0m Sample test_loader batch_y shape: torch.Size([64, 1])\n",
      "\u001b[36m(train_lstm2_model pid=57963)\u001b[0m Sample train_loader batch_x shape: torch.Size([128, 24, 6])\n",
      "\u001b[36m(train_lstm2_model pid=57963)\u001b[0m Sample train_loader batch_y shape: torch.Size([128, 1])\n",
      "\u001b[36m(train_lstm2_model pid=57963)\u001b[0m Sample test_loader batch_x shape: torch.Size([128, 24, 6])\n",
      "\u001b[36m(train_lstm2_model pid=57963)\u001b[0m Sample test_loader batch_y shape: torch.Size([128, 1])\n",
      "\u001b[36m(train_lstm2_model pid=58116)\u001b[0m Sample train_loader batch_x shape: torch.Size([128, 24, 6])\n",
      "\u001b[36m(train_lstm2_model pid=58116)\u001b[0m Sample train_loader batch_y shape: torch.Size([128, 1])\n",
      "\u001b[36m(train_lstm2_model pid=58116)\u001b[0m Sample test_loader batch_x shape: torch.Size([128, 24, 6])\n",
      "\u001b[36m(train_lstm2_model pid=58116)\u001b[0m Sample test_loader batch_y shape: torch.Size([128, 1])\n",
      "\u001b[36m(train_lstm2_model pid=58210)\u001b[0m Sample train_loader batch_x shape: torch.Size([128, 24, 6])\n",
      "\u001b[36m(train_lstm2_model pid=58210)\u001b[0m Sample train_loader batch_y shape: torch.Size([128, 1])\n",
      "\u001b[36m(train_lstm2_model pid=58210)\u001b[0m Sample test_loader batch_x shape: torch.Size([128, 24, 6])\n",
      "\u001b[36m(train_lstm2_model pid=58210)\u001b[0m Sample test_loader batch_y shape: torch.Size([128, 1])\n",
      "\u001b[36m(train_lstm2_model pid=58353)\u001b[0m Sample train_loader batch_x shape: torch.Size([64, 24, 6])\n",
      "\u001b[36m(train_lstm2_model pid=58353)\u001b[0m Sample train_loader batch_y shape: torch.Size([64, 1])\n",
      "\u001b[36m(train_lstm2_model pid=58353)\u001b[0m Sample test_loader batch_x shape: torch.Size([64, 24, 6])\n",
      "\u001b[36m(train_lstm2_model pid=58353)\u001b[0m Sample test_loader batch_y shape: torch.Size([64, 1])\n",
      "\u001b[36m(train_lstm2_model pid=58467)\u001b[0m Sample train_loader batch_x shape: torch.Size([64, 24, 6])\n",
      "\u001b[36m(train_lstm2_model pid=58467)\u001b[0m Sample train_loader batch_y shape: torch.Size([64, 1])\n",
      "\u001b[36m(train_lstm2_model pid=58467)\u001b[0m Sample test_loader batch_x shape: torch.Size([64, 24, 6])\n",
      "\u001b[36m(train_lstm2_model pid=58467)\u001b[0m Sample test_loader batch_y shape: torch.Size([64, 1])\n",
      "\u001b[36m(train_lstm2_model pid=58585)\u001b[0m Sample train_loader batch_x shape: torch.Size([128, 24, 6])\n",
      "\u001b[36m(train_lstm2_model pid=58585)\u001b[0m Sample train_loader batch_y shape: torch.Size([128, 1])\n",
      "\u001b[36m(train_lstm2_model pid=58585)\u001b[0m Sample test_loader batch_x shape: torch.Size([128, 24, 6])\n",
      "\u001b[36m(train_lstm2_model pid=58585)\u001b[0m Sample test_loader batch_y shape: torch.Size([128, 1])\n",
      "\u001b[36m(train_lstm2_model pid=58685)\u001b[0m Sample train_loader batch_x shape: torch.Size([128, 24, 6])\n",
      "\u001b[36m(train_lstm2_model pid=58685)\u001b[0m Sample train_loader batch_y shape: torch.Size([128, 1])\n",
      "\u001b[36m(train_lstm2_model pid=58685)\u001b[0m Sample test_loader batch_x shape: torch.Size([128, 24, 6])\n",
      "\u001b[36m(train_lstm2_model pid=58685)\u001b[0m Sample test_loader batch_y shape: torch.Size([128, 1])\n",
      "\u001b[36m(train_lstm2_model pid=58785)\u001b[0m Sample test_loader batch_x shape: torch.Size([64, 24, 6])\n",
      "\u001b[36m(train_lstm2_model pid=58785)\u001b[0m Sample test_loader batch_y shape: torch.Size([64, 1])\n",
      "\u001b[36m(train_lstm2_model pid=58785)\u001b[0m Sample train_loader batch_x shape: torch.Size([64, 24, 6])\n",
      "\u001b[36m(train_lstm2_model pid=58785)\u001b[0m Sample train_loader batch_y shape: torch.Size([64, 1])\n",
      "\u001b[36m(train_lstm2_model pid=58897)\u001b[0m Sample train_loader batch_x shape: torch.Size([128, 24, 6])\n",
      "\u001b[36m(train_lstm2_model pid=58897)\u001b[0m Sample train_loader batch_y shape: torch.Size([128, 1])\n",
      "\u001b[36m(train_lstm2_model pid=58897)\u001b[0m Sample test_loader batch_x shape: torch.Size([128, 24, 6])\n",
      "\u001b[36m(train_lstm2_model pid=58897)\u001b[0m Sample test_loader batch_y shape: torch.Size([128, 1])\n",
      "\u001b[36m(train_lstm2_model pid=59042)\u001b[0m Sample test_loader batch_x shape: torch.Size([128, 24, 6])\n",
      "\u001b[36m(train_lstm2_model pid=59042)\u001b[0m Sample test_loader batch_y shape: torch.Size([128, 1])\n",
      "\u001b[36m(train_lstm2_model pid=59042)\u001b[0m Sample train_loader batch_x shape: torch.Size([128, 24, 6])\n",
      "\u001b[36m(train_lstm2_model pid=59042)\u001b[0m Sample train_loader batch_y shape: torch.Size([128, 1])\n",
      "\u001b[36m(train_lstm2_model pid=59229)\u001b[0m Sample train_loader batch_x shape: torch.Size([64, 24, 6])\n",
      "\u001b[36m(train_lstm2_model pid=59229)\u001b[0m Sample train_loader batch_y shape: torch.Size([64, 1])\n",
      "\u001b[36m(train_lstm2_model pid=59229)\u001b[0m Sample test_loader batch_x shape: torch.Size([64, 24, 6])\n",
      "\u001b[36m(train_lstm2_model pid=59229)\u001b[0m Sample test_loader batch_y shape: torch.Size([64, 1])\n",
      "\u001b[36m(train_lstm2_model pid=59348)\u001b[0m Sample test_loader batch_x shape: torch.Size([64, 24, 6])\n",
      "\u001b[36m(train_lstm2_model pid=59348)\u001b[0m Sample test_loader batch_y shape: torch.Size([64, 1])\n",
      "\u001b[36m(train_lstm2_model pid=59348)\u001b[0m Sample train_loader batch_x shape: torch.Size([64, 24, 6])\n",
      "\u001b[36m(train_lstm2_model pid=59348)\u001b[0m Sample train_loader batch_y shape: torch.Size([64, 1])\n",
      "\u001b[36m(train_lstm2_model pid=59460)\u001b[0m Sample train_loader batch_x shape: torch.Size([64, 24, 6])\n",
      "\u001b[36m(train_lstm2_model pid=59460)\u001b[0m Sample train_loader batch_y shape: torch.Size([64, 1])\n",
      "\u001b[36m(train_lstm2_model pid=59460)\u001b[0m Sample test_loader batch_x shape: torch.Size([64, 24, 6])\n",
      "\u001b[36m(train_lstm2_model pid=59460)\u001b[0m Sample test_loader batch_y shape: torch.Size([64, 1])\n",
      "\u001b[36m(train_lstm2_model pid=59723)\u001b[0m Sample test_loader batch_x shape: torch.Size([64, 24, 6])\n",
      "\u001b[36m(train_lstm2_model pid=59723)\u001b[0m Sample test_loader batch_y shape: torch.Size([64, 1])\n",
      "\u001b[36m(train_lstm2_model pid=59723)\u001b[0m Sample train_loader batch_x shape: torch.Size([64, 24, 6])\n",
      "\u001b[36m(train_lstm2_model pid=59723)\u001b[0m Sample train_loader batch_y shape: torch.Size([64, 1])\n",
      "\u001b[36m(train_lstm2_model pid=59841)\u001b[0m Sample train_loader batch_x shape: torch.Size([128, 24, 6])\n",
      "\u001b[36m(train_lstm2_model pid=59841)\u001b[0m Sample train_loader batch_y shape: torch.Size([128, 1])\n",
      "\u001b[36m(train_lstm2_model pid=59841)\u001b[0m Sample test_loader batch_x shape: torch.Size([128, 24, 6])\n",
      "\u001b[36m(train_lstm2_model pid=59841)\u001b[0m Sample test_loader batch_y shape: torch.Size([128, 1])\n",
      "\u001b[36m(train_lstm2_model pid=59984)\u001b[0m Sample test_loader batch_x shape: torch.Size([128, 24, 6])\n",
      "\u001b[36m(train_lstm2_model pid=59984)\u001b[0m Sample test_loader batch_y shape: torch.Size([128, 1])\n",
      "\u001b[36m(train_lstm2_model pid=59984)\u001b[0m Sample train_loader batch_x shape: torch.Size([128, 24, 6])\n",
      "\u001b[36m(train_lstm2_model pid=59984)\u001b[0m Sample train_loader batch_y shape: torch.Size([128, 1])\n",
      "\u001b[36m(train_lstm2_model pid=60091)\u001b[0m Sample train_loader batch_x shape: torch.Size([128, 24, 6])\n",
      "\u001b[36m(train_lstm2_model pid=60091)\u001b[0m Sample train_loader batch_y shape: torch.Size([128, 1])\n",
      "\u001b[36m(train_lstm2_model pid=60091)\u001b[0m Sample test_loader batch_x shape: torch.Size([128, 24, 6])\n",
      "\u001b[36m(train_lstm2_model pid=60091)\u001b[0m Sample test_loader batch_y shape: torch.Size([128, 1])\n",
      "\u001b[36m(train_lstm2_model pid=60241)\u001b[0m Sample test_loader batch_x shape: torch.Size([128, 24, 6])\n",
      "\u001b[36m(train_lstm2_model pid=60241)\u001b[0m Sample test_loader batch_y shape: torch.Size([128, 1])\n",
      "\u001b[36m(train_lstm2_model pid=60241)\u001b[0m Sample train_loader batch_x shape: torch.Size([128, 24, 6])\n",
      "\u001b[36m(train_lstm2_model pid=60241)\u001b[0m Sample train_loader batch_y shape: torch.Size([128, 1])\n",
      "\u001b[36m(train_lstm2_model pid=60410)\u001b[0m Sample train_loader batch_x shape: torch.Size([128, 24, 6])\n",
      "\u001b[36m(train_lstm2_model pid=60410)\u001b[0m Sample train_loader batch_y shape: torch.Size([128, 1])\n",
      "\u001b[36m(train_lstm2_model pid=60410)\u001b[0m Sample test_loader batch_x shape: torch.Size([128, 24, 6])\n",
      "\u001b[36m(train_lstm2_model pid=60410)\u001b[0m Sample test_loader batch_y shape: torch.Size([128, 1])\n",
      "\u001b[36m(train_lstm2_model pid=60553)\u001b[0m Sample test_loader batch_x shape: torch.Size([128, 24, 6])\n",
      "\u001b[36m(train_lstm2_model pid=60553)\u001b[0m Sample test_loader batch_y shape: torch.Size([128, 1])\n",
      "\u001b[36m(train_lstm2_model pid=60553)\u001b[0m Sample train_loader batch_x shape: torch.Size([128, 24, 6])\n",
      "\u001b[36m(train_lstm2_model pid=60553)\u001b[0m Sample train_loader batch_y shape: torch.Size([128, 1])\n",
      "\u001b[36m(train_lstm2_model pid=60690)\u001b[0m Sample train_loader batch_x shape: torch.Size([128, 24, 6])\n",
      "\u001b[36m(train_lstm2_model pid=60690)\u001b[0m Sample train_loader batch_y shape: torch.Size([128, 1])\n",
      "\u001b[36m(train_lstm2_model pid=60690)\u001b[0m Sample test_loader batch_x shape: torch.Size([128, 24, 6])\n",
      "\u001b[36m(train_lstm2_model pid=60690)\u001b[0m Sample test_loader batch_y shape: torch.Size([128, 1])\n",
      "\u001b[36m(train_lstm2_model pid=60790)\u001b[0m Sample test_loader batch_x shape: torch.Size([128, 24, 6])\n",
      "\u001b[36m(train_lstm2_model pid=60790)\u001b[0m Sample test_loader batch_y shape: torch.Size([128, 1])\n",
      "\u001b[36m(train_lstm2_model pid=60790)\u001b[0m Sample train_loader batch_x shape: torch.Size([128, 24, 6])\n",
      "\u001b[36m(train_lstm2_model pid=60790)\u001b[0m Sample train_loader batch_y shape: torch.Size([128, 1])\n",
      "\u001b[36m(train_lstm2_model pid=60890)\u001b[0m Sample train_loader batch_x shape: torch.Size([128, 24, 6])\n",
      "\u001b[36m(train_lstm2_model pid=60890)\u001b[0m Sample train_loader batch_y shape: torch.Size([128, 1])\n",
      "\u001b[36m(train_lstm2_model pid=60890)\u001b[0m Sample test_loader batch_x shape: torch.Size([128, 24, 6])\n",
      "\u001b[36m(train_lstm2_model pid=60890)\u001b[0m Sample test_loader batch_y shape: torch.Size([128, 1])\n",
      "\u001b[36m(train_lstm2_model pid=60992)\u001b[0m Sample test_loader batch_x shape: torch.Size([128, 24, 6])\n",
      "\u001b[36m(train_lstm2_model pid=60992)\u001b[0m Sample test_loader batch_y shape: torch.Size([128, 1])\n",
      "\u001b[36m(train_lstm2_model pid=60992)\u001b[0m Sample train_loader batch_x shape: torch.Size([128, 24, 6])\n",
      "\u001b[36m(train_lstm2_model pid=60992)\u001b[0m Sample train_loader batch_y shape: torch.Size([128, 1])\n",
      "\u001b[36m(train_lstm2_model pid=61091)\u001b[0m Sample train_loader batch_x shape: torch.Size([128, 24, 6])\n",
      "\u001b[36m(train_lstm2_model pid=61091)\u001b[0m Sample train_loader batch_y shape: torch.Size([128, 1])\n",
      "\u001b[36m(train_lstm2_model pid=61091)\u001b[0m Sample test_loader batch_x shape: torch.Size([128, 24, 6])\n",
      "\u001b[36m(train_lstm2_model pid=61091)\u001b[0m Sample test_loader batch_y shape: torch.Size([128, 1])\n",
      "\u001b[36m(train_lstm2_model pid=61191)\u001b[0m Sample test_loader batch_x shape: torch.Size([128, 24, 6])\n",
      "\u001b[36m(train_lstm2_model pid=61191)\u001b[0m Sample test_loader batch_y shape: torch.Size([128, 1])\n",
      "\u001b[36m(train_lstm2_model pid=61191)\u001b[0m Sample train_loader batch_x shape: torch.Size([128, 24, 6])\n",
      "\u001b[36m(train_lstm2_model pid=61191)\u001b[0m Sample train_loader batch_y shape: torch.Size([128, 1])\n",
      "\u001b[36m(train_lstm2_model pid=61335)\u001b[0m Sample train_loader batch_x shape: torch.Size([128, 24, 6])\n",
      "\u001b[36m(train_lstm2_model pid=61335)\u001b[0m Sample train_loader batch_y shape: torch.Size([128, 1])\n",
      "\u001b[36m(train_lstm2_model pid=61335)\u001b[0m Sample test_loader batch_x shape: torch.Size([128, 24, 6])\n",
      "\u001b[36m(train_lstm2_model pid=61335)\u001b[0m Sample test_loader batch_y shape: torch.Size([128, 1])\n",
      "\u001b[36m(train_lstm2_model pid=61434)\u001b[0m Sample test_loader batch_x shape: torch.Size([128, 24, 6])\n",
      "\u001b[36m(train_lstm2_model pid=61434)\u001b[0m Sample test_loader batch_y shape: torch.Size([128, 1])\n",
      "\u001b[36m(train_lstm2_model pid=61434)\u001b[0m Sample train_loader batch_x shape: torch.Size([128, 24, 6])\n",
      "\u001b[36m(train_lstm2_model pid=61434)\u001b[0m Sample train_loader batch_y shape: torch.Size([128, 1])\n",
      "\u001b[33m(raylet)\u001b[0m Warning: The actor ImplicitFunc is very large (37 MiB). Check that its definition is not implicitly capturing a large array or other object in scope. Tip: use ray.put() to put large objects in the Ray object store.\n",
      "\u001b[36m(train_gru1_model pid=61536)\u001b[0m Sample train_loader batch_x shape: torch.Size([64, 24, 6])\n",
      "\u001b[36m(train_gru1_model pid=61536)\u001b[0m Sample train_loader batch_y shape: torch.Size([64, 1])\n",
      "\u001b[36m(train_gru1_model pid=61536)\u001b[0m Sample test_loader batch_x shape: torch.Size([64, 24, 6])\n",
      "\u001b[36m(train_gru1_model pid=61536)\u001b[0m Sample test_loader batch_y shape: torch.Size([64, 1])\n"
     ]
    },
    {
     "name": "stderr",
     "output_type": "stream",
     "text": [
      "\u001b[36m(train_gru1_model pid=61536)\u001b[0m /home/omen/miniconda3/envs/ray311/lib/python3.11/site-packages/torch/nn/modules/rnn.py:123: UserWarning: dropout option adds dropout after all but last recurrent layer, so non-zero dropout expects num_layers greater than 1, but got dropout=0.26695443590934936 and num_layers=1\n",
      "\u001b[36m(train_gru1_model pid=61536)\u001b[0m   warnings.warn(\n",
      "\u001b[36m(train_gru1_model pid=61773)\u001b[0m /home/omen/miniconda3/envs/ray311/lib/python3.11/site-packages/torch/nn/modules/rnn.py:123: UserWarning: dropout option adds dropout after all but last recurrent layer, so non-zero dropout expects num_layers greater than 1, but got dropout=0.31607570325176015 and num_layers=1\n",
      "\u001b[36m(train_gru1_model pid=61773)\u001b[0m   warnings.warn(\n"
     ]
    },
    {
     "name": "stdout",
     "output_type": "stream",
     "text": [
      "\u001b[36m(train_gru1_model pid=61773)\u001b[0m Sample train_loader batch_x shape: torch.Size([64, 24, 6])\n",
      "\u001b[36m(train_gru1_model pid=61773)\u001b[0m Sample train_loader batch_y shape: torch.Size([64, 1])\n",
      "\u001b[36m(train_gru1_model pid=61773)\u001b[0m Sample test_loader batch_x shape: torch.Size([64, 24, 6])\n",
      "\u001b[36m(train_gru1_model pid=61773)\u001b[0m Sample test_loader batch_y shape: torch.Size([64, 1])\n"
     ]
    },
    {
     "name": "stderr",
     "output_type": "stream",
     "text": [
      "\u001b[36m(train_gru1_model pid=61898)\u001b[0m /home/omen/miniconda3/envs/ray311/lib/python3.11/site-packages/torch/nn/modules/rnn.py:123: UserWarning: dropout option adds dropout after all but last recurrent layer, so non-zero dropout expects num_layers greater than 1, but got dropout=0.483339684759862 and num_layers=1\n",
      "\u001b[36m(train_gru1_model pid=61898)\u001b[0m   warnings.warn(\n"
     ]
    },
    {
     "name": "stdout",
     "output_type": "stream",
     "text": [
      "\u001b[36m(train_gru1_model pid=61898)\u001b[0m Sample train_loader batch_x shape: torch.Size([64, 24, 6])\n",
      "\u001b[36m(train_gru1_model pid=61898)\u001b[0m Sample train_loader batch_y shape: torch.Size([64, 1])\n",
      "\u001b[36m(train_gru1_model pid=61898)\u001b[0m Sample test_loader batch_x shape: torch.Size([64, 24, 6])\n",
      "\u001b[36m(train_gru1_model pid=61898)\u001b[0m Sample test_loader batch_y shape: torch.Size([64, 1])\n"
     ]
    },
    {
     "name": "stderr",
     "output_type": "stream",
     "text": [
      "\u001b[36m(train_gru1_model pid=62004)\u001b[0m /home/omen/miniconda3/envs/ray311/lib/python3.11/site-packages/torch/nn/modules/rnn.py:123: UserWarning: dropout option adds dropout after all but last recurrent layer, so non-zero dropout expects num_layers greater than 1, but got dropout=0.41516931512504773 and num_layers=1\n",
      "\u001b[36m(train_gru1_model pid=62004)\u001b[0m   warnings.warn(\n"
     ]
    },
    {
     "name": "stdout",
     "output_type": "stream",
     "text": [
      "\u001b[36m(train_gru1_model pid=62004)\u001b[0m Sample train_loader batch_x shape: torch.Size([128, 24, 6])\n",
      "\u001b[36m(train_gru1_model pid=62004)\u001b[0m Sample train_loader batch_y shape: torch.Size([128, 1])\n",
      "\u001b[36m(train_gru1_model pid=62004)\u001b[0m Sample test_loader batch_x shape: torch.Size([128, 24, 6])\n",
      "\u001b[36m(train_gru1_model pid=62004)\u001b[0m Sample test_loader batch_y shape: torch.Size([128, 1])\n",
      "\u001b[36m(train_gru1_model pid=62104)\u001b[0m Sample train_loader batch_x shape: torch.Size([64, 24, 6])\n",
      "\u001b[36m(train_gru1_model pid=62104)\u001b[0m Sample train_loader batch_y shape: torch.Size([64, 1])\n",
      "\u001b[36m(train_gru1_model pid=62104)\u001b[0m Sample test_loader batch_x shape: torch.Size([64, 24, 6])\n",
      "\u001b[36m(train_gru1_model pid=62104)\u001b[0m Sample test_loader batch_y shape: torch.Size([64, 1])\n"
     ]
    },
    {
     "name": "stderr",
     "output_type": "stream",
     "text": [
      "\u001b[36m(train_gru1_model pid=62104)\u001b[0m /home/omen/miniconda3/envs/ray311/lib/python3.11/site-packages/torch/nn/modules/rnn.py:123: UserWarning: dropout option adds dropout after all but last recurrent layer, so non-zero dropout expects num_layers greater than 1, but got dropout=0.4319481460004888 and num_layers=1\n",
      "\u001b[36m(train_gru1_model pid=62104)\u001b[0m   warnings.warn(\n"
     ]
    },
    {
     "name": "stdout",
     "output_type": "stream",
     "text": [
      "\u001b[36m(train_gru1_model pid=62241)\u001b[0m Sample train_loader batch_x shape: torch.Size([128, 24, 6])\n",
      "\u001b[36m(train_gru1_model pid=62241)\u001b[0m Sample train_loader batch_y shape: torch.Size([128, 1])\n",
      "\u001b[36m(train_gru1_model pid=62241)\u001b[0m Sample test_loader batch_x shape: torch.Size([128, 24, 6])\n",
      "\u001b[36m(train_gru1_model pid=62241)\u001b[0m Sample test_loader batch_y shape: torch.Size([128, 1])\n"
     ]
    },
    {
     "name": "stderr",
     "output_type": "stream",
     "text": [
      "\u001b[36m(train_gru1_model pid=62241)\u001b[0m /home/omen/miniconda3/envs/ray311/lib/python3.11/site-packages/torch/nn/modules/rnn.py:123: UserWarning: dropout option adds dropout after all but last recurrent layer, so non-zero dropout expects num_layers greater than 1, but got dropout=0.3949096982026997 and num_layers=1\n",
      "\u001b[36m(train_gru1_model pid=62241)\u001b[0m   warnings.warn(\n"
     ]
    },
    {
     "name": "stdout",
     "output_type": "stream",
     "text": [
      "\u001b[36m(train_gru1_model pid=62370)\u001b[0m Sample train_loader batch_x shape: torch.Size([128, 24, 6])\n",
      "\u001b[36m(train_gru1_model pid=62370)\u001b[0m Sample train_loader batch_y shape: torch.Size([128, 1])\n",
      "\u001b[36m(train_gru1_model pid=62370)\u001b[0m Sample test_loader batch_x shape: torch.Size([128, 24, 6])\n",
      "\u001b[36m(train_gru1_model pid=62370)\u001b[0m Sample test_loader batch_y shape: torch.Size([128, 1])\n"
     ]
    },
    {
     "name": "stderr",
     "output_type": "stream",
     "text": [
      "\u001b[36m(train_gru1_model pid=62370)\u001b[0m /home/omen/miniconda3/envs/ray311/lib/python3.11/site-packages/torch/nn/modules/rnn.py:123: UserWarning: dropout option adds dropout after all but last recurrent layer, so non-zero dropout expects num_layers greater than 1, but got dropout=0.3396898015142606 and num_layers=1\n",
      "\u001b[36m(train_gru1_model pid=62370)\u001b[0m   warnings.warn(\n"
     ]
    },
    {
     "name": "stdout",
     "output_type": "stream",
     "text": [
      "\u001b[36m(train_gru1_model pid=62482)\u001b[0m Sample train_loader batch_x shape: torch.Size([128, 24, 6])\n",
      "\u001b[36m(train_gru1_model pid=62482)\u001b[0m Sample train_loader batch_y shape: torch.Size([128, 1])\n",
      "\u001b[36m(train_gru1_model pid=62482)\u001b[0m Sample test_loader batch_x shape: torch.Size([128, 24, 6])\n",
      "\u001b[36m(train_gru1_model pid=62482)\u001b[0m Sample test_loader batch_y shape: torch.Size([128, 1])\n"
     ]
    },
    {
     "name": "stderr",
     "output_type": "stream",
     "text": [
      "\u001b[36m(train_gru1_model pid=62482)\u001b[0m /home/omen/miniconda3/envs/ray311/lib/python3.11/site-packages/torch/nn/modules/rnn.py:123: UserWarning: dropout option adds dropout after all but last recurrent layer, so non-zero dropout expects num_layers greater than 1, but got dropout=0.16716010749135168 and num_layers=1\n",
      "\u001b[36m(train_gru1_model pid=62482)\u001b[0m   warnings.warn(\n",
      "\u001b[36m(train_gru1_model pid=62594)\u001b[0m /home/omen/miniconda3/envs/ray311/lib/python3.11/site-packages/torch/nn/modules/rnn.py:123: UserWarning: dropout option adds dropout after all but last recurrent layer, so non-zero dropout expects num_layers greater than 1, but got dropout=0.0871358930422661 and num_layers=1\n",
      "\u001b[36m(train_gru1_model pid=62594)\u001b[0m   warnings.warn(\n"
     ]
    },
    {
     "name": "stdout",
     "output_type": "stream",
     "text": [
      "\u001b[36m(train_gru1_model pid=62594)\u001b[0m Sample train_loader batch_x shape: torch.Size([64, 24, 6])\n",
      "\u001b[36m(train_gru1_model pid=62594)\u001b[0m Sample train_loader batch_y shape: torch.Size([64, 1])\n",
      "\u001b[36m(train_gru1_model pid=62594)\u001b[0m Sample test_loader batch_x shape: torch.Size([64, 24, 6])\n",
      "\u001b[36m(train_gru1_model pid=62594)\u001b[0m Sample test_loader batch_y shape: torch.Size([64, 1])\n",
      "\u001b[36m(train_gru1_model pid=62850)\u001b[0m Sample train_loader batch_x shape: torch.Size([64, 24, 6])\n",
      "\u001b[36m(train_gru1_model pid=62850)\u001b[0m Sample train_loader batch_y shape: torch.Size([64, 1])\n",
      "\u001b[36m(train_gru1_model pid=62850)\u001b[0m Sample test_loader batch_x shape: torch.Size([64, 24, 6])\n",
      "\u001b[36m(train_gru1_model pid=62850)\u001b[0m Sample test_loader batch_y shape: torch.Size([64, 1])\n"
     ]
    },
    {
     "name": "stderr",
     "output_type": "stream",
     "text": [
      "\u001b[36m(train_gru1_model pid=62850)\u001b[0m /home/omen/miniconda3/envs/ray311/lib/python3.11/site-packages/torch/nn/modules/rnn.py:123: UserWarning: dropout option adds dropout after all but last recurrent layer, so non-zero dropout expects num_layers greater than 1, but got dropout=0.45833720660445004 and num_layers=1\n",
      "\u001b[36m(train_gru1_model pid=62850)\u001b[0m   warnings.warn(\n",
      "\u001b[36m(train_gru1_model pid=62975)\u001b[0m /home/omen/miniconda3/envs/ray311/lib/python3.11/site-packages/torch/nn/modules/rnn.py:123: UserWarning: dropout option adds dropout after all but last recurrent layer, so non-zero dropout expects num_layers greater than 1, but got dropout=0.4173546095028717 and num_layers=1\n",
      "\u001b[36m(train_gru1_model pid=62975)\u001b[0m   warnings.warn(\n"
     ]
    },
    {
     "name": "stdout",
     "output_type": "stream",
     "text": [
      "\u001b[36m(train_gru1_model pid=62975)\u001b[0m Sample train_loader batch_x shape: torch.Size([64, 24, 6])\n",
      "\u001b[36m(train_gru1_model pid=62975)\u001b[0m Sample train_loader batch_y shape: torch.Size([64, 1])\n",
      "\u001b[36m(train_gru1_model pid=62975)\u001b[0m Sample test_loader batch_x shape: torch.Size([64, 24, 6])\n",
      "\u001b[36m(train_gru1_model pid=62975)\u001b[0m Sample test_loader batch_y shape: torch.Size([64, 1])\n"
     ]
    },
    {
     "name": "stderr",
     "output_type": "stream",
     "text": [
      "\u001b[36m(train_gru1_model pid=63216)\u001b[0m /home/omen/miniconda3/envs/ray311/lib/python3.11/site-packages/torch/nn/modules/rnn.py:123: UserWarning: dropout option adds dropout after all but last recurrent layer, so non-zero dropout expects num_layers greater than 1, but got dropout=0.008269384008724678 and num_layers=1\n",
      "\u001b[36m(train_gru1_model pid=63216)\u001b[0m   warnings.warn(\n"
     ]
    },
    {
     "name": "stdout",
     "output_type": "stream",
     "text": [
      "\u001b[36m(train_gru1_model pid=63216)\u001b[0m Sample train_loader batch_x shape: torch.Size([128, 24, 6])\n",
      "\u001b[36m(train_gru1_model pid=63216)\u001b[0m Sample train_loader batch_y shape: torch.Size([128, 1])\n",
      "\u001b[36m(train_gru1_model pid=63216)\u001b[0m Sample test_loader batch_x shape: torch.Size([128, 24, 6])\n",
      "\u001b[36m(train_gru1_model pid=63216)\u001b[0m Sample test_loader batch_y shape: torch.Size([128, 1])\n",
      "\u001b[36m(train_gru1_model pid=63322)\u001b[0m Sample train_loader batch_x shape: torch.Size([128, 24, 6])\n",
      "\u001b[36m(train_gru1_model pid=63322)\u001b[0m Sample train_loader batch_y shape: torch.Size([128, 1])\n",
      "\u001b[36m(train_gru1_model pid=63322)\u001b[0m Sample test_loader batch_x shape: torch.Size([128, 24, 6])\n",
      "\u001b[36m(train_gru1_model pid=63322)\u001b[0m Sample test_loader batch_y shape: torch.Size([128, 1])\n"
     ]
    },
    {
     "name": "stderr",
     "output_type": "stream",
     "text": [
      "\u001b[36m(train_gru1_model pid=63322)\u001b[0m /home/omen/miniconda3/envs/ray311/lib/python3.11/site-packages/torch/nn/modules/rnn.py:123: UserWarning: dropout option adds dropout after all but last recurrent layer, so non-zero dropout expects num_layers greater than 1, but got dropout=0.054028750414856413 and num_layers=1\n",
      "\u001b[36m(train_gru1_model pid=63322)\u001b[0m   warnings.warn(\n"
     ]
    },
    {
     "name": "stdout",
     "output_type": "stream",
     "text": [
      "\u001b[36m(train_gru1_model pid=63479)\u001b[0m Sample train_loader batch_x shape: torch.Size([128, 24, 6])\n",
      "\u001b[36m(train_gru1_model pid=63479)\u001b[0m Sample train_loader batch_y shape: torch.Size([128, 1])\n",
      "\u001b[36m(train_gru1_model pid=63479)\u001b[0m Sample test_loader batch_x shape: torch.Size([128, 24, 6])\n",
      "\u001b[36m(train_gru1_model pid=63479)\u001b[0m Sample test_loader batch_y shape: torch.Size([128, 1])\n"
     ]
    },
    {
     "name": "stderr",
     "output_type": "stream",
     "text": [
      "\u001b[36m(train_gru1_model pid=63479)\u001b[0m /home/omen/miniconda3/envs/ray311/lib/python3.11/site-packages/torch/nn/modules/rnn.py:123: UserWarning: dropout option adds dropout after all but last recurrent layer, so non-zero dropout expects num_layers greater than 1, but got dropout=0.13866741120041365 and num_layers=1\n",
      "\u001b[36m(train_gru1_model pid=63479)\u001b[0m   warnings.warn(\n"
     ]
    },
    {
     "name": "stdout",
     "output_type": "stream",
     "text": [
      "\u001b[36m(train_gru1_model pid=63672)\u001b[0m Sample train_loader batch_x shape: torch.Size([128, 24, 6])\n",
      "\u001b[36m(train_gru1_model pid=63672)\u001b[0m Sample train_loader batch_y shape: torch.Size([128, 1])\n",
      "\u001b[36m(train_gru1_model pid=63672)\u001b[0m Sample test_loader batch_x shape: torch.Size([128, 24, 6])\n",
      "\u001b[36m(train_gru1_model pid=63672)\u001b[0m Sample test_loader batch_y shape: torch.Size([128, 1])\n"
     ]
    },
    {
     "name": "stderr",
     "output_type": "stream",
     "text": [
      "\u001b[36m(train_gru1_model pid=63672)\u001b[0m /home/omen/miniconda3/envs/ray311/lib/python3.11/site-packages/torch/nn/modules/rnn.py:123: UserWarning: dropout option adds dropout after all but last recurrent layer, so non-zero dropout expects num_layers greater than 1, but got dropout=0.15376375591291883 and num_layers=1\n",
      "\u001b[36m(train_gru1_model pid=63672)\u001b[0m   warnings.warn(\n"
     ]
    },
    {
     "name": "stdout",
     "output_type": "stream",
     "text": [
      "\u001b[36m(train_gru1_model pid=63785)\u001b[0m Sample train_loader batch_x shape: torch.Size([64, 24, 6])\n",
      "\u001b[36m(train_gru1_model pid=63785)\u001b[0m Sample train_loader batch_y shape: torch.Size([64, 1])\n",
      "\u001b[36m(train_gru1_model pid=63785)\u001b[0m Sample test_loader batch_x shape: torch.Size([64, 24, 6])\n",
      "\u001b[36m(train_gru1_model pid=63785)\u001b[0m Sample test_loader batch_y shape: torch.Size([64, 1])\n"
     ]
    },
    {
     "name": "stderr",
     "output_type": "stream",
     "text": [
      "\u001b[36m(train_gru1_model pid=63785)\u001b[0m /home/omen/miniconda3/envs/ray311/lib/python3.11/site-packages/torch/nn/modules/rnn.py:123: UserWarning: dropout option adds dropout after all but last recurrent layer, so non-zero dropout expects num_layers greater than 1, but got dropout=0.17403020577161057 and num_layers=1\n",
      "\u001b[36m(train_gru1_model pid=63785)\u001b[0m   warnings.warn(\n",
      "\u001b[36m(train_gru1_model pid=64022)\u001b[0m /home/omen/miniconda3/envs/ray311/lib/python3.11/site-packages/torch/nn/modules/rnn.py:123: UserWarning: dropout option adds dropout after all but last recurrent layer, so non-zero dropout expects num_layers greater than 1, but got dropout=0.23416672134053632 and num_layers=1\n",
      "\u001b[36m(train_gru1_model pid=64022)\u001b[0m   warnings.warn(\n"
     ]
    },
    {
     "name": "stdout",
     "output_type": "stream",
     "text": [
      "\u001b[36m(train_gru1_model pid=64022)\u001b[0m Sample train_loader batch_x shape: torch.Size([64, 24, 6])\n",
      "\u001b[36m(train_gru1_model pid=64022)\u001b[0m Sample train_loader batch_y shape: torch.Size([64, 1])\n",
      "\u001b[36m(train_gru1_model pid=64022)\u001b[0m Sample test_loader batch_x shape: torch.Size([64, 24, 6])\n",
      "\u001b[36m(train_gru1_model pid=64022)\u001b[0m Sample test_loader batch_y shape: torch.Size([64, 1])\n"
     ]
    },
    {
     "name": "stderr",
     "output_type": "stream",
     "text": [
      "\u001b[36m(train_gru1_model pid=64284)\u001b[0m /home/omen/miniconda3/envs/ray311/lib/python3.11/site-packages/torch/nn/modules/rnn.py:123: UserWarning: dropout option adds dropout after all but last recurrent layer, so non-zero dropout expects num_layers greater than 1, but got dropout=0.23749202481500029 and num_layers=1\n",
      "\u001b[36m(train_gru1_model pid=64284)\u001b[0m   warnings.warn(\n"
     ]
    },
    {
     "name": "stdout",
     "output_type": "stream",
     "text": [
      "\u001b[36m(train_gru1_model pid=64284)\u001b[0m Sample train_loader batch_x shape: torch.Size([64, 24, 6])\n",
      "\u001b[36m(train_gru1_model pid=64284)\u001b[0m Sample train_loader batch_y shape: torch.Size([64, 1])\n",
      "\u001b[36m(train_gru1_model pid=64284)\u001b[0m Sample test_loader batch_x shape: torch.Size([64, 24, 6])\n",
      "\u001b[36m(train_gru1_model pid=64284)\u001b[0m Sample test_loader batch_y shape: torch.Size([64, 1])\n"
     ]
    },
    {
     "name": "stderr",
     "output_type": "stream",
     "text": [
      "\u001b[36m(train_gru1_model pid=64397)\u001b[0m /home/omen/miniconda3/envs/ray311/lib/python3.11/site-packages/torch/nn/modules/rnn.py:123: UserWarning: dropout option adds dropout after all but last recurrent layer, so non-zero dropout expects num_layers greater than 1, but got dropout=0.08503836589851033 and num_layers=1\n",
      "\u001b[36m(train_gru1_model pid=64397)\u001b[0m   warnings.warn(\n"
     ]
    },
    {
     "name": "stdout",
     "output_type": "stream",
     "text": [
      "\u001b[36m(train_gru1_model pid=64397)\u001b[0m Sample train_loader batch_x shape: torch.Size([128, 24, 6])\n",
      "\u001b[36m(train_gru1_model pid=64397)\u001b[0m Sample train_loader batch_y shape: torch.Size([128, 1])\n",
      "\u001b[36m(train_gru1_model pid=64397)\u001b[0m Sample test_loader batch_x shape: torch.Size([128, 24, 6])\n",
      "\u001b[36m(train_gru1_model pid=64397)\u001b[0m Sample test_loader batch_y shape: torch.Size([128, 1])\n"
     ]
    },
    {
     "name": "stderr",
     "output_type": "stream",
     "text": [
      "\u001b[36m(train_gru1_model pid=64497)\u001b[0m /home/omen/miniconda3/envs/ray311/lib/python3.11/site-packages/torch/nn/modules/rnn.py:123: UserWarning: dropout option adds dropout after all but last recurrent layer, so non-zero dropout expects num_layers greater than 1, but got dropout=0.3500759247920525 and num_layers=1\n",
      "\u001b[36m(train_gru1_model pid=64497)\u001b[0m   warnings.warn(\n"
     ]
    },
    {
     "name": "stdout",
     "output_type": "stream",
     "text": [
      "\u001b[36m(train_gru1_model pid=64497)\u001b[0m Sample train_loader batch_x shape: torch.Size([128, 24, 6])\n",
      "\u001b[36m(train_gru1_model pid=64497)\u001b[0m Sample train_loader batch_y shape: torch.Size([128, 1])\n",
      "\u001b[36m(train_gru1_model pid=64497)\u001b[0m Sample test_loader batch_x shape: torch.Size([128, 24, 6])\n",
      "\u001b[36m(train_gru1_model pid=64497)\u001b[0m Sample test_loader batch_y shape: torch.Size([128, 1])\n"
     ]
    },
    {
     "name": "stderr",
     "output_type": "stream",
     "text": [
      "\u001b[36m(train_gru1_model pid=64621)\u001b[0m /home/omen/miniconda3/envs/ray311/lib/python3.11/site-packages/torch/nn/modules/rnn.py:123: UserWarning: dropout option adds dropout after all but last recurrent layer, so non-zero dropout expects num_layers greater than 1, but got dropout=0.36722346876649736 and num_layers=1\n",
      "\u001b[36m(train_gru1_model pid=64621)\u001b[0m   warnings.warn(\n"
     ]
    },
    {
     "name": "stdout",
     "output_type": "stream",
     "text": [
      "\u001b[36m(train_gru1_model pid=64621)\u001b[0m Sample train_loader batch_x shape: torch.Size([128, 24, 6])\n",
      "\u001b[36m(train_gru1_model pid=64621)\u001b[0m Sample train_loader batch_y shape: torch.Size([128, 1])\n",
      "\u001b[36m(train_gru1_model pid=64621)\u001b[0m Sample test_loader batch_x shape: torch.Size([128, 24, 6])\n",
      "\u001b[36m(train_gru1_model pid=64621)\u001b[0m Sample test_loader batch_y shape: torch.Size([128, 1])\n",
      "\u001b[36m(train_gru1_model pid=64740)\u001b[0m Sample train_loader batch_x shape: torch.Size([128, 24, 6])\n",
      "\u001b[36m(train_gru1_model pid=64740)\u001b[0m Sample train_loader batch_y shape: torch.Size([128, 1])\n",
      "\u001b[36m(train_gru1_model pid=64740)\u001b[0m Sample test_loader batch_x shape: torch.Size([128, 24, 6])\n",
      "\u001b[36m(train_gru1_model pid=64740)\u001b[0m Sample test_loader batch_y shape: torch.Size([128, 1])\n"
     ]
    },
    {
     "name": "stderr",
     "output_type": "stream",
     "text": [
      "\u001b[36m(train_gru1_model pid=64740)\u001b[0m /home/omen/miniconda3/envs/ray311/lib/python3.11/site-packages/torch/nn/modules/rnn.py:123: UserWarning: dropout option adds dropout after all but last recurrent layer, so non-zero dropout expects num_layers greater than 1, but got dropout=0.3752380996901534 and num_layers=1\n",
      "\u001b[36m(train_gru1_model pid=64740)\u001b[0m   warnings.warn(\n"
     ]
    },
    {
     "name": "stdout",
     "output_type": "stream",
     "text": [
      "\u001b[36m(train_gru1_model pid=64841)\u001b[0m Sample train_loader batch_x shape: torch.Size([128, 24, 6])\n",
      "\u001b[36m(train_gru1_model pid=64841)\u001b[0m Sample train_loader batch_y shape: torch.Size([128, 1])\n",
      "\u001b[36m(train_gru1_model pid=64841)\u001b[0m Sample test_loader batch_x shape: torch.Size([128, 24, 6])\n",
      "\u001b[36m(train_gru1_model pid=64841)\u001b[0m Sample test_loader batch_y shape: torch.Size([128, 1])\n"
     ]
    },
    {
     "name": "stderr",
     "output_type": "stream",
     "text": [
      "\u001b[36m(train_gru1_model pid=64841)\u001b[0m /home/omen/miniconda3/envs/ray311/lib/python3.11/site-packages/torch/nn/modules/rnn.py:123: UserWarning: dropout option adds dropout after all but last recurrent layer, so non-zero dropout expects num_layers greater than 1, but got dropout=0.3716257484525117 and num_layers=1\n",
      "\u001b[36m(train_gru1_model pid=64841)\u001b[0m   warnings.warn(\n",
      "\u001b[36m(train_gru1_model pid=65003)\u001b[0m /home/omen/miniconda3/envs/ray311/lib/python3.11/site-packages/torch/nn/modules/rnn.py:123: UserWarning: dropout option adds dropout after all but last recurrent layer, so non-zero dropout expects num_layers greater than 1, but got dropout=0.2834935872705571 and num_layers=1\n",
      "\u001b[36m(train_gru1_model pid=65003)\u001b[0m   warnings.warn(\n"
     ]
    },
    {
     "name": "stdout",
     "output_type": "stream",
     "text": [
      "\u001b[36m(train_gru1_model pid=65003)\u001b[0m Sample train_loader batch_x shape: torch.Size([128, 24, 6])\n",
      "\u001b[36m(train_gru1_model pid=65003)\u001b[0m Sample train_loader batch_y shape: torch.Size([128, 1])\n",
      "\u001b[36m(train_gru1_model pid=65003)\u001b[0m Sample test_loader batch_x shape: torch.Size([128, 24, 6])\n",
      "\u001b[36m(train_gru1_model pid=65003)\u001b[0m Sample test_loader batch_y shape: torch.Size([128, 1])\n"
     ]
    },
    {
     "name": "stderr",
     "output_type": "stream",
     "text": [
      "\u001b[36m(train_gru1_model pid=65166)\u001b[0m /home/omen/miniconda3/envs/ray311/lib/python3.11/site-packages/torch/nn/modules/rnn.py:123: UserWarning: dropout option adds dropout after all but last recurrent layer, so non-zero dropout expects num_layers greater than 1, but got dropout=0.27609601469723993 and num_layers=1\n",
      "\u001b[36m(train_gru1_model pid=65166)\u001b[0m   warnings.warn(\n"
     ]
    },
    {
     "name": "stdout",
     "output_type": "stream",
     "text": [
      "\u001b[36m(train_gru1_model pid=65166)\u001b[0m Sample train_loader batch_x shape: torch.Size([128, 24, 6])\n",
      "\u001b[36m(train_gru1_model pid=65166)\u001b[0m Sample train_loader batch_y shape: torch.Size([128, 1])\n",
      "\u001b[36m(train_gru1_model pid=65166)\u001b[0m Sample test_loader batch_x shape: torch.Size([128, 24, 6])\n",
      "\u001b[36m(train_gru1_model pid=65166)\u001b[0m Sample test_loader batch_y shape: torch.Size([128, 1])\n",
      "\u001b[36m(train_gru1_model pid=65322)\u001b[0m Sample train_loader batch_x shape: torch.Size([128, 24, 6])\n",
      "\u001b[36m(train_gru1_model pid=65322)\u001b[0m Sample train_loader batch_y shape: torch.Size([128, 1])\n",
      "\u001b[36m(train_gru1_model pid=65322)\u001b[0m Sample test_loader batch_x shape: torch.Size([128, 24, 6])\n",
      "\u001b[36m(train_gru1_model pid=65322)\u001b[0m Sample test_loader batch_y shape: torch.Size([128, 1])\n"
     ]
    },
    {
     "name": "stderr",
     "output_type": "stream",
     "text": [
      "\u001b[36m(train_gru1_model pid=65322)\u001b[0m /home/omen/miniconda3/envs/ray311/lib/python3.11/site-packages/torch/nn/modules/rnn.py:123: UserWarning: dropout option adds dropout after all but last recurrent layer, so non-zero dropout expects num_layers greater than 1, but got dropout=0.3189387478267029 and num_layers=1\n",
      "\u001b[36m(train_gru1_model pid=65322)\u001b[0m   warnings.warn(\n",
      "\u001b[36m(train_gru1_model pid=65428)\u001b[0m /home/omen/miniconda3/envs/ray311/lib/python3.11/site-packages/torch/nn/modules/rnn.py:123: UserWarning: dropout option adds dropout after all but last recurrent layer, so non-zero dropout expects num_layers greater than 1, but got dropout=0.3185441439267474 and num_layers=1\n",
      "\u001b[36m(train_gru1_model pid=65428)\u001b[0m   warnings.warn(\n"
     ]
    },
    {
     "name": "stdout",
     "output_type": "stream",
     "text": [
      "\u001b[36m(train_gru1_model pid=65428)\u001b[0m Sample train_loader batch_x shape: torch.Size([128, 24, 6])\n",
      "\u001b[36m(train_gru1_model pid=65428)\u001b[0m Sample train_loader batch_y shape: torch.Size([128, 1])\n",
      "\u001b[36m(train_gru1_model pid=65428)\u001b[0m Sample test_loader batch_x shape: torch.Size([128, 24, 6])\n",
      "\u001b[36m(train_gru1_model pid=65428)\u001b[0m Sample test_loader batch_y shape: torch.Size([128, 1])\n"
     ]
    },
    {
     "name": "stderr",
     "output_type": "stream",
     "text": [
      "\u001b[36m(train_gru1_model pid=65528)\u001b[0m /home/omen/miniconda3/envs/ray311/lib/python3.11/site-packages/torch/nn/modules/rnn.py:123: UserWarning: dropout option adds dropout after all but last recurrent layer, so non-zero dropout expects num_layers greater than 1, but got dropout=0.2135614605194489 and num_layers=1\n",
      "\u001b[36m(train_gru1_model pid=65528)\u001b[0m   warnings.warn(\n"
     ]
    },
    {
     "name": "stdout",
     "output_type": "stream",
     "text": [
      "\u001b[36m(train_gru1_model pid=65528)\u001b[0m Sample train_loader batch_x shape: torch.Size([64, 24, 6])\n",
      "\u001b[36m(train_gru1_model pid=65528)\u001b[0m Sample train_loader batch_y shape: torch.Size([64, 1])\n",
      "\u001b[36m(train_gru1_model pid=65528)\u001b[0m Sample test_loader batch_x shape: torch.Size([64, 24, 6])\n",
      "\u001b[36m(train_gru1_model pid=65528)\u001b[0m Sample test_loader batch_y shape: torch.Size([64, 1])\n"
     ]
    },
    {
     "name": "stderr",
     "output_type": "stream",
     "text": [
      "\u001b[36m(train_gru1_model pid=65637)\u001b[0m /home/omen/miniconda3/envs/ray311/lib/python3.11/site-packages/torch/nn/modules/rnn.py:123: UserWarning: dropout option adds dropout after all but last recurrent layer, so non-zero dropout expects num_layers greater than 1, but got dropout=0.2063359595847703 and num_layers=1\n",
      "\u001b[36m(train_gru1_model pid=65637)\u001b[0m   warnings.warn(\n"
     ]
    },
    {
     "name": "stdout",
     "output_type": "stream",
     "text": [
      "\u001b[36m(train_gru1_model pid=65637)\u001b[0m Sample train_loader batch_x shape: torch.Size([64, 24, 6])\n",
      "\u001b[36m(train_gru1_model pid=65637)\u001b[0m Sample train_loader batch_y shape: torch.Size([64, 1])\n",
      "\u001b[36m(train_gru1_model pid=65637)\u001b[0m Sample test_loader batch_x shape: torch.Size([64, 24, 6])\n",
      "\u001b[36m(train_gru1_model pid=65637)\u001b[0m Sample test_loader batch_y shape: torch.Size([64, 1])\n"
     ]
    },
    {
     "name": "stderr",
     "output_type": "stream",
     "text": [
      "\u001b[36m(train_gru1_model pid=65753)\u001b[0m /home/omen/miniconda3/envs/ray311/lib/python3.11/site-packages/torch/nn/modules/rnn.py:123: UserWarning: dropout option adds dropout after all but last recurrent layer, so non-zero dropout expects num_layers greater than 1, but got dropout=0.09639993712739056 and num_layers=1\n",
      "\u001b[36m(train_gru1_model pid=65753)\u001b[0m   warnings.warn(\n"
     ]
    },
    {
     "name": "stdout",
     "output_type": "stream",
     "text": [
      "\u001b[36m(train_gru1_model pid=65753)\u001b[0m Sample train_loader batch_x shape: torch.Size([64, 24, 6])\n",
      "\u001b[36m(train_gru1_model pid=65753)\u001b[0m Sample train_loader batch_y shape: torch.Size([64, 1])\n",
      "\u001b[36m(train_gru1_model pid=65753)\u001b[0m Sample test_loader batch_x shape: torch.Size([64, 24, 6])\n",
      "\u001b[36m(train_gru1_model pid=65753)\u001b[0m Sample test_loader batch_y shape: torch.Size([64, 1])\n",
      "\u001b[33m(raylet)\u001b[0m Warning: The actor ImplicitFunc is very large (37 MiB). Check that its definition is not implicitly capturing a large array or other object in scope. Tip: use ray.put() to put large objects in the Ray object store.\n",
      "\u001b[36m(train_gru2_model pid=65866)\u001b[0m Sample train_loader batch_x shape: torch.Size([128, 24, 6])\n",
      "\u001b[36m(train_gru2_model pid=65866)\u001b[0m Sample train_loader batch_y shape: torch.Size([128, 1])\n",
      "\u001b[36m(train_gru2_model pid=65866)\u001b[0m Sample test_loader batch_x shape: torch.Size([128, 24, 6])\n",
      "\u001b[36m(train_gru2_model pid=65866)\u001b[0m Sample test_loader batch_y shape: torch.Size([128, 1])\n",
      "\u001b[36m(train_gru2_model pid=66057)\u001b[0m Sample train_loader batch_x shape: torch.Size([64, 24, 6])\n",
      "\u001b[36m(train_gru2_model pid=66057)\u001b[0m Sample train_loader batch_y shape: torch.Size([64, 1])\n",
      "\u001b[36m(train_gru2_model pid=66057)\u001b[0m Sample test_loader batch_x shape: torch.Size([64, 24, 6])\n",
      "\u001b[36m(train_gru2_model pid=66057)\u001b[0m Sample test_loader batch_y shape: torch.Size([64, 1])\n",
      "\u001b[36m(train_gru2_model pid=66306)\u001b[0m Sample train_loader batch_x shape: torch.Size([64, 24, 6])\n",
      "\u001b[36m(train_gru2_model pid=66306)\u001b[0m Sample train_loader batch_y shape: torch.Size([64, 1])\n",
      "\u001b[36m(train_gru2_model pid=66306)\u001b[0m Sample test_loader batch_x shape: torch.Size([64, 24, 6])\n",
      "\u001b[36m(train_gru2_model pid=66306)\u001b[0m Sample test_loader batch_y shape: torch.Size([64, 1])\n",
      "\u001b[36m(train_gru2_model pid=66419)\u001b[0m Sample train_loader batch_x shape: torch.Size([128, 24, 6])\n",
      "\u001b[36m(train_gru2_model pid=66419)\u001b[0m Sample train_loader batch_y shape: torch.Size([128, 1])\n",
      "\u001b[36m(train_gru2_model pid=66419)\u001b[0m Sample test_loader batch_x shape: torch.Size([128, 24, 6])\n",
      "\u001b[36m(train_gru2_model pid=66419)\u001b[0m Sample test_loader batch_y shape: torch.Size([128, 1])\n",
      "\u001b[36m(train_gru2_model pid=66562)\u001b[0m Sample train_loader batch_x shape: torch.Size([128, 24, 6])\n",
      "\u001b[36m(train_gru2_model pid=66562)\u001b[0m Sample train_loader batch_y shape: torch.Size([128, 1])\n",
      "\u001b[36m(train_gru2_model pid=66562)\u001b[0m Sample test_loader batch_x shape: torch.Size([128, 24, 6])\n",
      "\u001b[36m(train_gru2_model pid=66562)\u001b[0m Sample test_loader batch_y shape: torch.Size([128, 1])\n",
      "\u001b[36m(train_gru2_model pid=66662)\u001b[0m Sample train_loader batch_x shape: torch.Size([64, 24, 6])\n",
      "\u001b[36m(train_gru2_model pid=66662)\u001b[0m Sample train_loader batch_y shape: torch.Size([64, 1])\n",
      "\u001b[36m(train_gru2_model pid=66662)\u001b[0m Sample test_loader batch_x shape: torch.Size([64, 24, 6])\n",
      "\u001b[36m(train_gru2_model pid=66662)\u001b[0m Sample test_loader batch_y shape: torch.Size([64, 1])\n",
      "\u001b[36m(train_gru2_model pid=66781)\u001b[0m Sample train_loader batch_x shape: torch.Size([64, 24, 6])\n",
      "\u001b[36m(train_gru2_model pid=66781)\u001b[0m Sample train_loader batch_y shape: torch.Size([64, 1])\n",
      "\u001b[36m(train_gru2_model pid=66781)\u001b[0m Sample test_loader batch_x shape: torch.Size([64, 24, 6])\n",
      "\u001b[36m(train_gru2_model pid=66781)\u001b[0m Sample test_loader batch_y shape: torch.Size([64, 1])\n",
      "\u001b[36m(train_gru2_model pid=67051)\u001b[0m Sample train_loader batch_x shape: torch.Size([64, 24, 6])\n",
      "\u001b[36m(train_gru2_model pid=67051)\u001b[0m Sample train_loader batch_y shape: torch.Size([64, 1])\n",
      "\u001b[36m(train_gru2_model pid=67051)\u001b[0m Sample test_loader batch_x shape: torch.Size([64, 24, 6])\n",
      "\u001b[36m(train_gru2_model pid=67051)\u001b[0m Sample test_loader batch_y shape: torch.Size([64, 1])\n",
      "\u001b[36m(train_gru2_model pid=67169)\u001b[0m Sample train_loader batch_x shape: torch.Size([64, 24, 6])\n",
      "\u001b[36m(train_gru2_model pid=67169)\u001b[0m Sample train_loader batch_y shape: torch.Size([64, 1])\n",
      "\u001b[36m(train_gru2_model pid=67169)\u001b[0m Sample test_loader batch_x shape: torch.Size([64, 24, 6])\n",
      "\u001b[36m(train_gru2_model pid=67169)\u001b[0m Sample test_loader batch_y shape: torch.Size([64, 1])\n",
      "\u001b[36m(train_gru2_model pid=67275)\u001b[0m Sample train_loader batch_x shape: torch.Size([128, 24, 6])\n",
      "\u001b[36m(train_gru2_model pid=67275)\u001b[0m Sample train_loader batch_y shape: torch.Size([128, 1])\n",
      "\u001b[36m(train_gru2_model pid=67275)\u001b[0m Sample test_loader batch_x shape: torch.Size([128, 24, 6])\n",
      "\u001b[36m(train_gru2_model pid=67275)\u001b[0m Sample test_loader batch_y shape: torch.Size([128, 1])\n",
      "\u001b[36m(train_gru2_model pid=67450)\u001b[0m Sample train_loader batch_x shape: torch.Size([128, 24, 6])\n",
      "\u001b[36m(train_gru2_model pid=67450)\u001b[0m Sample train_loader batch_y shape: torch.Size([128, 1])\n",
      "\u001b[36m(train_gru2_model pid=67450)\u001b[0m Sample test_loader batch_x shape: torch.Size([128, 24, 6])\n",
      "\u001b[36m(train_gru2_model pid=67450)\u001b[0m Sample test_loader batch_y shape: torch.Size([128, 1])\n",
      "\u001b[36m(train_gru2_model pid=67594)\u001b[0m Sample train_loader batch_x shape: torch.Size([64, 24, 6])\n",
      "\u001b[36m(train_gru2_model pid=67594)\u001b[0m Sample train_loader batch_y shape: torch.Size([64, 1])\n",
      "\u001b[36m(train_gru2_model pid=67594)\u001b[0m Sample test_loader batch_x shape: torch.Size([64, 24, 6])\n",
      "\u001b[36m(train_gru2_model pid=67594)\u001b[0m Sample test_loader batch_y shape: torch.Size([64, 1])\n",
      "\u001b[36m(train_gru2_model pid=67706)\u001b[0m Sample train_loader batch_x shape: torch.Size([128, 24, 6])\n",
      "\u001b[36m(train_gru2_model pid=67706)\u001b[0m Sample train_loader batch_y shape: torch.Size([128, 1])\n",
      "\u001b[36m(train_gru2_model pid=67706)\u001b[0m Sample test_loader batch_x shape: torch.Size([128, 24, 6])\n",
      "\u001b[36m(train_gru2_model pid=67706)\u001b[0m Sample test_loader batch_y shape: torch.Size([128, 1])\n",
      "\u001b[36m(train_gru2_model pid=67894)\u001b[0m Sample train_loader batch_x shape: torch.Size([128, 24, 6])\n",
      "\u001b[36m(train_gru2_model pid=67894)\u001b[0m Sample train_loader batch_y shape: torch.Size([128, 1])\n",
      "\u001b[36m(train_gru2_model pid=67894)\u001b[0m Sample test_loader batch_x shape: torch.Size([128, 24, 6])\n",
      "\u001b[36m(train_gru2_model pid=67894)\u001b[0m Sample test_loader batch_y shape: torch.Size([128, 1])\n",
      "\u001b[36m(train_gru2_model pid=68081)\u001b[0m Sample train_loader batch_x shape: torch.Size([128, 24, 6])\n",
      "\u001b[36m(train_gru2_model pid=68081)\u001b[0m Sample train_loader batch_y shape: torch.Size([128, 1])\n",
      "\u001b[36m(train_gru2_model pid=68081)\u001b[0m Sample test_loader batch_x shape: torch.Size([128, 24, 6])\n",
      "\u001b[36m(train_gru2_model pid=68081)\u001b[0m Sample test_loader batch_y shape: torch.Size([128, 1])\n",
      "\u001b[36m(train_gru2_model pid=68187)\u001b[0m Sample train_loader batch_x shape: torch.Size([64, 24, 6])\n",
      "\u001b[36m(train_gru2_model pid=68187)\u001b[0m Sample train_loader batch_y shape: torch.Size([64, 1])\n",
      "\u001b[36m(train_gru2_model pid=68187)\u001b[0m Sample test_loader batch_x shape: torch.Size([64, 24, 6])\n",
      "\u001b[36m(train_gru2_model pid=68187)\u001b[0m Sample test_loader batch_y shape: torch.Size([64, 1])\n",
      "\u001b[36m(train_gru2_model pid=68387)\u001b[0m Sample train_loader batch_x shape: torch.Size([64, 24, 6])\n",
      "\u001b[36m(train_gru2_model pid=68387)\u001b[0m Sample train_loader batch_y shape: torch.Size([64, 1])\n",
      "\u001b[36m(train_gru2_model pid=68387)\u001b[0m Sample test_loader batch_x shape: torch.Size([64, 24, 6])\n",
      "\u001b[36m(train_gru2_model pid=68387)\u001b[0m Sample test_loader batch_y shape: torch.Size([64, 1])\n",
      "\u001b[36m(train_gru2_model pid=68493)\u001b[0m Sample train_loader batch_x shape: torch.Size([128, 24, 6])\n",
      "\u001b[36m(train_gru2_model pid=68493)\u001b[0m Sample train_loader batch_y shape: torch.Size([128, 1])\n",
      "\u001b[36m(train_gru2_model pid=68493)\u001b[0m Sample test_loader batch_x shape: torch.Size([128, 24, 6])\n",
      "\u001b[36m(train_gru2_model pid=68493)\u001b[0m Sample test_loader batch_y shape: torch.Size([128, 1])\n",
      "\u001b[36m(train_gru2_model pid=68669)\u001b[0m Sample train_loader batch_x shape: torch.Size([128, 24, 6])\n",
      "\u001b[36m(train_gru2_model pid=68669)\u001b[0m Sample train_loader batch_y shape: torch.Size([128, 1])\n",
      "\u001b[36m(train_gru2_model pid=68669)\u001b[0m Sample test_loader batch_x shape: torch.Size([128, 24, 6])\n",
      "\u001b[36m(train_gru2_model pid=68669)\u001b[0m Sample test_loader batch_y shape: torch.Size([128, 1])\n",
      "\u001b[36m(train_gru2_model pid=68818)\u001b[0m Sample train_loader batch_x shape: torch.Size([128, 24, 6])\n",
      "\u001b[36m(train_gru2_model pid=68818)\u001b[0m Sample train_loader batch_y shape: torch.Size([128, 1])\n",
      "\u001b[36m(train_gru2_model pid=68818)\u001b[0m Sample test_loader batch_x shape: torch.Size([128, 24, 6])\n",
      "\u001b[36m(train_gru2_model pid=68818)\u001b[0m Sample test_loader batch_y shape: torch.Size([128, 1])\n",
      "\u001b[36m(train_gru2_model pid=68975)\u001b[0m Sample train_loader batch_x shape: torch.Size([64, 24, 6])\n",
      "\u001b[36m(train_gru2_model pid=68975)\u001b[0m Sample train_loader batch_y shape: torch.Size([64, 1])\n",
      "\u001b[36m(train_gru2_model pid=68975)\u001b[0m Sample test_loader batch_x shape: torch.Size([64, 24, 6])\n",
      "\u001b[36m(train_gru2_model pid=68975)\u001b[0m Sample test_loader batch_y shape: torch.Size([64, 1])\n",
      "\u001b[36m(train_gru2_model pid=69180)\u001b[0m Sample train_loader batch_x shape: torch.Size([64, 24, 6])\n",
      "\u001b[36m(train_gru2_model pid=69180)\u001b[0m Sample train_loader batch_y shape: torch.Size([64, 1])\n",
      "\u001b[36m(train_gru2_model pid=69180)\u001b[0m Sample test_loader batch_x shape: torch.Size([64, 24, 6])\n",
      "\u001b[36m(train_gru2_model pid=69180)\u001b[0m Sample test_loader batch_y shape: torch.Size([64, 1])\n",
      "\u001b[36m(train_gru2_model pid=69387)\u001b[0m Sample train_loader batch_x shape: torch.Size([128, 24, 6])\n",
      "\u001b[36m(train_gru2_model pid=69387)\u001b[0m Sample train_loader batch_y shape: torch.Size([128, 1])\n",
      "\u001b[36m(train_gru2_model pid=69387)\u001b[0m Sample test_loader batch_x shape: torch.Size([128, 24, 6])\n",
      "\u001b[36m(train_gru2_model pid=69387)\u001b[0m Sample test_loader batch_y shape: torch.Size([128, 1])\n",
      "\u001b[36m(train_gru2_model pid=69486)\u001b[0m Sample train_loader batch_x shape: torch.Size([128, 24, 6])\n",
      "\u001b[36m(train_gru2_model pid=69486)\u001b[0m Sample train_loader batch_y shape: torch.Size([128, 1])\n",
      "\u001b[36m(train_gru2_model pid=69486)\u001b[0m Sample test_loader batch_x shape: torch.Size([128, 24, 6])\n",
      "\u001b[36m(train_gru2_model pid=69486)\u001b[0m Sample test_loader batch_y shape: torch.Size([128, 1])\n",
      "\u001b[36m(train_gru2_model pid=69586)\u001b[0m Sample train_loader batch_x shape: torch.Size([128, 24, 6])\n",
      "\u001b[36m(train_gru2_model pid=69586)\u001b[0m Sample train_loader batch_y shape: torch.Size([128, 1])\n",
      "\u001b[36m(train_gru2_model pid=69586)\u001b[0m Sample test_loader batch_x shape: torch.Size([128, 24, 6])\n",
      "\u001b[36m(train_gru2_model pid=69586)\u001b[0m Sample test_loader batch_y shape: torch.Size([128, 1])\n",
      "\u001b[36m(train_gru2_model pid=69684)\u001b[0m Sample train_loader batch_x shape: torch.Size([128, 24, 6])\n",
      "\u001b[36m(train_gru2_model pid=69684)\u001b[0m Sample train_loader batch_y shape: torch.Size([128, 1])\n",
      "\u001b[36m(train_gru2_model pid=69684)\u001b[0m Sample test_loader batch_x shape: torch.Size([128, 24, 6])\n",
      "\u001b[36m(train_gru2_model pid=69684)\u001b[0m Sample test_loader batch_y shape: torch.Size([128, 1])\n",
      "\u001b[36m(train_gru2_model pid=69784)\u001b[0m Sample train_loader batch_x shape: torch.Size([128, 24, 6])\n",
      "\u001b[36m(train_gru2_model pid=69784)\u001b[0m Sample train_loader batch_y shape: torch.Size([128, 1])\n",
      "\u001b[36m(train_gru2_model pid=69784)\u001b[0m Sample test_loader batch_x shape: torch.Size([128, 24, 6])\n",
      "\u001b[36m(train_gru2_model pid=69784)\u001b[0m Sample test_loader batch_y shape: torch.Size([128, 1])\n",
      "\u001b[36m(train_gru2_model pid=69883)\u001b[0m Sample train_loader batch_x shape: torch.Size([128, 24, 6])\n",
      "\u001b[36m(train_gru2_model pid=69883)\u001b[0m Sample train_loader batch_y shape: torch.Size([128, 1])\n",
      "\u001b[36m(train_gru2_model pid=69883)\u001b[0m Sample test_loader batch_x shape: torch.Size([128, 24, 6])\n",
      "\u001b[36m(train_gru2_model pid=69883)\u001b[0m Sample test_loader batch_y shape: torch.Size([128, 1])\n",
      "\u001b[36m(train_gru2_model pid=69983)\u001b[0m Sample train_loader batch_x shape: torch.Size([128, 24, 6])\n",
      "\u001b[36m(train_gru2_model pid=69983)\u001b[0m Sample train_loader batch_y shape: torch.Size([128, 1])\n",
      "\u001b[36m(train_gru2_model pid=69983)\u001b[0m Sample test_loader batch_x shape: torch.Size([128, 24, 6])\n",
      "\u001b[36m(train_gru2_model pid=69983)\u001b[0m Sample test_loader batch_y shape: torch.Size([128, 1])\n",
      "\u001b[36m(train_gru2_model pid=70133)\u001b[0m Sample train_loader batch_x shape: torch.Size([64, 24, 6])\n",
      "\u001b[36m(train_gru2_model pid=70133)\u001b[0m Sample train_loader batch_y shape: torch.Size([64, 1])\n",
      "\u001b[36m(train_gru2_model pid=70133)\u001b[0m Sample test_loader batch_x shape: torch.Size([64, 24, 6])\n",
      "\u001b[36m(train_gru2_model pid=70133)\u001b[0m Sample test_loader batch_y shape: torch.Size([64, 1])\n"
     ]
    }
   ],
   "source": [
    "exp_name = \"RNN_tune_1\"\n",
    "storage_path = os.path.abspath(\"ray_results\")\n",
    "experiment_path = os.path.join(storage_path, exp_name) # 実験ディレクトリのパスを指定\n",
    "os.makedirs(experiment_path, exist_ok=True) # すでにディレクトリが存在している場合はスキップ\n",
    "\n",
    "# ハイパーパラメータ探索範囲\n",
    "config = {\n",
    "    \"hidden_size\": tune.choice([64, 128, 256]),\n",
    "    \"learning_rate\": tune.loguniform(1e-4, 1e-2),\n",
    "    \"dropout\": tune.uniform(0.0, 0.5),\n",
    "    \"batch_size\": tune.choice([64, 128]),\n",
    "    \"num_epochs\": 30\n",
    "}\n",
    "\n",
    "# 試行スケジューラ定義\n",
    "ray_scheduler = ASHAScheduler(\n",
    "    max_t=30,\n",
    "    grace_period=5,\n",
    "    reduction_factor=2\n",
    ")\n",
    "\n",
    "def train_rnn_model(config):\n",
    "    set_seed(42)\n",
    "    device = torch.device(\"cuda\" if torch.cuda.is_available() else \"cpu\")\n",
    "    train_loader, test_loader = create_dataloaders(config[\"batch_size\"])\n",
    "\n",
    "    model = RNNModel(\n",
    "        input_size=6,  # 特徴量数に合わせる\n",
    "        hidden_size=config[\"hidden_size\"],\n",
    "        output_size=1,  # 出力サイズ\n",
    "        num_layers=1, # ここを変える\n",
    "        dropout=config[\"dropout\"]\n",
    "    ).to(device)  # モデルをGPUに送る\n",
    "\n",
    "    criterion = nn.MSELoss()\n",
    "    optimizer = torch.optim.Adam(model.parameters(), lr=config[\"learning_rate\"])\n",
    "    scheduler = StepLR(optimizer, step_size=5, gamma=0.5)\n",
    "\n",
    "    best_test_loss = float(\"inf\")\n",
    "    best_epoch = 0\n",
    "    best_model_state = None\n",
    "\n",
    "    for epoch in range(config[\"num_epochs\"]):\n",
    "        model.train()\n",
    "        train_loss = 0.0\n",
    "        train_predictions, train_targets = [], []\n",
    "        for batch_x, batch_y in train_loader:\n",
    "            batch_x, batch_y = batch_x.to(device), batch_y.to(device)  # 入力データをGPUに送る\n",
    "\n",
    "            optimizer.zero_grad()\n",
    "            outputs = model(batch_x)\n",
    "            loss = criterion(outputs, batch_y)\n",
    "            loss.backward()\n",
    "            optimizer.step()\n",
    "            train_loss += loss.item()\n",
    "            train_predictions.append(outputs.cpu())  # CPUに戻す\n",
    "            train_targets.append(batch_y.cpu())\n",
    "\n",
    "        train_loss /= len(train_loader)\n",
    "        train_predictions = scaler_y.inverse_transform(torch.cat(train_predictions).detach().numpy()) # 勾配追跡を無効化\n",
    "        train_targets = scaler_y.inverse_transform(torch.cat(train_targets).detach().numpy())\n",
    "        train_rmse = np.sqrt(mean_squared_error(train_targets, train_predictions))\n",
    "\n",
    "        model.eval()\n",
    "        test_loss = 0.0\n",
    "        test_predictions, test_targets = [], []\n",
    "        with torch.no_grad():\n",
    "            for batch_x, batch_y in test_loader:\n",
    "                batch_x, batch_y = batch_x.to(device), batch_y.to(device)\n",
    "                outputs = model(batch_x)\n",
    "                loss = criterion(outputs, batch_y)\n",
    "                test_loss += loss.item()\n",
    "                test_predictions.append(outputs.cpu())  # CPUに戻す\n",
    "                test_targets.append(batch_y.cpu())\n",
    "\n",
    "        test_loss /= len(test_loader)\n",
    "        test_predictions = scaler_y.inverse_transform(torch.cat(test_predictions).detach().numpy())\n",
    "        test_targets = scaler_y.inverse_transform(torch.cat(test_targets).detach().numpy())\n",
    "        test_rmse = np.sqrt(mean_squared_error(test_targets, test_predictions))\n",
    "        test_r2 = r2_score(test_targets, test_predictions)\n",
    "\n",
    "        if test_loss < best_test_loss:\n",
    "            best_test_loss = test_loss\n",
    "            best_epoch = epoch\n",
    "            best_model_state = model.state_dict()\n",
    "\n",
    "        # 学習率スケジューラを更新\n",
    "        scheduler.step()\n",
    "\n",
    "        # 結果を報告\n",
    "        tune.report({\"train_loss\": train_loss, \"train_rmse\": train_rmse,\n",
    "                        \"test_loss\": test_loss, \"test_rmse\": test_rmse,\n",
    "                        \"test_r2\": test_r2,\n",
    "                        \"epoch\": epoch, \"best_test_loss\": best_test_loss, \"best_epoch\":best_epoch})\n",
    "\n",
    "    torch.save(best_model_state, os.path.join(experiment_path, \"best_model.path\"))\n",
    "\n",
    "algo = OptunaSearch(metric=\"test_loss\", mode=\"min\")\n",
    "\n",
    "# リソース設定\n",
    "scaling_config = ScalingConfig(\n",
    "    num_workers=-2,              # 試行ごとに使用するワーカー数\n",
    "    use_gpu=True,               # GPUを使用\n",
    "    trainer_resources={\"cpu\": 4, \"gpu\": 1},  # トレーナーが使用するリソース\n",
    ")\n",
    "trainable_with_cpu_gpu = tune.with_resources(train_rnn_model, {\"cpu\": 4, \"gpu\": 1})\n",
    "tuner = tune.Tuner(\n",
    "    trainable_with_cpu_gpu,\n",
    "    tune_config=tune.TuneConfig(\n",
    "        metric=\"test_loss\",\n",
    "        mode=\"min\",\n",
    "        num_samples=30,\n",
    "        search_alg=algo,\n",
    "        scheduler=ray_scheduler,\n",
    "        max_concurrent_trials=5\n",
    "    ),\n",
    "    run_config=RunConfig(\n",
    "        storage_path=experiment_path,\n",
    "        verbose=1,\n",
    "    ),\n",
    "    param_space=config,\n",
    ")\n",
    "result_grid = tuner.fit()\n",
    "best_result = result_grid.get_best_result()"
   ]
  },
  {
   "cell_type": "code",
   "execution_count": 18,
   "id": "31b2d25c",
   "metadata": {},
   "outputs": [
    {
     "name": "stdout",
     "output_type": "stream",
     "text": [
      "Result(\n",
      "  metrics={'train_loss': 0.0022386849777988717, 'train_rmse': np.float64(191.76665304152857), 'test_loss': 0.0031746236633349643, 'test_rmse': np.float64(228.00101082561017), 'test_r2': 0.8976699709892273, 'epoch': 29, 'best_test_loss': 0.0027536521264246534, 'best_epoch': 17},\n",
      "  path='/home/omen/Projects/2505_portfolio_r/ray_results/RNN_tune_1/train_rnn_model_2025-05-25_00-35-32/train_rnn_model_aa9eaecd_26_batch_size=64,dropout=0.2216,hidden_size=64,learning_rate=0.0012,num_epochs=30_2025-05-25_00-45-18',\n",
      "  filesystem='local',\n",
      "  checkpoint=None\n",
      ")\n",
      "Best config: {'hidden_size': 64, 'learning_rate': 0.0011509147251406676, 'dropout': 0.22160607866741258, 'batch_size': 64, 'num_epochs': 30}\n",
      "Best metrics: {'train_loss': 0.0022386849777988717, 'train_rmse': np.float64(191.76665304152857), 'test_loss': 0.0031746236633349643, 'test_rmse': np.float64(228.00101082561017), 'test_r2': 0.8976699709892273, 'epoch': 29, 'best_test_loss': 0.0027536521264246534, 'best_epoch': 17, 'timestamp': 1748101623, 'checkpoint_dir_name': None, 'done': True, 'training_iteration': 30, 'trial_id': 'aa9eaecd', 'date': '2025-05-25_00-47-03', 'time_this_iter_s': 1.542018175125122, 'time_total_s': 47.80215239524841, 'pid': 51772, 'hostname': 'OMEN', 'node_ip': '172.23.68.119', 'config': {'hidden_size': 64, 'learning_rate': 0.0011509147251406676, 'dropout': 0.22160607866741258, 'batch_size': 64, 'num_epochs': 30}, 'time_since_restore': 47.80215239524841, 'iterations_since_restore': 30, 'experiment_tag': '26_batch_size=64,dropout=0.2216,hidden_size=64,learning_rate=0.0012,num_epochs=30'}\n"
     ]
    }
   ],
   "source": [
    "best_config  = best_result.config\n",
    "best_metrics = best_result.metrics\n",
    "print(best_result)\n",
    "print(\"Best config:\", best_config)\n",
    "print(\"Best metrics:\", best_metrics)"
   ]
  },
  {
   "cell_type": "code",
   "execution_count": 19,
   "id": "dc90d3ce",
   "metadata": {},
   "outputs": [],
   "source": [
    "import glob\n",
    "\n",
    "def get_json(model):\n",
    "    # 1. train_rnn_model_* のサブディレクトリを列挙\n",
    "    run_dirs = [\n",
    "        d for d in glob.glob(os.path.join(experiment_path, f\"{model}_*\"))\n",
    "        if os.path.isdir(d)\n",
    "    ]\n",
    "\n",
    "    # 2. OS の作成時刻で最古のものを選ぶ場合\n",
    "    start_dir = min(run_dirs, key=os.path.getctime)\n",
    "\n",
    "    # 3. そのディレクトリ内の experiment_state-*.json を取得\n",
    "    state_file = glob.glob(os.path.join(start_dir, \"experiment_state-*.json\"))[0]\n",
    "\n",
    "    # ここで初めて ExperimentAnalysis に渡す\n",
    "    analysis = ExperimentAnalysis(state_file)\n",
    "    return analysis"
   ]
  },
  {
   "cell_type": "code",
   "execution_count": 20,
   "id": "c574caeb",
   "metadata": {},
   "outputs": [],
   "source": [
    "analysis = get_json(\"train_rnn_model\")"
   ]
  },
  {
   "cell_type": "code",
   "execution_count": 21,
   "id": "68632d35-6c69-493e-9d53-9e7854238669",
   "metadata": {
    "colab": {
     "base_uri": "https://localhost:8080/"
    },
    "id": "g0BcLWTXH1Y-",
    "outputId": "1bd11ce2-c5b2-480f-c589-1a6891290b3f"
   },
   "outputs": [
    {
     "name": "stdout",
     "output_type": "stream",
     "text": [
      "Best Epoch: 17\n",
      "Best Test Loss: 0.0027536521264246534\n",
      "Best Test RMSE: 212.6790605877786\n",
      "Best Test R²: 0.9109612703323364\n"
     ]
    }
   ],
   "source": [
    "# 最良試行のデータフレームを取得\n",
    "best_trial = analysis.get_best_trial(metric=\"test_loss\", mode=\"min\")\n",
    "best_trial_df = analysis.trial_dataframes[best_trial.trial_id]\n",
    "\n",
    "# test_loss が最小のエポックを取得\n",
    "best_epoch_idx = best_trial_df[\"test_loss\"].idxmin()\n",
    "best_epoch = best_trial_df.loc[best_epoch_idx]\n",
    "\n",
    "# 同じエポックの test_rmse, test_r2 を取得\n",
    "best_epoch_loss = best_epoch[\"test_loss\"]\n",
    "best_epoch_rmse = best_epoch[\"test_rmse\"]\n",
    "best_epoch_r2 = best_epoch[\"test_r2\"]\n",
    "\n",
    "# 結果を表示\n",
    "print(f\"Best Epoch: {best_epoch['epoch']}\")\n",
    "print(f\"Best Test Loss: {best_epoch_loss}\")\n",
    "print(f\"Best Test RMSE: {best_epoch_rmse}\")\n",
    "print(f\"Best Test R²: {best_epoch_r2}\")"
   ]
  },
  {
   "cell_type": "code",
   "execution_count": 23,
   "id": "54f3debb",
   "metadata": {},
   "outputs": [],
   "source": [
    "def plot_loss(best_trial_df):\n",
    "    plt.figure(figsize=(10, 6))\n",
    "    plt.plot(best_trial_df[\"epoch\"], best_trial_df[\"train_loss\"], label=\"Train Loss\")\n",
    "    plt.plot(best_trial_df[\"epoch\"], best_trial_df[\"test_loss\"], label=\"Test Loss\")\n",
    "    plt.title(\"Loss Learning Curve(best)\")\n",
    "    plt.xlabel(\"Epochs\")\n",
    "    plt.ylabel(\"Loss\")\n",
    "    plt.legend()\n",
    "    plt.show()"
   ]
  },
  {
   "cell_type": "code",
   "execution_count": 24,
   "id": "5fd81336-3237-4ff8-869e-73d0bff93cbd",
   "metadata": {
    "colab": {
     "base_uri": "https://localhost:8080/",
     "height": 564
    },
    "id": "ZZpKfdAGnaqV",
    "outputId": "2c16d2ac-b630-4e78-8655-1de685f97439"
   },
   "outputs": [
    {
     "data": {
      "image/png": "[encoded data removed]",
      "text/plain": [
       "<Figure size 1000x600 with 1 Axes>"
      ]
     },
     "metadata": {},
     "output_type": "display_data"
    }
   ],
   "source": [
    "plot_loss(best_trial_df)"
   ]
  },
  {
   "cell_type": "markdown",
   "id": "ee443367-faeb-43af-9979-aa628c424ff7",
   "metadata": {
    "id": "bade156e-620e-41d0-b32c-dd156cf1f327"
   },
   "source": [
    "### LSTM RayTune結果"
   ]
  },
  {
   "cell_type": "markdown",
   "id": "0cc60a81-b0b2-4be7-aca4-d275e28851b4",
   "metadata": {
    "id": "DACL5rVfL47_"
   },
   "source": [
    "#### LSTM 1層"
   ]
  },
  {
   "cell_type": "code",
   "execution_count": 25,
   "id": "dd4a27ed-0b64-4d49-8d51-7d29dd9f5397",
   "metadata": {
    "id": "c5EWFsKF17np"
   },
   "outputs": [],
   "source": [
    "# モデル定義\n",
    "# 乱数シード設定\n",
    "def set_seed(seed):\n",
    "    torch.manual_seed(seed)\n",
    "    np.random.seed(seed)\n",
    "    random.seed(seed)\n",
    "\n",
    "class LSTMModel(nn.Module):\n",
    "    def __init__(self, input_size, hidden_size, output_size, num_layers, dropout=0.0):\n",
    "        super(LSTMModel, self).__init__()\n",
    "        self.lstm = nn.LSTM(input_size=input_size, hidden_size=hidden_size, num_layers=num_layers, batch_first=True, dropout=dropout)\n",
    "        self.fc = nn.Linear(hidden_size, output_size)\n",
    "\n",
    "    def forward(self, x):\n",
    "        out, _ = self.lstm(x)\n",
    "        out = self.fc(out[:, -1, :]) # 最後の時間ステップを出力\n",
    "        return out"
   ]
  },
  {
   "cell_type": "code",
   "execution_count": 26,
   "id": "6905a442-92a7-4b85-ac9a-ca8031e934ad",
   "metadata": {
    "colab": {
     "base_uri": "https://localhost:8080/"
    },
    "collapsed": true,
    "id": "MNRqv1ZK1WzF",
    "jupyter": {
     "outputs_hidden": true
    },
    "outputId": "3721e488-7c71-4d3a-dd76-8ceb58b773f3"
   },
   "outputs": [
    {
     "data": {
      "text/html": [
       "<div class=\"tuneStatus\">\n",
       "  <div style=\"display: flex;flex-direction: row\">\n",
       "    <div style=\"display: flex;flex-direction: column;\">\n",
       "      <h3>Tune Status</h3>\n",
       "      <table>\n",
       "<tbody>\n",
       "<tr><td>Current time:</td><td>2025-05-25 01:02:51</td></tr>\n",
       "<tr><td>Running for: </td><td>00:14:05.96        </td></tr>\n",
       "<tr><td>Memory:      </td><td>8.6/15.3 GiB       </td></tr>\n",
       "</tbody>\n",
       "</table>\n",
       "    </div>\n",
       "    <div class=\"vDivider\"></div>\n",
       "    <div class=\"systemInfo\">\n",
       "      <h3>System Info</h3>\n",
       "      Using AsyncHyperBand: num_stopped=30<br>Bracket: Iter 20.000: -0.0032826476465603917 | Iter 10.000: -0.003249911179070966 | Iter 5.000: -0.003193910524576962<br>Logical resource usage: 4.0/20 CPUs, 1.0/1 GPUs (0.0/1.0 accelerator_type:G)\n",
       "    </div>\n",
       "    \n",
       "  </div>\n",
       "  <div class=\"hDivider\"></div>\n",
       "  <div class=\"trialStatus\">\n",
       "    <h3>Trial Status</h3>\n",
       "    <table>\n",
       "<thead>\n",
       "<tr><th>Trial name                </th><th>status    </th><th>loc                </th><th style=\"text-align: right;\">  batch_size</th><th style=\"text-align: right;\">    dropout</th><th style=\"text-align: right;\">  hidden_size</th><th style=\"text-align: right;\">  learning_rate</th><th style=\"text-align: right;\">  iter</th><th style=\"text-align: right;\">  total time (s)</th><th style=\"text-align: right;\">  train_loss</th><th style=\"text-align: right;\">  train_rmse</th><th style=\"text-align: right;\">  test_loss</th></tr>\n",
       "</thead>\n",
       "<tbody>\n",
       "<tr><td>train_lstm1_model_2d2c93a8</td><td>TERMINATED</td><td>172.23.68.119:52612</td><td style=\"text-align: right;\">         128</td><td style=\"text-align: right;\">0.308897   </td><td style=\"text-align: right;\">          128</td><td style=\"text-align: right;\">    0.00240592 </td><td style=\"text-align: right;\">    30</td><td style=\"text-align: right;\">        30.8984 </td><td style=\"text-align: right;\">  0.00186447</td><td style=\"text-align: right;\">     175.007</td><td style=\"text-align: right;\"> 0.00341676</td></tr>\n",
       "<tr><td>train_lstm1_model_4b99bb48</td><td>TERMINATED</td><td>172.23.68.119:52787</td><td style=\"text-align: right;\">         128</td><td style=\"text-align: right;\">0.499047   </td><td style=\"text-align: right;\">          256</td><td style=\"text-align: right;\">    0.000412223</td><td style=\"text-align: right;\">     5</td><td style=\"text-align: right;\">         7.1765 </td><td style=\"text-align: right;\">  0.00270067</td><td style=\"text-align: right;\">     210.626</td><td style=\"text-align: right;\"> 0.00321147</td></tr>\n",
       "<tr><td>train_lstm1_model_936298fe</td><td>TERMINATED</td><td>172.23.68.119:52893</td><td style=\"text-align: right;\">          64</td><td style=\"text-align: right;\">0.476572   </td><td style=\"text-align: right;\">          128</td><td style=\"text-align: right;\">    0.00351964 </td><td style=\"text-align: right;\">    10</td><td style=\"text-align: right;\">        17.077  </td><td style=\"text-align: right;\">  0.00209843</td><td style=\"text-align: right;\">     185.663</td><td style=\"text-align: right;\"> 0.00340732</td></tr>\n",
       "<tr><td>train_lstm1_model_95548a5d</td><td>TERMINATED</td><td>172.23.68.119:53024</td><td style=\"text-align: right;\">         128</td><td style=\"text-align: right;\">0.230321   </td><td style=\"text-align: right;\">          256</td><td style=\"text-align: right;\">    0.000902845</td><td style=\"text-align: right;\">     5</td><td style=\"text-align: right;\">         6.804  </td><td style=\"text-align: right;\">  0.0025285 </td><td style=\"text-align: right;\">     203.802</td><td style=\"text-align: right;\"> 0.00318613</td></tr>\n",
       "<tr><td>train_lstm1_model_8f470f93</td><td>TERMINATED</td><td>172.23.68.119:53130</td><td style=\"text-align: right;\">          64</td><td style=\"text-align: right;\">0.198215   </td><td style=\"text-align: right;\">           64</td><td style=\"text-align: right;\">    0.00105104 </td><td style=\"text-align: right;\">     5</td><td style=\"text-align: right;\">         8.24028</td><td style=\"text-align: right;\">  0.00252816</td><td style=\"text-align: right;\">     203.788</td><td style=\"text-align: right;\"> 0.00319377</td></tr>\n",
       "<tr><td>train_lstm1_model_9f792924</td><td>TERMINATED</td><td>172.23.68.119:53237</td><td style=\"text-align: right;\">         128</td><td style=\"text-align: right;\">0.231886   </td><td style=\"text-align: right;\">           64</td><td style=\"text-align: right;\">    0.000333857</td><td style=\"text-align: right;\">     5</td><td style=\"text-align: right;\">         4.87837</td><td style=\"text-align: right;\">  0.00330774</td><td style=\"text-align: right;\">     233.1  </td><td style=\"text-align: right;\"> 0.00333969</td></tr>\n",
       "<tr><td>train_lstm1_model_1e121443</td><td>TERMINATED</td><td>172.23.68.119:53330</td><td style=\"text-align: right;\">         128</td><td style=\"text-align: right;\">0.10452    </td><td style=\"text-align: right;\">          128</td><td style=\"text-align: right;\">    0.000371636</td><td style=\"text-align: right;\">     5</td><td style=\"text-align: right;\">         5.16533</td><td style=\"text-align: right;\">  0.00273483</td><td style=\"text-align: right;\">     211.954</td><td style=\"text-align: right;\"> 0.00319405</td></tr>\n",
       "<tr><td>train_lstm1_model_23f12af9</td><td>TERMINATED</td><td>172.23.68.119:53424</td><td style=\"text-align: right;\">         128</td><td style=\"text-align: right;\">0.0826566  </td><td style=\"text-align: right;\">          256</td><td style=\"text-align: right;\">    0.000165697</td><td style=\"text-align: right;\">     5</td><td style=\"text-align: right;\">         6.7806 </td><td style=\"text-align: right;\">  0.00316531</td><td style=\"text-align: right;\">     228.026</td><td style=\"text-align: right;\"> 0.00370613</td></tr>\n",
       "<tr><td>train_lstm1_model_286357ec</td><td>TERMINATED</td><td>172.23.68.119:53530</td><td style=\"text-align: right;\">         128</td><td style=\"text-align: right;\">0.482864   </td><td style=\"text-align: right;\">          256</td><td style=\"text-align: right;\">    0.00984942 </td><td style=\"text-align: right;\">     5</td><td style=\"text-align: right;\">         6.71039</td><td style=\"text-align: right;\">  0.00256307</td><td style=\"text-align: right;\">     205.19 </td><td style=\"text-align: right;\"> 0.00338071</td></tr>\n",
       "<tr><td>train_lstm1_model_f008b97b</td><td>TERMINATED</td><td>172.23.68.119:53630</td><td style=\"text-align: right;\">         128</td><td style=\"text-align: right;\">0.487048   </td><td style=\"text-align: right;\">          128</td><td style=\"text-align: right;\">    0.00689903 </td><td style=\"text-align: right;\">    20</td><td style=\"text-align: right;\">        21.5914 </td><td style=\"text-align: right;\">  0.00184502</td><td style=\"text-align: right;\">     174.092</td><td style=\"text-align: right;\"> 0.00391942</td></tr>\n",
       "<tr><td>train_lstm1_model_45560f73</td><td>TERMINATED</td><td>172.23.68.119:53780</td><td style=\"text-align: right;\">         128</td><td style=\"text-align: right;\">0.404988   </td><td style=\"text-align: right;\">           64</td><td style=\"text-align: right;\">    0.000518455</td><td style=\"text-align: right;\">     5</td><td style=\"text-align: right;\">         5.4784 </td><td style=\"text-align: right;\">  0.00290095</td><td style=\"text-align: right;\">     218.297</td><td style=\"text-align: right;\"> 0.00324042</td></tr>\n",
       "<tr><td>train_lstm1_model_694579d7</td><td>TERMINATED</td><td>172.23.68.119:53880</td><td style=\"text-align: right;\">          64</td><td style=\"text-align: right;\">0.34237    </td><td style=\"text-align: right;\">          256</td><td style=\"text-align: right;\">    0.00104446 </td><td style=\"text-align: right;\">    30</td><td style=\"text-align: right;\">        68.1454 </td><td style=\"text-align: right;\">  0.00187534</td><td style=\"text-align: right;\">     175.516</td><td style=\"text-align: right;\"> 0.00308919</td></tr>\n",
       "<tr><td>train_lstm1_model_aca17a28</td><td>TERMINATED</td><td>172.23.68.119:54168</td><td style=\"text-align: right;\">          64</td><td style=\"text-align: right;\">0.210832   </td><td style=\"text-align: right;\">           64</td><td style=\"text-align: right;\">    0.00127331 </td><td style=\"text-align: right;\">     5</td><td style=\"text-align: right;\">         8.79783</td><td style=\"text-align: right;\">  0.00250295</td><td style=\"text-align: right;\">     202.77 </td><td style=\"text-align: right;\"> 0.00320467</td></tr>\n",
       "<tr><td>train_lstm1_model_1fe843d1</td><td>TERMINATED</td><td>172.23.68.119:54274</td><td style=\"text-align: right;\">          64</td><td style=\"text-align: right;\">0.321354   </td><td style=\"text-align: right;\">          256</td><td style=\"text-align: right;\">    0.00119363 </td><td style=\"text-align: right;\">    20</td><td style=\"text-align: right;\">        44.5546 </td><td style=\"text-align: right;\">  0.00193293</td><td style=\"text-align: right;\">     178.19 </td><td style=\"text-align: right;\"> 0.00332755</td></tr>\n",
       "<tr><td>train_lstm1_model_4b237325</td><td>TERMINATED</td><td>172.23.68.119:54493</td><td style=\"text-align: right;\">          64</td><td style=\"text-align: right;\">0.336169   </td><td style=\"text-align: right;\">          256</td><td style=\"text-align: right;\">    0.00196618 </td><td style=\"text-align: right;\">    20</td><td style=\"text-align: right;\">        45.186  </td><td style=\"text-align: right;\">  0.00186696</td><td style=\"text-align: right;\">     175.123</td><td style=\"text-align: right;\"> 0.00364116</td></tr>\n",
       "<tr><td>train_lstm1_model_afab6b60</td><td>TERMINATED</td><td>172.23.68.119:54718</td><td style=\"text-align: right;\">          64</td><td style=\"text-align: right;\">0.32754    </td><td style=\"text-align: right;\">          256</td><td style=\"text-align: right;\">    0.00249417 </td><td style=\"text-align: right;\">     5</td><td style=\"text-align: right;\">        12.0949 </td><td style=\"text-align: right;\">  0.00247348</td><td style=\"text-align: right;\">     201.572</td><td style=\"text-align: right;\"> 0.00345212</td></tr>\n",
       "<tr><td>train_lstm1_model_542c59ba</td><td>TERMINATED</td><td>172.23.68.119:54830</td><td style=\"text-align: right;\">          64</td><td style=\"text-align: right;\">0.129205   </td><td style=\"text-align: right;\">          256</td><td style=\"text-align: right;\">    0.0006344  </td><td style=\"text-align: right;\">    30</td><td style=\"text-align: right;\">        70.3472 </td><td style=\"text-align: right;\">  0.00193379</td><td style=\"text-align: right;\">     178.23 </td><td style=\"text-align: right;\"> 0.00304415</td></tr>\n",
       "<tr><td>train_lstm1_model_d2a8219f</td><td>TERMINATED</td><td>172.23.68.119:55132</td><td style=\"text-align: right;\">          64</td><td style=\"text-align: right;\">0.163438   </td><td style=\"text-align: right;\">          256</td><td style=\"text-align: right;\">    0.000626326</td><td style=\"text-align: right;\">    30</td><td style=\"text-align: right;\">        67.7996 </td><td style=\"text-align: right;\">  0.00193722</td><td style=\"text-align: right;\">     178.388</td><td style=\"text-align: right;\"> 0.00304093</td></tr>\n",
       "<tr><td>train_lstm1_model_8e0b99d1</td><td>TERMINATED</td><td>172.23.68.119:55419</td><td style=\"text-align: right;\">          64</td><td style=\"text-align: right;\">0.0207104  </td><td style=\"text-align: right;\">          256</td><td style=\"text-align: right;\">    0.000115115</td><td style=\"text-align: right;\">     5</td><td style=\"text-align: right;\">        12.2964 </td><td style=\"text-align: right;\">  0.00301913</td><td style=\"text-align: right;\">     222.699</td><td style=\"text-align: right;\"> 0.00358916</td></tr>\n",
       "<tr><td>train_lstm1_model_7d7e1f64</td><td>TERMINATED</td><td>172.23.68.119:55546</td><td style=\"text-align: right;\">          64</td><td style=\"text-align: right;\">0.000794419</td><td style=\"text-align: right;\">          256</td><td style=\"text-align: right;\">    0.000101444</td><td style=\"text-align: right;\">     5</td><td style=\"text-align: right;\">        12.2064 </td><td style=\"text-align: right;\">  0.00309898</td><td style=\"text-align: right;\">     225.624</td><td style=\"text-align: right;\"> 0.00366325</td></tr>\n",
       "<tr><td>train_lstm1_model_3579ea14</td><td>TERMINATED</td><td>172.23.68.119:55664</td><td style=\"text-align: right;\">          64</td><td style=\"text-align: right;\">0.137794   </td><td style=\"text-align: right;\">          256</td><td style=\"text-align: right;\">    0.000249311</td><td style=\"text-align: right;\">     5</td><td style=\"text-align: right;\">        11.826  </td><td style=\"text-align: right;\">  0.00264862</td><td style=\"text-align: right;\">     208.587</td><td style=\"text-align: right;\"> 0.00333394</td></tr>\n",
       "<tr><td>train_lstm1_model_c7ddfc1d</td><td>TERMINATED</td><td>172.23.68.119:55780</td><td style=\"text-align: right;\">          64</td><td style=\"text-align: right;\">0.141346   </td><td style=\"text-align: right;\">          256</td><td style=\"text-align: right;\">    0.000197008</td><td style=\"text-align: right;\">     5</td><td style=\"text-align: right;\">        11.9405 </td><td style=\"text-align: right;\">  0.0027201 </td><td style=\"text-align: right;\">     211.382</td><td style=\"text-align: right;\"> 0.00331327</td></tr>\n",
       "<tr><td>train_lstm1_model_dff26a99</td><td>TERMINATED</td><td>172.23.68.119:55895</td><td style=\"text-align: right;\">          64</td><td style=\"text-align: right;\">0.157865   </td><td style=\"text-align: right;\">          256</td><td style=\"text-align: right;\">    0.00065634 </td><td style=\"text-align: right;\">    30</td><td style=\"text-align: right;\">        71.4325 </td><td style=\"text-align: right;\">  0.00192487</td><td style=\"text-align: right;\">     177.819</td><td style=\"text-align: right;\"> 0.00305066</td></tr>\n",
       "<tr><td>train_lstm1_model_e90db974</td><td>TERMINATED</td><td>172.23.68.119:56194</td><td style=\"text-align: right;\">          64</td><td style=\"text-align: right;\">0.17057    </td><td style=\"text-align: right;\">          256</td><td style=\"text-align: right;\">    0.00063082 </td><td style=\"text-align: right;\">    30</td><td style=\"text-align: right;\">        66.271  </td><td style=\"text-align: right;\">  0.00193536</td><td style=\"text-align: right;\">     178.303</td><td style=\"text-align: right;\"> 0.00304291</td></tr>\n",
       "<tr><td>train_lstm1_model_2782a4ab</td><td>TERMINATED</td><td>172.23.68.119:56482</td><td style=\"text-align: right;\">          64</td><td style=\"text-align: right;\">0.165553   </td><td style=\"text-align: right;\">          256</td><td style=\"text-align: right;\">    0.000602355</td><td style=\"text-align: right;\">    30</td><td style=\"text-align: right;\">        68.5014 </td><td style=\"text-align: right;\">  0.00194621</td><td style=\"text-align: right;\">     178.802</td><td style=\"text-align: right;\"> 0.00302897</td></tr>\n",
       "<tr><td>train_lstm1_model_2287ddfa</td><td>TERMINATED</td><td>172.23.68.119:56772</td><td style=\"text-align: right;\">          64</td><td style=\"text-align: right;\">0.0509526  </td><td style=\"text-align: right;\">          256</td><td style=\"text-align: right;\">    0.000700315</td><td style=\"text-align: right;\">    10</td><td style=\"text-align: right;\">        25.1803 </td><td style=\"text-align: right;\">  0.00224756</td><td style=\"text-align: right;\">     192.146</td><td style=\"text-align: right;\"> 0.00324991</td></tr>\n",
       "<tr><td>train_lstm1_model_87150301</td><td>TERMINATED</td><td>172.23.68.119:56931</td><td style=\"text-align: right;\">          64</td><td style=\"text-align: right;\">0.0645484  </td><td style=\"text-align: right;\">          256</td><td style=\"text-align: right;\">    0.000670043</td><td style=\"text-align: right;\">    10</td><td style=\"text-align: right;\">        22.4325 </td><td style=\"text-align: right;\">  0.00224929</td><td style=\"text-align: right;\">     192.22 </td><td style=\"text-align: right;\"> 0.00325438</td></tr>\n",
       "<tr><td>train_lstm1_model_d3fc2d2b</td><td>TERMINATED</td><td>172.23.68.119:57083</td><td style=\"text-align: right;\">          64</td><td style=\"text-align: right;\">0.278829   </td><td style=\"text-align: right;\">          256</td><td style=\"text-align: right;\">    0.000276618</td><td style=\"text-align: right;\">     5</td><td style=\"text-align: right;\">        11.3939 </td><td style=\"text-align: right;\">  0.00261766</td><td style=\"text-align: right;\">     207.364</td><td style=\"text-align: right;\"> 0.00327084</td></tr>\n",
       "<tr><td>train_lstm1_model_5281d5b6</td><td>TERMINATED</td><td>172.23.68.119:57201</td><td style=\"text-align: right;\">          64</td><td style=\"text-align: right;\">0.266301   </td><td style=\"text-align: right;\">          256</td><td style=\"text-align: right;\">    0.000266292</td><td style=\"text-align: right;\">     5</td><td style=\"text-align: right;\">        11.8875 </td><td style=\"text-align: right;\">  0.00263464</td><td style=\"text-align: right;\">     208.035</td><td style=\"text-align: right;\"> 0.00328807</td></tr>\n",
       "<tr><td>train_lstm1_model_cee13c47</td><td>TERMINATED</td><td>172.23.68.119:57319</td><td style=\"text-align: right;\">          64</td><td style=\"text-align: right;\">0.179544   </td><td style=\"text-align: right;\">           64</td><td style=\"text-align: right;\">    0.0017519  </td><td style=\"text-align: right;\">     5</td><td style=\"text-align: right;\">         9.51229</td><td style=\"text-align: right;\">  0.00247975</td><td style=\"text-align: right;\">     201.828</td><td style=\"text-align: right;\"> 0.00340654</td></tr>\n",
       "</tbody>\n",
       "</table>\n",
       "  </div>\n",
       "</div>\n",
       "<style>\n",
       ".tuneStatus {\n",
       "  color: var(--jp-ui-font-color1);\n",
       "}\n",
       ".tuneStatus .systemInfo {\n",
       "  display: flex;\n",
       "  flex-direction: column;\n",
       "}\n",
       ".tuneStatus td {\n",
       "  white-space: nowrap;\n",
       "}\n",
       ".tuneStatus .trialStatus {\n",
       "  display: flex;\n",
       "  flex-direction: column;\n",
       "}\n",
       ".tuneStatus h3 {\n",
       "  font-weight: bold;\n",
       "}\n",
       ".tuneStatus .hDivider {\n",
       "  border-bottom-width: var(--jp-border-width);\n",
       "  border-bottom-color: var(--jp-border-color0);\n",
       "  border-bottom-style: solid;\n",
       "}\n",
       ".tuneStatus .vDivider {\n",
       "  border-left-width: var(--jp-border-width);\n",
       "  border-left-color: var(--jp-border-color0);\n",
       "  border-left-style: solid;\n",
       "  margin: 0.5em 1em 0.5em 1em;\n",
       "}\n",
       "</style>\n"
      ],
      "text/plain": [
       "<IPython.core.display.HTML object>"
      ]
     },
     "metadata": {},
     "output_type": "display_data"
    },
    {
     "name": "stderr",
     "output_type": "stream",
     "text": [
      "2025-05-25 01:02:51,501\tINFO tune.py:1009 -- Wrote the latest version of all result files and experiment state to '/home/omen/Projects/2505_portfolio_r/ray_results/LSTM_tune_1/train_lstm1_model_2025-05-25_00-48-45' in 0.0052s.\n",
      "2025-05-25 01:02:51,508\tINFO tune.py:1041 -- Total run time: 846.14 seconds (845.95 seconds for the tuning loop).\n"
     ]
    }
   ],
   "source": [
    "exp_name = \"LSTM_tune_1\"\n",
    "storage_path = os.path.abspath(\"ray_results\")\n",
    "experiment_path = os.path.join(storage_path, exp_name) # 実験ディレクトリのパスを指定\n",
    "os.makedirs(experiment_path, exist_ok=True) # すでにディレクトリが存在している場合はスキップ\n",
    "\n",
    "# ハイパーパラメータ探索範囲\n",
    "config = {\n",
    "    \"hidden_size\": tune.choice([64, 128, 256]),\n",
    "    \"learning_rate\": tune.loguniform(1e-4, 1e-2),\n",
    "    \"dropout\": tune.uniform(0.0, 0.5),\n",
    "    \"batch_size\": tune.choice([64, 128]),\n",
    "    \"num_epochs\": 30\n",
    "}\n",
    "\n",
    "# 試行スケジューラ定義\n",
    "ray_scheduler = ASHAScheduler(\n",
    "    max_t=30,\n",
    "    grace_period=5,\n",
    "    reduction_factor=2\n",
    ")\n",
    "\n",
    "def train_lstm1_model(config):\n",
    "    set_seed(42)\n",
    "    device = \"cuda\" if torch.cuda.is_available() else \"cpu\"  # GPUが利用可能なら使用\n",
    "    train_loader, test_loader = create_dataloaders(config[\"batch_size\"])\n",
    "\n",
    "    model = LSTMModel(\n",
    "        input_size=6,  # 特徴量数に合わせる\n",
    "        hidden_size=config[\"hidden_size\"],\n",
    "        output_size=1,  # 出力サイズ\n",
    "        num_layers=1, # ここを変える\n",
    "        dropout=config[\"dropout\"]\n",
    "    ).to(device)  # モデルをGPUに送る\n",
    "\n",
    "    criterion = nn.MSELoss()\n",
    "    optimizer = torch.optim.Adam(model.parameters(), lr=config[\"learning_rate\"])\n",
    "    scheduler = StepLR(optimizer, step_size=5, gamma=0.5)\n",
    "\n",
    "    best_test_loss = float(\"inf\")\n",
    "    best_epoch = 0\n",
    "    best_model_state = None\n",
    "\n",
    "    for epoch in range(config[\"num_epochs\"]):\n",
    "        model.train()\n",
    "        train_loss = 0.0\n",
    "        train_predictions, train_targets = [], []\n",
    "        for batch_x, batch_y in train_loader:\n",
    "            batch_x, batch_y = batch_x.to(device), batch_y.to(device)  # 入力データをGPUに送る\n",
    "\n",
    "            optimizer.zero_grad()\n",
    "            outputs = model(batch_x)\n",
    "            loss = criterion(outputs, batch_y)\n",
    "            loss.backward()\n",
    "            optimizer.step()\n",
    "            train_loss += loss.item()\n",
    "            train_predictions.append(outputs.cpu())  # CPUに戻す\n",
    "            train_targets.append(batch_y.cpu())\n",
    "\n",
    "        train_loss /= len(train_loader)\n",
    "        train_predictions = scaler_y.inverse_transform(torch.cat(train_predictions).detach().numpy()) # 勾配追跡を無効化\n",
    "        train_targets = scaler_y.inverse_transform(torch.cat(train_targets).detach().numpy())\n",
    "        train_rmse = np.sqrt(mean_squared_error(train_targets, train_predictions))\n",
    "\n",
    "        model.eval()\n",
    "        test_loss = 0.0\n",
    "        test_predictions, test_targets = [], []\n",
    "        with torch.no_grad():\n",
    "            for batch_x, batch_y in test_loader:\n",
    "                batch_x, batch_y = batch_x.to(device), batch_y.to(device)\n",
    "                outputs = model(batch_x)\n",
    "                loss = criterion(outputs, batch_y)\n",
    "                test_loss += loss.item()\n",
    "                test_predictions.append(outputs.cpu())  # CPUに戻す\n",
    "                test_targets.append(batch_y.cpu())\n",
    "\n",
    "        test_loss /= len(test_loader)\n",
    "        test_predictions = scaler_y.inverse_transform(torch.cat(test_predictions).detach().numpy())\n",
    "        test_targets = scaler_y.inverse_transform(torch.cat(test_targets).detach().numpy())\n",
    "        test_rmse = np.sqrt(mean_squared_error(test_targets, test_predictions))\n",
    "        test_r2 = r2_score(test_targets, test_predictions)\n",
    "\n",
    "        if test_loss < best_test_loss:\n",
    "          best_test_loss = test_loss\n",
    "          best_epoch = epoch\n",
    "          best_model_state = model.state_dict()\n",
    "\n",
    "        # 学習率スケジューラを更新\n",
    "        scheduler.step()\n",
    "\n",
    "        # 結果を報告\n",
    "        tune.report({\"train_loss\": train_loss, \"train_rmse\": train_rmse,\n",
    "                        \"test_loss\": test_loss, \"test_rmse\": test_rmse,\n",
    "                        \"test_r2\": test_r2,\n",
    "                        \"epoch\": epoch, \"best_test_loss\": best_test_loss, \"best_epoch\":best_epoch})\n",
    "\n",
    "    torch.save(best_model_state, os.path.join(experiment_path, \"best_model.path\"))\n",
    "\n",
    "algo = OptunaSearch(metric=\"test_loss\", mode=\"min\")\n",
    "\n",
    "# リソース設定\n",
    "scaling_config = ScalingConfig(\n",
    "    num_workers=-2,              # 試行ごとに使用するワーカー数\n",
    "    use_gpu=True,               # GPUを使用\n",
    "    trainer_resources={\"cpu\": 4, \"gpu\": 1},  # トレーナーが使用するリソース\n",
    ")\n",
    "trainable_with_cpu_gpu = tune.with_resources(train_lstm1_model, {\"cpu\": 4, \"gpu\": 1})\n",
    "tuner = tune.Tuner(\n",
    "    trainable_with_cpu_gpu,\n",
    "    tune_config=tune.TuneConfig(\n",
    "        metric=\"test_loss\",\n",
    "        mode=\"min\",\n",
    "        num_samples=30,\n",
    "        search_alg=algo,\n",
    "        scheduler=ray_scheduler,\n",
    "        max_concurrent_trials=5\n",
    "    ),\n",
    "    run_config=RunConfig(\n",
    "        storage_path=experiment_path,\n",
    "        verbose=1,\n",
    "    ),\n",
    "    param_space=config,\n",
    ")\n",
    "result_grid = tuner.fit()\n",
    "best_result = result_grid.get_best_result()"
   ]
  },
  {
   "cell_type": "code",
   "execution_count": 27,
   "id": "45d92401",
   "metadata": {},
   "outputs": [
    {
     "name": "stdout",
     "output_type": "stream",
     "text": [
      "Result(\n",
      "  metrics={'train_loss': 0.0019462142602436735, 'train_rmse': np.float64(178.80182268890604), 'test_loss': 0.0030289668378243426, 'test_rmse': np.float64(222.8499179661056), 'test_r2': 0.9022414684295654, 'epoch': 29, 'best_test_loss': 0.0026687730331463318, 'best_epoch': 14},\n",
      "  path='/home/omen/Projects/2505_portfolio_r/ray_results/LSTM_tune_1/train_lstm1_model_2025-05-25_00-48-45/train_lstm1_model_2782a4ab_25_batch_size=64,dropout=0.1656,hidden_size=256,learning_rate=0.0006,num_epochs=30_2025-05-25_00-59-01',\n",
      "  filesystem='local',\n",
      "  checkpoint=None\n",
      ")\n",
      "Best config: {'hidden_size': 256, 'learning_rate': 0.0006023549726693999, 'dropout': 0.16555315028945927, 'batch_size': 64, 'num_epochs': 30}\n",
      "Best metrics: {'train_loss': 0.0019462142602436735, 'train_rmse': np.float64(178.80182268890604), 'test_loss': 0.0030289668378243426, 'test_rmse': np.float64(222.8499179661056), 'test_r2': 0.9022414684295654, 'epoch': 29, 'best_test_loss': 0.0026687730331463318, 'best_epoch': 14, 'timestamp': 1748102478, 'checkpoint_dir_name': None, 'done': True, 'training_iteration': 30, 'trial_id': '2782a4ab', 'date': '2025-05-25_01-01-18', 'time_this_iter_s': 2.3926875591278076, 'time_total_s': 68.5013644695282, 'pid': 56482, 'hostname': 'OMEN', 'node_ip': '172.23.68.119', 'config': {'hidden_size': 256, 'learning_rate': 0.0006023549726693999, 'dropout': 0.16555315028945927, 'batch_size': 64, 'num_epochs': 30}, 'time_since_restore': 68.5013644695282, 'iterations_since_restore': 30, 'experiment_tag': '25_batch_size=64,dropout=0.1656,hidden_size=256,learning_rate=0.0006,num_epochs=30'}\n"
     ]
    }
   ],
   "source": [
    "best_config  = best_result.config\n",
    "best_metrics = best_result.metrics\n",
    "print(best_result)\n",
    "print(\"Best config:\", best_config)\n",
    "print(\"Best metrics:\", best_metrics)"
   ]
  },
  {
   "cell_type": "code",
   "execution_count": 28,
   "id": "d0c4b0a6",
   "metadata": {},
   "outputs": [],
   "source": [
    "analysis = get_json(\"train_lstm1_model\")"
   ]
  },
  {
   "cell_type": "code",
   "execution_count": 29,
   "id": "1f564e47-ee84-4026-b61e-766108641ee1",
   "metadata": {
    "colab": {
     "base_uri": "https://localhost:8080/"
    },
    "id": "giRTtQzD1W1_",
    "outputId": "61c65ecf-dc67-49a4-8cfe-addd5a74f0d8"
   },
   "outputs": [
    {
     "name": "stdout",
     "output_type": "stream",
     "text": [
      "Best Epoch: 14\n",
      "Best Test Loss: 0.0026687730331463318\n",
      "Best Test RMSE: 209.64533853331918\n",
      "Best Test R²: 0.9134832620620728\n"
     ]
    }
   ],
   "source": [
    "# 最良試行のデータフレームを取得\n",
    "best_trial = analysis.get_best_trial(metric=\"test_loss\", mode=\"min\")\n",
    "best_trial_df = analysis.trial_dataframes[best_trial.trial_id]\n",
    "\n",
    "# test_loss が最小のエポックを取得\n",
    "best_epoch_idx = best_trial_df[\"test_loss\"].idxmin()\n",
    "best_epoch = best_trial_df.loc[best_epoch_idx]\n",
    "\n",
    "# 同じエポックの test_rmse, test_r2 を取得\n",
    "best_epoch_loss = best_epoch[\"test_loss\"]\n",
    "best_epoch_rmse = best_epoch[\"test_rmse\"]\n",
    "best_epoch_r2 = best_epoch[\"test_r2\"]\n",
    "\n",
    "# 結果を表示\n",
    "print(f\"Best Epoch: {best_epoch['epoch']}\")\n",
    "print(f\"Best Test Loss: {best_epoch_loss}\")\n",
    "print(f\"Best Test RMSE: {best_epoch_rmse}\")\n",
    "print(f\"Best Test R²: {best_epoch_r2}\")"
   ]
  },
  {
   "cell_type": "code",
   "execution_count": 31,
   "id": "e3aaeed7-7994-476f-b8f7-30023bed414e",
   "metadata": {
    "colab": {
     "base_uri": "https://localhost:8080/",
     "height": 564
    },
    "id": "_W9XeIwVZJcG",
    "outputId": "8b79b68a-f569-4ee6-9393-c8a534e475eb"
   },
   "outputs": [
    {
     "data": {
      "image/png": "[encoded data removed]",
      "text/plain": [
       "<Figure size 1000x600 with 1 Axes>"
      ]
     },
     "metadata": {},
     "output_type": "display_data"
    }
   ],
   "source": [
    "plot_loss(best_trial_df)"
   ]
  },
  {
   "cell_type": "markdown",
   "id": "3042fd0b-38e5-44f3-a263-d5145d8bd2d2",
   "metadata": {
    "id": "iheUfZBLZJTU"
   },
   "source": [
    "#### LSTM 2層"
   ]
  },
  {
   "cell_type": "code",
   "execution_count": 32,
   "id": "48342704-2d0b-4976-9564-d4a0c877a5c4",
   "metadata": {
    "colab": {
     "base_uri": "https://localhost:8080/"
    },
    "collapsed": true,
    "id": "jgCayBPu1XBH",
    "jupyter": {
     "outputs_hidden": true
    },
    "outputId": "125f126a-33ab-4e42-c530-b15aeb9f1b82"
   },
   "outputs": [
    {
     "data": {
      "text/html": [
       "<div class=\"tuneStatus\">\n",
       "  <div style=\"display: flex;flex-direction: row\">\n",
       "    <div style=\"display: flex;flex-direction: column;\">\n",
       "      <h3>Tune Status</h3>\n",
       "      <table>\n",
       "<tbody>\n",
       "<tr><td>Current time:</td><td>2025-05-25 01:13:02</td></tr>\n",
       "<tr><td>Running for: </td><td>00:10:10.67        </td></tr>\n",
       "<tr><td>Memory:      </td><td>9.1/15.3 GiB       </td></tr>\n",
       "</tbody>\n",
       "</table>\n",
       "    </div>\n",
       "    <div class=\"vDivider\"></div>\n",
       "    <div class=\"systemInfo\">\n",
       "      <h3>System Info</h3>\n",
       "      Using AsyncHyperBand: num_stopped=30<br>Bracket: Iter 20.000: -0.0029894956265258993 | Iter 10.000: -0.0032967202478839616 | Iter 5.000: -0.003929988878852105<br>Logical resource usage: 4.0/20 CPUs, 1.0/1 GPUs (0.0/1.0 accelerator_type:G)\n",
       "    </div>\n",
       "    \n",
       "  </div>\n",
       "  <div class=\"hDivider\"></div>\n",
       "  <div class=\"trialStatus\">\n",
       "    <h3>Trial Status</h3>\n",
       "    <table>\n",
       "<thead>\n",
       "<tr><th>Trial name                </th><th>status    </th><th>loc                </th><th style=\"text-align: right;\">  batch_size</th><th style=\"text-align: right;\">   dropout</th><th style=\"text-align: right;\">  hidden_size</th><th style=\"text-align: right;\">  learning_rate</th><th style=\"text-align: right;\">  iter</th><th style=\"text-align: right;\">  total time (s)</th><th style=\"text-align: right;\">  train_loss</th><th style=\"text-align: right;\">  train_rmse</th><th style=\"text-align: right;\">  test_loss</th></tr>\n",
       "</thead>\n",
       "<tbody>\n",
       "<tr><td>train_lstm2_model_951e0fef</td><td>TERMINATED</td><td>172.23.68.119:57426</td><td style=\"text-align: right;\">          64</td><td style=\"text-align: right;\">0.0103778 </td><td style=\"text-align: right;\">           64</td><td style=\"text-align: right;\">    0.00156869 </td><td style=\"text-align: right;\">    30</td><td style=\"text-align: right;\">        62.7288 </td><td style=\"text-align: right;\">  0.00190804</td><td style=\"text-align: right;\">     177.04 </td><td style=\"text-align: right;\"> 0.00322657</td></tr>\n",
       "<tr><td>train_lstm2_model_17c413ae</td><td>TERMINATED</td><td>172.23.68.119:57701</td><td style=\"text-align: right;\">          64</td><td style=\"text-align: right;\">0.00936887</td><td style=\"text-align: right;\">          128</td><td style=\"text-align: right;\">    0.000253788</td><td style=\"text-align: right;\">    30</td><td style=\"text-align: right;\">        57.544  </td><td style=\"text-align: right;\">  0.00219865</td><td style=\"text-align: right;\">     190.044</td><td style=\"text-align: right;\"> 0.00309452</td></tr>\n",
       "<tr><td>train_lstm2_model_2354e809</td><td>TERMINATED</td><td>172.23.68.119:57963</td><td style=\"text-align: right;\">         128</td><td style=\"text-align: right;\">0.407173  </td><td style=\"text-align: right;\">          128</td><td style=\"text-align: right;\">    0.00103606 </td><td style=\"text-align: right;\">    20</td><td style=\"text-align: right;\">        20.4505 </td><td style=\"text-align: right;\">  0.00219292</td><td style=\"text-align: right;\">     189.796</td><td style=\"text-align: right;\"> 0.00296424</td></tr>\n",
       "<tr><td>train_lstm2_model_3745ff52</td><td>TERMINATED</td><td>172.23.68.119:58116</td><td style=\"text-align: right;\">         128</td><td style=\"text-align: right;\">0.201228  </td><td style=\"text-align: right;\">          128</td><td style=\"text-align: right;\">    0.000746383</td><td style=\"text-align: right;\">     5</td><td style=\"text-align: right;\">         6.05731</td><td style=\"text-align: right;\">  0.00268933</td><td style=\"text-align: right;\">     210.183</td><td style=\"text-align: right;\"> 0.00375442</td></tr>\n",
       "<tr><td>train_lstm2_model_3629cae2</td><td>TERMINATED</td><td>172.23.68.119:58210</td><td style=\"text-align: right;\">         128</td><td style=\"text-align: right;\">0.155862  </td><td style=\"text-align: right;\">          256</td><td style=\"text-align: right;\">    0.000699961</td><td style=\"text-align: right;\">    10</td><td style=\"text-align: right;\">        19.4948 </td><td style=\"text-align: right;\">  0.00235558</td><td style=\"text-align: right;\">     196.709</td><td style=\"text-align: right;\"> 0.00376433</td></tr>\n",
       "<tr><td>train_lstm2_model_6e3176a0</td><td>TERMINATED</td><td>172.23.68.119:58353</td><td style=\"text-align: right;\">          64</td><td style=\"text-align: right;\">0.493783  </td><td style=\"text-align: right;\">           64</td><td style=\"text-align: right;\">    0.00168863 </td><td style=\"text-align: right;\">     5</td><td style=\"text-align: right;\">        10.7301 </td><td style=\"text-align: right;\">  0.00278798</td><td style=\"text-align: right;\">     214.004</td><td style=\"text-align: right;\"> 0.0060107 </td></tr>\n",
       "<tr><td>train_lstm2_model_e853abf0</td><td>TERMINATED</td><td>172.23.68.119:58467</td><td style=\"text-align: right;\">          64</td><td style=\"text-align: right;\">0.445954  </td><td style=\"text-align: right;\">          128</td><td style=\"text-align: right;\">    0.00306726 </td><td style=\"text-align: right;\">     5</td><td style=\"text-align: right;\">        11.0277 </td><td style=\"text-align: right;\">  0.00259978</td><td style=\"text-align: right;\">     206.654</td><td style=\"text-align: right;\"> 0.00399668</td></tr>\n",
       "<tr><td>train_lstm2_model_f911e774</td><td>TERMINATED</td><td>172.23.68.119:58585</td><td style=\"text-align: right;\">         128</td><td style=\"text-align: right;\">0.0306616 </td><td style=\"text-align: right;\">           64</td><td style=\"text-align: right;\">    0.000236134</td><td style=\"text-align: right;\">     5</td><td style=\"text-align: right;\">         5.95189</td><td style=\"text-align: right;\">  0.00373076</td><td style=\"text-align: right;\">     247.557</td><td style=\"text-align: right;\"> 0.00398624</td></tr>\n",
       "<tr><td>train_lstm2_model_db8c5de2</td><td>TERMINATED</td><td>172.23.68.119:58685</td><td style=\"text-align: right;\">         128</td><td style=\"text-align: right;\">0.00827726</td><td style=\"text-align: right;\">          128</td><td style=\"text-align: right;\">    0.00248001 </td><td style=\"text-align: right;\">     5</td><td style=\"text-align: right;\">         6.05286</td><td style=\"text-align: right;\">  0.00249392</td><td style=\"text-align: right;\">     202.403</td><td style=\"text-align: right;\"> 0.00395394</td></tr>\n",
       "<tr><td>train_lstm2_model_2bf524e9</td><td>TERMINATED</td><td>172.23.68.119:58785</td><td style=\"text-align: right;\">          64</td><td style=\"text-align: right;\">0.371113  </td><td style=\"text-align: right;\">           64</td><td style=\"text-align: right;\">    0.000856428</td><td style=\"text-align: right;\">     5</td><td style=\"text-align: right;\">        10.5623 </td><td style=\"text-align: right;\">  0.00283895</td><td style=\"text-align: right;\">     215.951</td><td style=\"text-align: right;\"> 0.00539734</td></tr>\n",
       "<tr><td>train_lstm2_model_5cf962dd</td><td>TERMINATED</td><td>172.23.68.119:58897</td><td style=\"text-align: right;\">         128</td><td style=\"text-align: right;\">0.119635  </td><td style=\"text-align: right;\">          256</td><td style=\"text-align: right;\">    0.00817776 </td><td style=\"text-align: right;\">    10</td><td style=\"text-align: right;\">        19.5174 </td><td style=\"text-align: right;\">  0.00243056</td><td style=\"text-align: right;\">     199.816</td><td style=\"text-align: right;\"> 0.00369357</td></tr>\n",
       "<tr><td>train_lstm2_model_b412c554</td><td>TERMINATED</td><td>172.23.68.119:59042</td><td style=\"text-align: right;\">         128</td><td style=\"text-align: right;\">0.319823  </td><td style=\"text-align: right;\">          256</td><td style=\"text-align: right;\">    0.0081827  </td><td style=\"text-align: right;\">    20</td><td style=\"text-align: right;\">        37.3151 </td><td style=\"text-align: right;\">  0.00199211</td><td style=\"text-align: right;\">     180.898</td><td style=\"text-align: right;\"> 0.00314555</td></tr>\n",
       "<tr><td>train_lstm2_model_04a0b291</td><td>TERMINATED</td><td>172.23.68.119:59229</td><td style=\"text-align: right;\">          64</td><td style=\"text-align: right;\">0.305245  </td><td style=\"text-align: right;\">          128</td><td style=\"text-align: right;\">    0.000125529</td><td style=\"text-align: right;\">     5</td><td style=\"text-align: right;\">         9.83181</td><td style=\"text-align: right;\">  0.00331086</td><td style=\"text-align: right;\">     233.21 </td><td style=\"text-align: right;\"> 0.00436125</td></tr>\n",
       "<tr><td>train_lstm2_model_605c4afa</td><td>TERMINATED</td><td>172.23.68.119:59348</td><td style=\"text-align: right;\">          64</td><td style=\"text-align: right;\">0.302669  </td><td style=\"text-align: right;\">          128</td><td style=\"text-align: right;\">    0.000104929</td><td style=\"text-align: right;\">     5</td><td style=\"text-align: right;\">         9.82217</td><td style=\"text-align: right;\">  0.00347769</td><td style=\"text-align: right;\">     239.013</td><td style=\"text-align: right;\"> 0.0044469 </td></tr>\n",
       "<tr><td>train_lstm2_model_c3730019</td><td>TERMINATED</td><td>172.23.68.119:59460</td><td style=\"text-align: right;\">          64</td><td style=\"text-align: right;\">0.261554  </td><td style=\"text-align: right;\">          128</td><td style=\"text-align: right;\">    0.000274688</td><td style=\"text-align: right;\">    30</td><td style=\"text-align: right;\">        60.0128 </td><td style=\"text-align: right;\">  0.00228404</td><td style=\"text-align: right;\">     193.7  </td><td style=\"text-align: right;\"> 0.0031176 </td></tr>\n",
       "<tr><td>train_lstm2_model_1e8a246b</td><td>TERMINATED</td><td>172.23.68.119:59723</td><td style=\"text-align: right;\">          64</td><td style=\"text-align: right;\">0.402977  </td><td style=\"text-align: right;\">          128</td><td style=\"text-align: right;\">    0.000302157</td><td style=\"text-align: right;\">     5</td><td style=\"text-align: right;\">        11.2658 </td><td style=\"text-align: right;\">  0.00289945</td><td style=\"text-align: right;\">     218.24 </td><td style=\"text-align: right;\"> 0.00406331</td></tr>\n",
       "<tr><td>train_lstm2_model_1fc14fc8</td><td>TERMINATED</td><td>172.23.68.119:59841</td><td style=\"text-align: right;\">         128</td><td style=\"text-align: right;\">0.399306  </td><td style=\"text-align: right;\">          128</td><td style=\"text-align: right;\">    0.00040596 </td><td style=\"text-align: right;\">    20</td><td style=\"text-align: right;\">        21.905  </td><td style=\"text-align: right;\">  0.00243997</td><td style=\"text-align: right;\">     200.202</td><td style=\"text-align: right;\"> 0.00301553</td></tr>\n",
       "<tr><td>train_lstm2_model_6436da17</td><td>TERMINATED</td><td>172.23.68.119:59984</td><td style=\"text-align: right;\">         128</td><td style=\"text-align: right;\">0.0940736 </td><td style=\"text-align: right;\">          128</td><td style=\"text-align: right;\">    0.000452323</td><td style=\"text-align: right;\">     5</td><td style=\"text-align: right;\">         6.51361</td><td style=\"text-align: right;\">  0.00273341</td><td style=\"text-align: right;\">     211.899</td><td style=\"text-align: right;\"> 0.00419198</td></tr>\n",
       "<tr><td>train_lstm2_model_bdb3d015</td><td>TERMINATED</td><td>172.23.68.119:60091</td><td style=\"text-align: right;\">         128</td><td style=\"text-align: right;\">0.39316   </td><td style=\"text-align: right;\">          128</td><td style=\"text-align: right;\">    0.00045446 </td><td style=\"text-align: right;\">    20</td><td style=\"text-align: right;\">        21.5845 </td><td style=\"text-align: right;\">  0.0023901 </td><td style=\"text-align: right;\">     198.146</td><td style=\"text-align: right;\"> 0.0029895 </td></tr>\n",
       "<tr><td>train_lstm2_model_c8588540</td><td>TERMINATED</td><td>172.23.68.119:60241</td><td style=\"text-align: right;\">         128</td><td style=\"text-align: right;\">0.376847  </td><td style=\"text-align: right;\">          128</td><td style=\"text-align: right;\">    0.000496349</td><td style=\"text-align: right;\">    30</td><td style=\"text-align: right;\">        29.6192 </td><td style=\"text-align: right;\">  0.00229131</td><td style=\"text-align: right;\">     194.008</td><td style=\"text-align: right;\"> 0.00311242</td></tr>\n",
       "<tr><td>train_lstm2_model_e0005d12</td><td>TERMINATED</td><td>172.23.68.119:60410</td><td style=\"text-align: right;\">         128</td><td style=\"text-align: right;\">0.48715   </td><td style=\"text-align: right;\">          256</td><td style=\"text-align: right;\">    0.00129604 </td><td style=\"text-align: right;\">    10</td><td style=\"text-align: right;\">        18.3503 </td><td style=\"text-align: right;\">  0.00239683</td><td style=\"text-align: right;\">     198.425</td><td style=\"text-align: right;\"> 0.00363781</td></tr>\n",
       "<tr><td>train_lstm2_model_fd8d0f2f</td><td>TERMINATED</td><td>172.23.68.119:60553</td><td style=\"text-align: right;\">         128</td><td style=\"text-align: right;\">0.476187  </td><td style=\"text-align: right;\">          256</td><td style=\"text-align: right;\">    0.00134621 </td><td style=\"text-align: right;\">    10</td><td style=\"text-align: right;\">        19.6264 </td><td style=\"text-align: right;\">  0.00239496</td><td style=\"text-align: right;\">     198.347</td><td style=\"text-align: right;\"> 0.0036525 </td></tr>\n",
       "<tr><td>train_lstm2_model_87f48561</td><td>TERMINATED</td><td>172.23.68.119:60690</td><td style=\"text-align: right;\">         128</td><td style=\"text-align: right;\">0.418293  </td><td style=\"text-align: right;\">          128</td><td style=\"text-align: right;\">    0.000468886</td><td style=\"text-align: right;\">     5</td><td style=\"text-align: right;\">         6.08029</td><td style=\"text-align: right;\">  0.00287916</td><td style=\"text-align: right;\">     217.475</td><td style=\"text-align: right;\"> 0.0038966 </td></tr>\n",
       "<tr><td>train_lstm2_model_1995439c</td><td>TERMINATED</td><td>172.23.68.119:60790</td><td style=\"text-align: right;\">         128</td><td style=\"text-align: right;\">0.421962  </td><td style=\"text-align: right;\">          128</td><td style=\"text-align: right;\">    0.000489085</td><td style=\"text-align: right;\">     5</td><td style=\"text-align: right;\">         6.16171</td><td style=\"text-align: right;\">  0.00287205</td><td style=\"text-align: right;\">     217.206</td><td style=\"text-align: right;\"> 0.00389822</td></tr>\n",
       "<tr><td>train_lstm2_model_d921d269</td><td>TERMINATED</td><td>172.23.68.119:60890</td><td style=\"text-align: right;\">         128</td><td style=\"text-align: right;\">0.3516    </td><td style=\"text-align: right;\">          128</td><td style=\"text-align: right;\">    0.00404942 </td><td style=\"text-align: right;\">     5</td><td style=\"text-align: right;\">         5.96247</td><td style=\"text-align: right;\">  0.00262158</td><td style=\"text-align: right;\">     207.519</td><td style=\"text-align: right;\"> 0.00421709</td></tr>\n",
       "<tr><td>train_lstm2_model_5427e56f</td><td>TERMINATED</td><td>172.23.68.119:60992</td><td style=\"text-align: right;\">         128</td><td style=\"text-align: right;\">0.357131  </td><td style=\"text-align: right;\">          128</td><td style=\"text-align: right;\">    0.000176953</td><td style=\"text-align: right;\">     5</td><td style=\"text-align: right;\">         6.04353</td><td style=\"text-align: right;\">  0.00347755</td><td style=\"text-align: right;\">     239.009</td><td style=\"text-align: right;\"> 0.00460677</td></tr>\n",
       "<tr><td>train_lstm2_model_9d31c658</td><td>TERMINATED</td><td>172.23.68.119:61091</td><td style=\"text-align: right;\">         128</td><td style=\"text-align: right;\">0.224458  </td><td style=\"text-align: right;\">          128</td><td style=\"text-align: right;\">    0.000197043</td><td style=\"text-align: right;\">     5</td><td style=\"text-align: right;\">         6.30314</td><td style=\"text-align: right;\">  0.0032597 </td><td style=\"text-align: right;\">     231.401</td><td style=\"text-align: right;\"> 0.00521341</td></tr>\n",
       "<tr><td>train_lstm2_model_575e6503</td><td>TERMINATED</td><td>172.23.68.119:61191</td><td style=\"text-align: right;\">         128</td><td style=\"text-align: right;\">0.25217   </td><td style=\"text-align: right;\">          128</td><td style=\"text-align: right;\">    0.00103137 </td><td style=\"text-align: right;\">    20</td><td style=\"text-align: right;\">        22.0597 </td><td style=\"text-align: right;\">  0.00213525</td><td style=\"text-align: right;\">     187.284</td><td style=\"text-align: right;\"> 0.00305599</td></tr>\n",
       "<tr><td>train_lstm2_model_b454b039</td><td>TERMINATED</td><td>172.23.68.119:61335</td><td style=\"text-align: right;\">         128</td><td style=\"text-align: right;\">0.448086  </td><td style=\"text-align: right;\">          128</td><td style=\"text-align: right;\">    0.000355412</td><td style=\"text-align: right;\">     5</td><td style=\"text-align: right;\">         6.09323</td><td style=\"text-align: right;\">  0.00301085</td><td style=\"text-align: right;\">     222.393</td><td style=\"text-align: right;\"> 0.00418568</td></tr>\n",
       "<tr><td>train_lstm2_model_17a928ca</td><td>TERMINATED</td><td>172.23.68.119:61434</td><td style=\"text-align: right;\">         128</td><td style=\"text-align: right;\">0.45011   </td><td style=\"text-align: right;\">           64</td><td style=\"text-align: right;\">    0.000366165</td><td style=\"text-align: right;\">     5</td><td style=\"text-align: right;\">         5.9862 </td><td style=\"text-align: right;\">  0.00359566</td><td style=\"text-align: right;\">     243.033</td><td style=\"text-align: right;\"> 0.00446932</td></tr>\n",
       "</tbody>\n",
       "</table>\n",
       "  </div>\n",
       "</div>\n",
       "<style>\n",
       ".tuneStatus {\n",
       "  color: var(--jp-ui-font-color1);\n",
       "}\n",
       ".tuneStatus .systemInfo {\n",
       "  display: flex;\n",
       "  flex-direction: column;\n",
       "}\n",
       ".tuneStatus td {\n",
       "  white-space: nowrap;\n",
       "}\n",
       ".tuneStatus .trialStatus {\n",
       "  display: flex;\n",
       "  flex-direction: column;\n",
       "}\n",
       ".tuneStatus h3 {\n",
       "  font-weight: bold;\n",
       "}\n",
       ".tuneStatus .hDivider {\n",
       "  border-bottom-width: var(--jp-border-width);\n",
       "  border-bottom-color: var(--jp-border-color0);\n",
       "  border-bottom-style: solid;\n",
       "}\n",
       ".tuneStatus .vDivider {\n",
       "  border-left-width: var(--jp-border-width);\n",
       "  border-left-color: var(--jp-border-color0);\n",
       "  border-left-style: solid;\n",
       "  margin: 0.5em 1em 0.5em 1em;\n",
       "}\n",
       "</style>\n"
      ],
      "text/plain": [
       "<IPython.core.display.HTML object>"
      ]
     },
     "metadata": {},
     "output_type": "display_data"
    },
    {
     "name": "stderr",
     "output_type": "stream",
     "text": [
      "2025-05-25 01:13:02,513\tINFO tune.py:1009 -- Wrote the latest version of all result files and experiment state to '/home/omen/Projects/2505_portfolio_r/ray_results/LSTM_tune_2/train_lstm2_model_2025-05-25_01-02-51' in 0.0084s.\n",
      "2025-05-25 01:13:02,520\tINFO tune.py:1041 -- Total run time: 610.85 seconds (610.66 seconds for the tuning loop).\n"
     ]
    }
   ],
   "source": [
    "exp_name = \"LSTM_tune_2\"\n",
    "storage_path = os.path.abspath(\"ray_results\")\n",
    "experiment_path = os.path.join(storage_path, exp_name) # 実験ディレクトリのパスを指定\n",
    "os.makedirs(experiment_path, exist_ok=True) # すでにディレクトリが存在している場合はスキップ\n",
    "\n",
    "# ハイパーパラメータ探索範囲\n",
    "config = {\n",
    "    \"hidden_size\": tune.choice([64, 128, 256]),\n",
    "    \"learning_rate\": tune.loguniform(1e-4, 1e-2),\n",
    "    \"dropout\": tune.uniform(0.0, 0.5),\n",
    "    \"batch_size\": tune.choice([64, 128]),\n",
    "    \"num_epochs\": 30\n",
    "}\n",
    "\n",
    "# 試行スケジューラ定義\n",
    "ray_scheduler = ASHAScheduler(\n",
    "    max_t=30,\n",
    "    grace_period=5,\n",
    "    reduction_factor=2\n",
    ")\n",
    "\n",
    "def train_lstm2_model(config):\n",
    "    set_seed(42)\n",
    "    device = \"cuda\" if torch.cuda.is_available() else \"cpu\"  # GPUが利用可能なら使用\n",
    "    train_loader, test_loader = create_dataloaders(config[\"batch_size\"])\n",
    "\n",
    "    model = LSTMModel(\n",
    "        input_size=6,  # 特徴量数に合わせる\n",
    "        hidden_size=config[\"hidden_size\"],\n",
    "        output_size=1,  # 出力サイズ\n",
    "        num_layers=2, # ここを変える\n",
    "        dropout=config[\"dropout\"]\n",
    "    ).to(device)  # モデルをGPUに送る\n",
    "\n",
    "    criterion = nn.MSELoss()\n",
    "    optimizer = torch.optim.Adam(model.parameters(), lr=config[\"learning_rate\"])\n",
    "    scheduler = StepLR(optimizer, step_size=5, gamma=0.5)\n",
    "\n",
    "    best_test_loss = float(\"inf\")\n",
    "    best_epoch = 0\n",
    "    best_model_state = None\n",
    "\n",
    "    for epoch in range(config[\"num_epochs\"]):\n",
    "        model.train()\n",
    "        train_loss = 0.0\n",
    "        train_predictions, train_targets = [], []\n",
    "        for batch_x, batch_y in train_loader:\n",
    "            batch_x, batch_y = batch_x.to(device), batch_y.to(device)  # 入力データをGPUに送る\n",
    "\n",
    "            optimizer.zero_grad()\n",
    "            outputs = model(batch_x)\n",
    "            loss = criterion(outputs, batch_y)\n",
    "            loss.backward()\n",
    "            optimizer.step()\n",
    "            train_loss += loss.item()\n",
    "            train_predictions.append(outputs.cpu())  # CPUに戻す\n",
    "            train_targets.append(batch_y.cpu())\n",
    "\n",
    "        train_loss /= len(train_loader)\n",
    "        train_predictions = scaler_y.inverse_transform(torch.cat(train_predictions).detach().numpy()) # 勾配追跡を無効化\n",
    "        train_targets = scaler_y.inverse_transform(torch.cat(train_targets).detach().numpy())\n",
    "        train_rmse = np.sqrt(mean_squared_error(train_targets, train_predictions))\n",
    "\n",
    "        model.eval()\n",
    "        test_loss = 0.0\n",
    "        test_predictions, test_targets = [], []\n",
    "        with torch.no_grad():\n",
    "            for batch_x, batch_y in test_loader:\n",
    "                batch_x, batch_y = batch_x.to(device), batch_y.to(device)\n",
    "                outputs = model(batch_x)\n",
    "                loss = criterion(outputs, batch_y)\n",
    "                test_loss += loss.item()\n",
    "                test_predictions.append(outputs.cpu())  # CPUに戻す\n",
    "                test_targets.append(batch_y.cpu())\n",
    "\n",
    "        test_loss /= len(test_loader)\n",
    "        test_predictions = scaler_y.inverse_transform(torch.cat(test_predictions).detach().numpy())\n",
    "        test_targets = scaler_y.inverse_transform(torch.cat(test_targets).detach().numpy())\n",
    "        test_rmse = np.sqrt(mean_squared_error(test_targets, test_predictions))\n",
    "        test_r2 = r2_score(test_targets, test_predictions)\n",
    "\n",
    "        if test_loss < best_test_loss:\n",
    "          best_test_loss = test_loss\n",
    "          best_epoch = epoch\n",
    "          best_model_state = model.state_dict()\n",
    "\n",
    "        # 学習率スケジューラを更新\n",
    "        scheduler.step()\n",
    "\n",
    "        # 結果を報告\n",
    "        tune.report({\"train_loss\": train_loss, \"train_rmse\": train_rmse,\n",
    "                        \"test_loss\": test_loss, \"test_rmse\": test_rmse,\n",
    "                        \"test_r2\": test_r2,\n",
    "                        \"epoch\": epoch, \"best_test_loss\": best_test_loss, \"best_epoch\":best_epoch})\n",
    "\n",
    "    torch.save(best_model_state, os.path.join(experiment_path, \"best_model.path\"))\n",
    "\n",
    "algo = OptunaSearch(metric=\"test_loss\", mode=\"min\")\n",
    "\n",
    "# リソース設定\n",
    "scaling_config = ScalingConfig(\n",
    "    num_workers=-2,              # 試行ごとに使用するワーカー数\n",
    "    use_gpu=True,               # GPUを使用\n",
    "    trainer_resources={\"cpu\": 4, \"gpu\": 1},  # トレーナーが使用するリソース\n",
    ")\n",
    "trainable_with_cpu_gpu = tune.with_resources(train_lstm2_model, {\"cpu\": 4, \"gpu\": 1})\n",
    "tuner = tune.Tuner(\n",
    "    trainable_with_cpu_gpu,\n",
    "    tune_config=tune.TuneConfig(\n",
    "        metric=\"test_loss\",\n",
    "        mode=\"min\",\n",
    "        num_samples=30,\n",
    "        search_alg=algo,\n",
    "        scheduler=ray_scheduler,\n",
    "        max_concurrent_trials=5\n",
    "    ),\n",
    "    run_config=RunConfig(\n",
    "        storage_path=experiment_path,\n",
    "        verbose=1,\n",
    "    ),\n",
    "    param_space=config,\n",
    ")\n",
    "result_grid = tuner.fit()\n",
    "best_result = result_grid.get_best_result()"
   ]
  },
  {
   "cell_type": "code",
   "execution_count": 33,
   "id": "26b8ba15",
   "metadata": {},
   "outputs": [
    {
     "name": "stdout",
     "output_type": "stream",
     "text": [
      "Result(\n",
      "  metrics={'train_loss': 0.0021929211203448344, 'train_rmse': np.float64(189.79647816806295), 'test_loss': 0.0029642421033476357, 'test_rmse': np.float64(220.0341681563343), 'test_r2': 0.9046962857246399, 'epoch': 19, 'best_test_loss': 0.002852741300729036, 'best_epoch': 5},\n",
      "  path='/home/omen/Projects/2505_portfolio_r/ray_results/LSTM_tune_2/train_lstm2_model_2025-05-25_01-02-51/train_lstm2_model_2354e809_3_batch_size=128,dropout=0.4072,hidden_size=128,learning_rate=0.0010,num_epochs=30_2025-05-25_01-04-00',\n",
      "  filesystem='local',\n",
      "  checkpoint=None\n",
      ")\n",
      "Best config: {'hidden_size': 128, 'learning_rate': 0.0010360597403329722, 'dropout': 0.407173287582553, 'batch_size': 128, 'num_epochs': 30}\n",
      "Best metrics: {'train_loss': 0.0021929211203448344, 'train_rmse': np.float64(189.79647816806295), 'test_loss': 0.0029642421033476357, 'test_rmse': np.float64(220.0341681563343), 'test_r2': 0.9046962857246399, 'epoch': 19, 'best_test_loss': 0.002852741300729036, 'best_epoch': 5, 'timestamp': 1748102721, 'checkpoint_dir_name': None, 'done': True, 'training_iteration': 20, 'trial_id': '2354e809', 'date': '2025-05-25_01-05-21', 'time_this_iter_s': 0.9208588600158691, 'time_total_s': 20.45047664642334, 'pid': 57963, 'hostname': 'OMEN', 'node_ip': '172.23.68.119', 'config': {'hidden_size': 128, 'learning_rate': 0.0010360597403329722, 'dropout': 0.407173287582553, 'batch_size': 128, 'num_epochs': 30}, 'time_since_restore': 20.45047664642334, 'iterations_since_restore': 20, 'experiment_tag': '3_batch_size=128,dropout=0.4072,hidden_size=128,learning_rate=0.0010,num_epochs=30'}\n"
     ]
    }
   ],
   "source": [
    "best_config  = best_result.config\n",
    "best_metrics = best_result.metrics\n",
    "print(best_result)\n",
    "print(\"Best config:\", best_config)\n",
    "print(\"Best metrics:\", best_metrics)"
   ]
  },
  {
   "cell_type": "code",
   "execution_count": 34,
   "id": "48beff41",
   "metadata": {},
   "outputs": [],
   "source": [
    "analysis = get_json(\"train_lstm2_model\")"
   ]
  },
  {
   "cell_type": "code",
   "execution_count": 35,
   "id": "b8b33d7f-b337-466e-aee2-c47d157a5326",
   "metadata": {
    "colab": {
     "base_uri": "https://localhost:8080/"
    },
    "id": "esjGDYb43JlM",
    "outputId": "68be78e2-f54c-4b0c-d0ee-f16fe2a950a1"
   },
   "outputs": [
    {
     "name": "stdout",
     "output_type": "stream",
     "text": [
      "Best Epoch: 5\n",
      "Best Test Loss: 0.002852741300729036\n",
      "Best Test RMSE: 216.31279796281126\n",
      "Best Test R²: 0.9078927040100098\n"
     ]
    }
   ],
   "source": [
    "# 最良試行のデータフレームを取得\n",
    "best_trial = analysis.get_best_trial(metric=\"test_loss\", mode=\"min\")\n",
    "best_trial_df = analysis.trial_dataframes[best_trial.trial_id]\n",
    "\n",
    "# test_loss が最小のエポックを取得\n",
    "best_epoch_idx = best_trial_df[\"test_loss\"].idxmin()\n",
    "best_epoch = best_trial_df.loc[best_epoch_idx]\n",
    "\n",
    "# 同じエポックの test_rmse, test_r2 を取得\n",
    "best_epoch_loss = best_epoch[\"test_loss\"]\n",
    "best_epoch_rmse = best_epoch[\"test_rmse\"]\n",
    "best_epoch_r2 = best_epoch[\"test_r2\"]\n",
    "\n",
    "# 結果を表示\n",
    "print(f\"Best Epoch: {best_epoch['epoch']}\")\n",
    "print(f\"Best Test Loss: {best_epoch_loss}\")\n",
    "print(f\"Best Test RMSE: {best_epoch_rmse}\")\n",
    "print(f\"Best Test R²: {best_epoch_r2}\")"
   ]
  },
  {
   "cell_type": "code",
   "execution_count": 37,
   "id": "0e8f3caa-271f-424a-8d42-083c0a5ba36c",
   "metadata": {
    "colab": {
     "base_uri": "https://localhost:8080/",
     "height": 564
    },
    "id": "a8VvVw_g3Jr1",
    "outputId": "9c84458b-c5ab-4f52-8b97-979e53a1a69b"
   },
   "outputs": [
    {
     "data": {
      "image/png": "[encoded data removed]",
      "text/plain": [
       "<Figure size 1000x600 with 1 Axes>"
      ]
     },
     "metadata": {},
     "output_type": "display_data"
    }
   ],
   "source": [
    "plot_loss(best_trial_df)"
   ]
  },
  {
   "cell_type": "markdown",
   "id": "7327cff8-6b96-4b2e-9a78-e6691fd39956",
   "metadata": {
    "id": "458c2a37-beba-4017-adc1-02af0b4cf1d1"
   },
   "source": [
    "### GRU RayTune結果"
   ]
  },
  {
   "cell_type": "markdown",
   "id": "379cc941-5f20-4b6b-85b6-1fa19280c6aa",
   "metadata": {
    "id": "gyhIMrymMJjX"
   },
   "source": [
    "#### GRU 1層"
   ]
  },
  {
   "cell_type": "code",
   "execution_count": 38,
   "id": "8404c16a-074c-4076-a335-e19ed2aba93c",
   "metadata": {
    "id": "O7aC0Rbm1YRQ"
   },
   "outputs": [],
   "source": [
    "# 乱数シード設定\n",
    "def set_seed(seed):\n",
    "    torch.manual_seed(seed)\n",
    "    np.random.seed(seed)\n",
    "    random.seed(seed)\n",
    "\n",
    "# モデル定義\n",
    "class GRUModel(nn.Module):\n",
    "    def __init__(self, input_size, hidden_size, output_size, num_layers, dropout=0.0):\n",
    "        super(GRUModel, self).__init__()\n",
    "        self.gru = nn.GRU(input_size=input_size, hidden_size=hidden_size, num_layers=num_layers, batch_first=True, dropout=dropout)\n",
    "        self.fc = nn.Linear(hidden_size, output_size)\n",
    "\n",
    "    def forward(self, x):\n",
    "        out, _ = self.gru(x)\n",
    "        out = self.fc(out[:, -1, :]) # 最後の時間ステップを出力\n",
    "        return out"
   ]
  },
  {
   "cell_type": "code",
   "execution_count": 39,
   "id": "0f8cd852-e0c4-4f63-b7fc-ddea3e241d18",
   "metadata": {
    "colab": {
     "base_uri": "https://localhost:8080/"
    },
    "collapsed": true,
    "id": "vMR-jqXe1YOc",
    "jupyter": {
     "outputs_hidden": true
    },
    "outputId": "b809789c-b8d2-46f6-eeb0-dd57eca018b8"
   },
   "outputs": [
    {
     "data": {
      "text/html": [
       "<div class=\"tuneStatus\">\n",
       "  <div style=\"display: flex;flex-direction: row\">\n",
       "    <div style=\"display: flex;flex-direction: column;\">\n",
       "      <h3>Tune Status</h3>\n",
       "      <table>\n",
       "<tbody>\n",
       "<tr><td>Current time:</td><td>2025-05-25 01:24:25</td></tr>\n",
       "<tr><td>Running for: </td><td>00:11:22.91        </td></tr>\n",
       "<tr><td>Memory:      </td><td>9.5/15.3 GiB       </td></tr>\n",
       "</tbody>\n",
       "</table>\n",
       "    </div>\n",
       "    <div class=\"vDivider\"></div>\n",
       "    <div class=\"systemInfo\">\n",
       "      <h3>System Info</h3>\n",
       "      Using AsyncHyperBand: num_stopped=30<br>Bracket: Iter 20.000: -0.003080365857939519 | Iter 10.000: -0.002813552713369195 | Iter 5.000: -0.00296076133188104<br>Logical resource usage: 4.0/20 CPUs, 1.0/1 GPUs (0.0/1.0 accelerator_type:G)\n",
       "    </div>\n",
       "    \n",
       "  </div>\n",
       "  <div class=\"hDivider\"></div>\n",
       "  <div class=\"trialStatus\">\n",
       "    <h3>Trial Status</h3>\n",
       "    <table>\n",
       "<thead>\n",
       "<tr><th>Trial name               </th><th>status    </th><th>loc                </th><th style=\"text-align: right;\">  batch_size</th><th style=\"text-align: right;\">   dropout</th><th style=\"text-align: right;\">  hidden_size</th><th style=\"text-align: right;\">  learning_rate</th><th style=\"text-align: right;\">  iter</th><th style=\"text-align: right;\">  total time (s)</th><th style=\"text-align: right;\">  train_loss</th><th style=\"text-align: right;\">  train_rmse</th><th style=\"text-align: right;\">  test_loss</th></tr>\n",
       "</thead>\n",
       "<tbody>\n",
       "<tr><td>train_gru1_model_209231a9</td><td>TERMINATED</td><td>172.23.68.119:61536</td><td style=\"text-align: right;\">          64</td><td style=\"text-align: right;\">0.266954  </td><td style=\"text-align: right;\">           64</td><td style=\"text-align: right;\">    0.00911879 </td><td style=\"text-align: right;\">    30</td><td style=\"text-align: right;\">        51.85   </td><td style=\"text-align: right;\">  0.00146719</td><td style=\"text-align: right;\">     155.246</td><td style=\"text-align: right;\"> 0.00345858</td></tr>\n",
       "<tr><td>train_gru1_model_639257b5</td><td>TERMINATED</td><td>172.23.68.119:61773</td><td style=\"text-align: right;\">          64</td><td style=\"text-align: right;\">0.316076  </td><td style=\"text-align: right;\">          256</td><td style=\"text-align: right;\">    0.000104821</td><td style=\"text-align: right;\">     5</td><td style=\"text-align: right;\">        11.5917 </td><td style=\"text-align: right;\">  0.00316327</td><td style=\"text-align: right;\">     227.953</td><td style=\"text-align: right;\"> 0.00359137</td></tr>\n",
       "<tr><td>train_gru1_model_4ab5100e</td><td>TERMINATED</td><td>172.23.68.119:61898</td><td style=\"text-align: right;\">          64</td><td style=\"text-align: right;\">0.48334   </td><td style=\"text-align: right;\">           64</td><td style=\"text-align: right;\">    0.0003468  </td><td style=\"text-align: right;\">     5</td><td style=\"text-align: right;\">         8.32194</td><td style=\"text-align: right;\">  0.00284955</td><td style=\"text-align: right;\">     216.354</td><td style=\"text-align: right;\"> 0.00349387</td></tr>\n",
       "<tr><td>train_gru1_model_3fa8b821</td><td>TERMINATED</td><td>172.23.68.119:62004</td><td style=\"text-align: right;\">         128</td><td style=\"text-align: right;\">0.415169  </td><td style=\"text-align: right;\">           64</td><td style=\"text-align: right;\">    0.000490596</td><td style=\"text-align: right;\">     5</td><td style=\"text-align: right;\">         5.6392 </td><td style=\"text-align: right;\">  0.00300493</td><td style=\"text-align: right;\">     222.174</td><td style=\"text-align: right;\"> 0.00377152</td></tr>\n",
       "<tr><td>train_gru1_model_acddb8ac</td><td>TERMINATED</td><td>172.23.68.119:62104</td><td style=\"text-align: right;\">          64</td><td style=\"text-align: right;\">0.431948  </td><td style=\"text-align: right;\">           64</td><td style=\"text-align: right;\">    0.00188528 </td><td style=\"text-align: right;\">    10</td><td style=\"text-align: right;\">        19.3215 </td><td style=\"text-align: right;\">  0.00219087</td><td style=\"text-align: right;\">     189.708</td><td style=\"text-align: right;\"> 0.00294734</td></tr>\n",
       "<tr><td>train_gru1_model_d44eea62</td><td>TERMINATED</td><td>172.23.68.119:62241</td><td style=\"text-align: right;\">         128</td><td style=\"text-align: right;\">0.39491   </td><td style=\"text-align: right;\">          256</td><td style=\"text-align: right;\">    0.00194925 </td><td style=\"text-align: right;\">    10</td><td style=\"text-align: right;\">        12.9803 </td><td style=\"text-align: right;\">  0.00217601</td><td style=\"text-align: right;\">     189.063</td><td style=\"text-align: right;\"> 0.00279392</td></tr>\n",
       "<tr><td>train_gru1_model_46876322</td><td>TERMINATED</td><td>172.23.68.119:62370</td><td style=\"text-align: right;\">         128</td><td style=\"text-align: right;\">0.33969   </td><td style=\"text-align: right;\">           64</td><td style=\"text-align: right;\">    0.00995369 </td><td style=\"text-align: right;\">    10</td><td style=\"text-align: right;\">        10.3029 </td><td style=\"text-align: right;\">  0.00210613</td><td style=\"text-align: right;\">     186.003</td><td style=\"text-align: right;\"> 0.0030712 </td></tr>\n",
       "<tr><td>train_gru1_model_f0e4c532</td><td>TERMINATED</td><td>172.23.68.119:62482</td><td style=\"text-align: right;\">         128</td><td style=\"text-align: right;\">0.16716   </td><td style=\"text-align: right;\">          128</td><td style=\"text-align: right;\">    0.00123788 </td><td style=\"text-align: right;\">    10</td><td style=\"text-align: right;\">        10.3788 </td><td style=\"text-align: right;\">  0.00227636</td><td style=\"text-align: right;\">     193.373</td><td style=\"text-align: right;\"> 0.00304995</td></tr>\n",
       "<tr><td>train_gru1_model_14f19afa</td><td>TERMINATED</td><td>172.23.68.119:62594</td><td style=\"text-align: right;\">          64</td><td style=\"text-align: right;\">0.0871359 </td><td style=\"text-align: right;\">           64</td><td style=\"text-align: right;\">    0.00155663 </td><td style=\"text-align: right;\">    30</td><td style=\"text-align: right;\">        56.6355 </td><td style=\"text-align: right;\">  0.00198786</td><td style=\"text-align: right;\">     180.705</td><td style=\"text-align: right;\"> 0.00281958</td></tr>\n",
       "<tr><td>train_gru1_model_d927a866</td><td>TERMINATED</td><td>172.23.68.119:62850</td><td style=\"text-align: right;\">          64</td><td style=\"text-align: right;\">0.458337  </td><td style=\"text-align: right;\">          256</td><td style=\"text-align: right;\">    0.000360529</td><td style=\"text-align: right;\">     5</td><td style=\"text-align: right;\">        12.9089 </td><td style=\"text-align: right;\">  0.00259401</td><td style=\"text-align: right;\">     206.425</td><td style=\"text-align: right;\"> 0.0029882 </td></tr>\n",
       "<tr><td>train_gru1_model_6fdb5066</td><td>TERMINATED</td><td>172.23.68.119:62975</td><td style=\"text-align: right;\">          64</td><td style=\"text-align: right;\">0.417355  </td><td style=\"text-align: right;\">          128</td><td style=\"text-align: right;\">    0.000292383</td><td style=\"text-align: right;\">    30</td><td style=\"text-align: right;\">        52.7942 </td><td style=\"text-align: right;\">  0.00226423</td><td style=\"text-align: right;\">     192.858</td><td style=\"text-align: right;\"> 0.0031369 </td></tr>\n",
       "<tr><td>train_gru1_model_e9680e9e</td><td>TERMINATED</td><td>172.23.68.119:63216</td><td style=\"text-align: right;\">         128</td><td style=\"text-align: right;\">0.00826938</td><td style=\"text-align: right;\">          256</td><td style=\"text-align: right;\">    0.00359334 </td><td style=\"text-align: right;\">     5</td><td style=\"text-align: right;\">         6.77919</td><td style=\"text-align: right;\">  0.0023717 </td><td style=\"text-align: right;\">     197.382</td><td style=\"text-align: right;\"> 0.00303527</td></tr>\n",
       "<tr><td>train_gru1_model_2ffe1d3f</td><td>TERMINATED</td><td>172.23.68.119:63322</td><td style=\"text-align: right;\">         128</td><td style=\"text-align: right;\">0.0540288 </td><td style=\"text-align: right;\">          256</td><td style=\"text-align: right;\">    0.00330224 </td><td style=\"text-align: right;\">    20</td><td style=\"text-align: right;\">        24.8422 </td><td style=\"text-align: right;\">  0.00178491</td><td style=\"text-align: right;\">     171.232</td><td style=\"text-align: right;\"> 0.00340439</td></tr>\n",
       "<tr><td>train_gru1_model_22b0d960</td><td>TERMINATED</td><td>172.23.68.119:63479</td><td style=\"text-align: right;\">         128</td><td style=\"text-align: right;\">0.138667  </td><td style=\"text-align: right;\">          256</td><td style=\"text-align: right;\">    0.00288821 </td><td style=\"text-align: right;\">    30</td><td style=\"text-align: right;\">        37.0289 </td><td style=\"text-align: right;\">  0.0017023 </td><td style=\"text-align: right;\">     167.223</td><td style=\"text-align: right;\"> 0.00316293</td></tr>\n",
       "<tr><td>train_gru1_model_7f209283</td><td>TERMINATED</td><td>172.23.68.119:63672</td><td style=\"text-align: right;\">         128</td><td style=\"text-align: right;\">0.153764  </td><td style=\"text-align: right;\">          256</td><td style=\"text-align: right;\">    0.000911092</td><td style=\"text-align: right;\">     5</td><td style=\"text-align: right;\">         7.57845</td><td style=\"text-align: right;\">  0.00251722</td><td style=\"text-align: right;\">     203.347</td><td style=\"text-align: right;\"> 0.00314005</td></tr>\n",
       "<tr><td>train_gru1_model_b8cee1f7</td><td>TERMINATED</td><td>172.23.68.119:63785</td><td style=\"text-align: right;\">          64</td><td style=\"text-align: right;\">0.17403   </td><td style=\"text-align: right;\">          128</td><td style=\"text-align: right;\">    0.000811297</td><td style=\"text-align: right;\">    30</td><td style=\"text-align: right;\">        52.7863 </td><td style=\"text-align: right;\">  0.00201021</td><td style=\"text-align: right;\">     181.718</td><td style=\"text-align: right;\"> 0.00295157</td></tr>\n",
       "<tr><td>train_gru1_model_fe71bad8</td><td>TERMINATED</td><td>172.23.68.119:64022</td><td style=\"text-align: right;\">          64</td><td style=\"text-align: right;\">0.234167  </td><td style=\"text-align: right;\">          128</td><td style=\"text-align: right;\">    0.000821634</td><td style=\"text-align: right;\">    30</td><td style=\"text-align: right;\">        57.4393 </td><td style=\"text-align: right;\">  0.00200738</td><td style=\"text-align: right;\">     181.59 </td><td style=\"text-align: right;\"> 0.00295073</td></tr>\n",
       "<tr><td>train_gru1_model_2f92a235</td><td>TERMINATED</td><td>172.23.68.119:64284</td><td style=\"text-align: right;\">          64</td><td style=\"text-align: right;\">0.237492  </td><td style=\"text-align: right;\">           64</td><td style=\"text-align: right;\">    0.0049805  </td><td style=\"text-align: right;\">     5</td><td style=\"text-align: right;\">        10.105  </td><td style=\"text-align: right;\">  0.00241893</td><td style=\"text-align: right;\">     199.337</td><td style=\"text-align: right;\"> 0.00334932</td></tr>\n",
       "<tr><td>train_gru1_model_64516d09</td><td>TERMINATED</td><td>172.23.68.119:64397</td><td style=\"text-align: right;\">         128</td><td style=\"text-align: right;\">0.0850384 </td><td style=\"text-align: right;\">           64</td><td style=\"text-align: right;\">    0.0049959  </td><td style=\"text-align: right;\">     5</td><td style=\"text-align: right;\">         5.51615</td><td style=\"text-align: right;\">  0.00240493</td><td style=\"text-align: right;\">     198.759</td><td style=\"text-align: right;\"> 0.00330221</td></tr>\n",
       "<tr><td>train_gru1_model_680addc1</td><td>TERMINATED</td><td>172.23.68.119:64497</td><td style=\"text-align: right;\">         128</td><td style=\"text-align: right;\">0.350076  </td><td style=\"text-align: right;\">          256</td><td style=\"text-align: right;\">    0.00168614 </td><td style=\"text-align: right;\">    10</td><td style=\"text-align: right;\">        12.8574 </td><td style=\"text-align: right;\">  0.00219803</td><td style=\"text-align: right;\">     190.017</td><td style=\"text-align: right;\"> 0.00282413</td></tr>\n",
       "<tr><td>train_gru1_model_8d5a5c7b</td><td>TERMINATED</td><td>172.23.68.119:64621</td><td style=\"text-align: right;\">         128</td><td style=\"text-align: right;\">0.367223  </td><td style=\"text-align: right;\">          256</td><td style=\"text-align: right;\">    0.0017291  </td><td style=\"text-align: right;\">    10</td><td style=\"text-align: right;\">        12.84   </td><td style=\"text-align: right;\">  0.0021943 </td><td style=\"text-align: right;\">     189.856</td><td style=\"text-align: right;\"> 0.00283308</td></tr>\n",
       "<tr><td>train_gru1_model_80a0f938</td><td>TERMINATED</td><td>172.23.68.119:64740</td><td style=\"text-align: right;\">         128</td><td style=\"text-align: right;\">0.375238  </td><td style=\"text-align: right;\">          256</td><td style=\"text-align: right;\">    0.000162304</td><td style=\"text-align: right;\">     5</td><td style=\"text-align: right;\">         6.83713</td><td style=\"text-align: right;\">  0.00334442</td><td style=\"text-align: right;\">     234.389</td><td style=\"text-align: right;\"> 0.00381743</td></tr>\n",
       "<tr><td>train_gru1_model_0693bd68</td><td>TERMINATED</td><td>172.23.68.119:64841</td><td style=\"text-align: right;\">         128</td><td style=\"text-align: right;\">0.371626  </td><td style=\"text-align: right;\">          256</td><td style=\"text-align: right;\">    0.00172165 </td><td style=\"text-align: right;\">    20</td><td style=\"text-align: right;\">        26.3084 </td><td style=\"text-align: right;\">  0.00192084</td><td style=\"text-align: right;\">     177.632</td><td style=\"text-align: right;\"> 0.0030722 </td></tr>\n",
       "<tr><td>train_gru1_model_f0434ba3</td><td>TERMINATED</td><td>172.23.68.119:65003</td><td style=\"text-align: right;\">         128</td><td style=\"text-align: right;\">0.283494  </td><td style=\"text-align: right;\">          256</td><td style=\"text-align: right;\">    0.0018351  </td><td style=\"text-align: right;\">    20</td><td style=\"text-align: right;\">        26.1696 </td><td style=\"text-align: right;\">  0.00191291</td><td style=\"text-align: right;\">     177.265</td><td style=\"text-align: right;\"> 0.00309827</td></tr>\n",
       "<tr><td>train_gru1_model_4b7a5867</td><td>TERMINATED</td><td>172.23.68.119:65166</td><td style=\"text-align: right;\">         128</td><td style=\"text-align: right;\">0.276096  </td><td style=\"text-align: right;\">          256</td><td style=\"text-align: right;\">    0.00230258 </td><td style=\"text-align: right;\">    20</td><td style=\"text-align: right;\">        24.2169 </td><td style=\"text-align: right;\">  0.00186814</td><td style=\"text-align: right;\">     175.179</td><td style=\"text-align: right;\"> 0.00309763</td></tr>\n",
       "<tr><td>train_gru1_model_68b28c9d</td><td>TERMINATED</td><td>172.23.68.119:65322</td><td style=\"text-align: right;\">         128</td><td style=\"text-align: right;\">0.318939  </td><td style=\"text-align: right;\">          256</td><td style=\"text-align: right;\">    0.00123457 </td><td style=\"text-align: right;\">     5</td><td style=\"text-align: right;\">         6.73883</td><td style=\"text-align: right;\">  0.00246518</td><td style=\"text-align: right;\">     201.234</td><td style=\"text-align: right;\"> 0.00298472</td></tr>\n",
       "<tr><td>train_gru1_model_9ecc74ee</td><td>TERMINATED</td><td>172.23.68.119:65428</td><td style=\"text-align: right;\">         128</td><td style=\"text-align: right;\">0.318544  </td><td style=\"text-align: right;\">           64</td><td style=\"text-align: right;\">    0.00122358 </td><td style=\"text-align: right;\">     5</td><td style=\"text-align: right;\">         5.63016</td><td style=\"text-align: right;\">  0.00261145</td><td style=\"text-align: right;\">     207.118</td><td style=\"text-align: right;\"> 0.00303402</td></tr>\n",
       "<tr><td>train_gru1_model_8be8f872</td><td>TERMINATED</td><td>172.23.68.119:65528</td><td style=\"text-align: right;\">          64</td><td style=\"text-align: right;\">0.213561  </td><td style=\"text-align: right;\">           64</td><td style=\"text-align: right;\">    0.000568201</td><td style=\"text-align: right;\">     5</td><td style=\"text-align: right;\">         9.60268</td><td style=\"text-align: right;\">  0.00264234</td><td style=\"text-align: right;\">     208.339</td><td style=\"text-align: right;\"> 0.00323681</td></tr>\n",
       "<tr><td>train_gru1_model_6dc8a750</td><td>TERMINATED</td><td>172.23.68.119:65637</td><td style=\"text-align: right;\">          64</td><td style=\"text-align: right;\">0.206336  </td><td style=\"text-align: right;\">          256</td><td style=\"text-align: right;\">    0.000667852</td><td style=\"text-align: right;\">     5</td><td style=\"text-align: right;\">        11.6689 </td><td style=\"text-align: right;\">  0.00248953</td><td style=\"text-align: right;\">     202.225</td><td style=\"text-align: right;\"> 0.00305131</td></tr>\n",
       "<tr><td>train_gru1_model_f1fc30a6</td><td>TERMINATED</td><td>172.23.68.119:65753</td><td style=\"text-align: right;\">          64</td><td style=\"text-align: right;\">0.0963999 </td><td style=\"text-align: right;\">          128</td><td style=\"text-align: right;\">    0.00626578 </td><td style=\"text-align: right;\">     5</td><td style=\"text-align: right;\">         9.69842</td><td style=\"text-align: right;\">  0.00239579</td><td style=\"text-align: right;\">     198.381</td><td style=\"text-align: right;\"> 0.00319033</td></tr>\n",
       "</tbody>\n",
       "</table>\n",
       "  </div>\n",
       "</div>\n",
       "<style>\n",
       ".tuneStatus {\n",
       "  color: var(--jp-ui-font-color1);\n",
       "}\n",
       ".tuneStatus .systemInfo {\n",
       "  display: flex;\n",
       "  flex-direction: column;\n",
       "}\n",
       ".tuneStatus td {\n",
       "  white-space: nowrap;\n",
       "}\n",
       ".tuneStatus .trialStatus {\n",
       "  display: flex;\n",
       "  flex-direction: column;\n",
       "}\n",
       ".tuneStatus h3 {\n",
       "  font-weight: bold;\n",
       "}\n",
       ".tuneStatus .hDivider {\n",
       "  border-bottom-width: var(--jp-border-width);\n",
       "  border-bottom-color: var(--jp-border-color0);\n",
       "  border-bottom-style: solid;\n",
       "}\n",
       ".tuneStatus .vDivider {\n",
       "  border-left-width: var(--jp-border-width);\n",
       "  border-left-color: var(--jp-border-color0);\n",
       "  border-left-style: solid;\n",
       "  margin: 0.5em 1em 0.5em 1em;\n",
       "}\n",
       "</style>\n"
      ],
      "text/plain": [
       "<IPython.core.display.HTML object>"
      ]
     },
     "metadata": {},
     "output_type": "display_data"
    },
    {
     "name": "stderr",
     "output_type": "stream",
     "text": [
      "2025-05-25 01:24:25,767\tINFO tune.py:1009 -- Wrote the latest version of all result files and experiment state to '/home/omen/Projects/2505_portfolio_r/ray_results/GRU_tune_1/train_gru1_model_2025-05-25_01-13-02' in 0.0069s.\n",
      "2025-05-25 01:24:25,774\tINFO tune.py:1041 -- Total run time: 683.07 seconds (682.90 seconds for the tuning loop).\n"
     ]
    }
   ],
   "source": [
    "exp_name = \"GRU_tune_1\"\n",
    "storage_path = os.path.abspath(\"ray_results\")\n",
    "experiment_path = os.path.join(storage_path, exp_name) # 実験ディレクトリのパスを指定\n",
    "os.makedirs(experiment_path, exist_ok=True) # すでにディレクトリが存在している場合はスキップ\n",
    "\n",
    "# ハイパーパラメータ探索範囲\n",
    "config = {\n",
    "    \"hidden_size\": tune.choice([64, 128, 256]),\n",
    "    \"learning_rate\": tune.loguniform(1e-4, 1e-2),\n",
    "    \"dropout\": tune.uniform(0.0, 0.5),\n",
    "    \"batch_size\": tune.choice([64, 128]),\n",
    "    \"num_epochs\": 30\n",
    "}\n",
    "\n",
    "# 試行スケジューラ定義\n",
    "ray_scheduler = ASHAScheduler(\n",
    "    max_t=30,\n",
    "    grace_period=5,\n",
    "    reduction_factor=2\n",
    ")\n",
    "\n",
    "def train_gru1_model(config):\n",
    "    set_seed(42)\n",
    "    device = \"cuda\" if torch.cuda.is_available() else \"cpu\"  # GPUが利用可能なら使用\n",
    "    train_loader, test_loader = create_dataloaders(config[\"batch_size\"])\n",
    "\n",
    "    model = GRUModel(\n",
    "        input_size=6,  # 特徴量数に合わせる\n",
    "        hidden_size=config[\"hidden_size\"],\n",
    "        output_size=1,  # 出力サイズ\n",
    "        num_layers=1, # ここを変える\n",
    "        dropout=config[\"dropout\"]\n",
    "    ).to(device)  # モデルをGPUに送る\n",
    "\n",
    "    criterion = nn.MSELoss()\n",
    "    optimizer = torch.optim.Adam(model.parameters(), lr=config[\"learning_rate\"])\n",
    "    scheduler = StepLR(optimizer, step_size=5, gamma=0.5)\n",
    "\n",
    "    best_test_loss = float(\"inf\")\n",
    "    best_epoch = 0\n",
    "    best_model_state = None\n",
    "\n",
    "    for epoch in range(config[\"num_epochs\"]):\n",
    "        model.train()\n",
    "        train_loss = 0.0\n",
    "        train_predictions, train_targets = [], []\n",
    "        for batch_x, batch_y in train_loader:\n",
    "            batch_x, batch_y = batch_x.to(device), batch_y.to(device)  # 入力データをGPUに送る\n",
    "\n",
    "            optimizer.zero_grad()\n",
    "            outputs = model(batch_x)\n",
    "            loss = criterion(outputs, batch_y)\n",
    "            loss.backward()\n",
    "            optimizer.step()\n",
    "            train_loss += loss.item()\n",
    "            train_predictions.append(outputs.cpu())  # CPUに戻す\n",
    "            train_targets.append(batch_y.cpu())\n",
    "\n",
    "        train_loss /= len(train_loader)\n",
    "        train_predictions = scaler_y.inverse_transform(torch.cat(train_predictions).detach().numpy()) # 勾配追跡を無効化\n",
    "        train_targets = scaler_y.inverse_transform(torch.cat(train_targets).detach().numpy())\n",
    "        train_rmse = np.sqrt(mean_squared_error(train_targets, train_predictions))\n",
    "\n",
    "        model.eval()\n",
    "        test_loss = 0.0\n",
    "        test_predictions, test_targets = [], []\n",
    "        with torch.no_grad():\n",
    "            for batch_x, batch_y in test_loader:\n",
    "                batch_x, batch_y = batch_x.to(device), batch_y.to(device)\n",
    "                outputs = model(batch_x)\n",
    "                loss = criterion(outputs, batch_y)\n",
    "                test_loss += loss.item()\n",
    "                test_predictions.append(outputs.cpu())  # CPUに戻す\n",
    "                test_targets.append(batch_y.cpu())\n",
    "\n",
    "        test_loss /= len(test_loader)\n",
    "        test_predictions = scaler_y.inverse_transform(torch.cat(test_predictions).detach().numpy())\n",
    "        test_targets = scaler_y.inverse_transform(torch.cat(test_targets).detach().numpy())\n",
    "        test_rmse = np.sqrt(mean_squared_error(test_targets, test_predictions))\n",
    "        test_r2 = r2_score(test_targets, test_predictions)\n",
    "\n",
    "        if test_loss < best_test_loss:\n",
    "          best_test_loss = test_loss\n",
    "          best_epoch = epoch\n",
    "          best_model_state = model.state_dict()\n",
    "\n",
    "        # 学習率スケジューラを更新\n",
    "        scheduler.step()\n",
    "\n",
    "        # 結果を報告\n",
    "        tune.report({\"train_loss\": train_loss, \"train_rmse\": train_rmse,\n",
    "                        \"test_loss\": test_loss, \"test_rmse\": test_rmse,\n",
    "                        \"test_r2\": test_r2,\n",
    "                        \"epoch\": epoch, \"best_test_loss\": best_test_loss, \"best_epoch\":best_epoch})\n",
    "\n",
    "    torch.save(best_model_state, os.path.join(experiment_path, \"best_model.path\"))\n",
    "\n",
    "algo = OptunaSearch(metric=\"test_loss\", mode=\"min\")\n",
    "\n",
    "# リソース設定\n",
    "scaling_config = ScalingConfig(\n",
    "    num_workers=-2,              # 試行ごとに使用するワーカー数\n",
    "    use_gpu=True,               # GPUを使用\n",
    "    trainer_resources={\"cpu\": 4, \"gpu\": 1},  # トレーナーが使用するリソース\n",
    ")\n",
    "trainable_with_cpu_gpu = tune.with_resources(train_gru1_model, {\"cpu\": 4, \"gpu\": 1})\n",
    "tuner = tune.Tuner(\n",
    "    trainable_with_cpu_gpu,\n",
    "    tune_config=tune.TuneConfig(\n",
    "        metric=\"test_loss\",\n",
    "        mode=\"min\",\n",
    "        num_samples=30,\n",
    "        search_alg=algo,\n",
    "        scheduler=ray_scheduler,\n",
    "        max_concurrent_trials=5\n",
    "    ),\n",
    "    run_config=RunConfig(\n",
    "        storage_path=experiment_path,\n",
    "        verbose=1,\n",
    "    ),\n",
    "    param_space=config,\n",
    ")\n",
    "result_grid = tuner.fit()\n",
    "best_result = result_grid.get_best_result()"
   ]
  },
  {
   "cell_type": "code",
   "execution_count": 40,
   "id": "20d2dbe1",
   "metadata": {},
   "outputs": [
    {
     "name": "stdout",
     "output_type": "stream",
     "text": [
      "Result(\n",
      "  metrics={'train_loss': 0.0021760084714692136, 'train_rmse': np.float64(189.06316115586876), 'test_loss': 0.002793921069984419, 'test_rmse': np.float64(213.3778741751356), 'test_r2': 0.91037517786026, 'epoch': 9, 'best_test_loss': 0.002599519815808837, 'best_epoch': 7},\n",
      "  path='/home/omen/Projects/2505_portfolio_r/ray_results/GRU_tune_1/train_gru1_model_2025-05-25_01-13-02/train_gru1_model_d44eea62_6_batch_size=128,dropout=0.3949,hidden_size=256,learning_rate=0.0019,num_epochs=30_2025-05-25_01-14-32',\n",
      "  filesystem='local',\n",
      "  checkpoint=None\n",
      ")\n",
      "Best config: {'hidden_size': 256, 'learning_rate': 0.0019492504073061303, 'dropout': 0.3949096982026997, 'batch_size': 128, 'num_epochs': 30}\n",
      "Best metrics: {'train_loss': 0.0021760084714692136, 'train_rmse': np.float64(189.06316115586876), 'test_loss': 0.002793921069984419, 'test_rmse': np.float64(213.3778741751356), 'test_r2': 0.91037517786026, 'epoch': 9, 'best_test_loss': 0.002599519815808837, 'best_epoch': 7, 'timestamp': 1748103307, 'checkpoint_dir_name': None, 'done': True, 'training_iteration': 10, 'trial_id': 'd44eea62', 'date': '2025-05-25_01-15-07', 'time_this_iter_s': 1.1833233833312988, 'time_total_s': 12.980326652526855, 'pid': 62241, 'hostname': 'OMEN', 'node_ip': '172.23.68.119', 'config': {'hidden_size': 256, 'learning_rate': 0.0019492504073061303, 'dropout': 0.3949096982026997, 'batch_size': 128, 'num_epochs': 30}, 'time_since_restore': 12.980326652526855, 'iterations_since_restore': 10, 'experiment_tag': '6_batch_size=128,dropout=0.3949,hidden_size=256,learning_rate=0.0019,num_epochs=30'}\n"
     ]
    }
   ],
   "source": [
    "best_config  = best_result.config\n",
    "best_metrics = best_result.metrics\n",
    "print(best_result)\n",
    "print(\"Best config:\", best_config)\n",
    "print(\"Best metrics:\", best_metrics)"
   ]
  },
  {
   "cell_type": "code",
   "execution_count": 41,
   "id": "21a10892",
   "metadata": {},
   "outputs": [],
   "source": [
    "analysis = get_json(\"train_gru1_model\")"
   ]
  },
  {
   "cell_type": "code",
   "execution_count": 42,
   "id": "9f180625-d9d3-401d-95cd-558bae05f701",
   "metadata": {
    "colab": {
     "base_uri": "https://localhost:8080/"
    },
    "id": "p4fcw5J81YT9",
    "outputId": "fd1d2ffb-b4fe-49da-f583-061f767c1fef"
   },
   "outputs": [
    {
     "name": "stdout",
     "output_type": "stream",
     "text": [
      "Best Epoch: 7\n",
      "Best Test Loss: 0.002599519815808837\n",
      "Best Test RMSE: 204.13186034093258\n",
      "Best Test R²: 0.917974054813385\n"
     ]
    }
   ],
   "source": [
    "# 最良試行のデータフレームを取得\n",
    "best_trial = analysis.get_best_trial(metric=\"test_loss\", mode=\"min\")\n",
    "best_trial_df = analysis.trial_dataframes[best_trial.trial_id]\n",
    "\n",
    "# test_loss が最小のエポックを取得\n",
    "best_epoch_idx = best_trial_df[\"test_loss\"].idxmin()\n",
    "best_epoch = best_trial_df.loc[best_epoch_idx]\n",
    "\n",
    "# 同じエポックの test_rmse, test_r2 を取得\n",
    "best_epoch_loss = best_epoch[\"test_loss\"]\n",
    "best_epoch_rmse = best_epoch[\"test_rmse\"]\n",
    "best_epoch_r2 = best_epoch[\"test_r2\"]\n",
    "\n",
    "# 結果を表示\n",
    "print(f\"Best Epoch: {best_epoch['epoch']}\")\n",
    "print(f\"Best Test Loss: {best_epoch_loss}\")\n",
    "print(f\"Best Test RMSE: {best_epoch_rmse}\")\n",
    "print(f\"Best Test R²: {best_epoch_r2}\")"
   ]
  },
  {
   "cell_type": "code",
   "execution_count": 44,
   "id": "5263e9cd-2f51-4eb5-9bc1-d30364e607cd",
   "metadata": {
    "colab": {
     "base_uri": "https://localhost:8080/",
     "height": 564
    },
    "id": "6VZY2racPkgY",
    "outputId": "4ea5078c-5f17-4a82-984e-2853a0b27262"
   },
   "outputs": [
    {
     "data": {
      "image/png": "[encoded data removed]",
      "text/plain": [
       "<Figure size 1000x600 with 1 Axes>"
      ]
     },
     "metadata": {},
     "output_type": "display_data"
    }
   ],
   "source": [
    "plot_loss(best_trial_df)"
   ]
  },
  {
   "cell_type": "markdown",
   "id": "1114c512-b93b-4b8c-8045-6e6fdd6cb182",
   "metadata": {},
   "source": [
    "#### GRU 2層"
   ]
  },
  {
   "cell_type": "code",
   "execution_count": 45,
   "id": "a669dc75-a135-4e3b-a1ca-de6386865291",
   "metadata": {
    "colab": {
     "base_uri": "https://localhost:8080/"
    },
    "collapsed": true,
    "id": "C9asjKh2Pkl9",
    "jupyter": {
     "outputs_hidden": true
    },
    "outputId": "9b9cb3bd-2e4d-4b1f-ffdc-4d902a9c79ff"
   },
   "outputs": [
    {
     "data": {
      "text/html": [
       "<div class=\"tuneStatus\">\n",
       "  <div style=\"display: flex;flex-direction: row\">\n",
       "    <div style=\"display: flex;flex-direction: column;\">\n",
       "      <h3>Tune Status</h3>\n",
       "      <table>\n",
       "<tbody>\n",
       "<tr><td>Current time:</td><td>2025-05-25 01:36:04</td></tr>\n",
       "<tr><td>Running for: </td><td>00:11:38.82        </td></tr>\n",
       "<tr><td>Memory:      </td><td>9.7/15.3 GiB       </td></tr>\n",
       "</tbody>\n",
       "</table>\n",
       "    </div>\n",
       "    <div class=\"vDivider\"></div>\n",
       "    <div class=\"systemInfo\">\n",
       "      <h3>System Info</h3>\n",
       "      Using AsyncHyperBand: num_stopped=30<br>Bracket: Iter 20.000: -0.0028995402041256182 | Iter 5.000: -0.003108761687681155<br>Logical resource usage: 4.0/20 CPUs, 1.0/1 GPUs (0.0/1.0 accelerator_type:G)\n",
       "    </div>\n",
       "    \n",
       "  </div>\n",
       "  <div class=\"hDivider\"></div>\n",
       "  <div class=\"trialStatus\">\n",
       "    <h3>Trial Status</h3>\n",
       "    <table>\n",
       "<thead>\n",
       "<tr><th>Trial name               </th><th>status    </th><th>loc                </th><th style=\"text-align: right;\">  batch_size</th><th style=\"text-align: right;\">  dropout</th><th style=\"text-align: right;\">  hidden_size</th><th style=\"text-align: right;\">  learning_rate</th><th style=\"text-align: right;\">  iter</th><th style=\"text-align: right;\">  total time (s)</th><th style=\"text-align: right;\">  train_loss</th><th style=\"text-align: right;\">  train_rmse</th><th style=\"text-align: right;\">  test_loss</th></tr>\n",
       "</thead>\n",
       "<tbody>\n",
       "<tr><td>train_gru2_model_8ecb061d</td><td>TERMINATED</td><td>172.23.68.119:65866</td><td style=\"text-align: right;\">         128</td><td style=\"text-align: right;\">0.25224  </td><td style=\"text-align: right;\">           64</td><td style=\"text-align: right;\">    0.0001331  </td><td style=\"text-align: right;\">    30</td><td style=\"text-align: right;\">        33.8754 </td><td style=\"text-align: right;\">  0.00315442</td><td style=\"text-align: right;\">     227.634</td><td style=\"text-align: right;\"> 0.00365742</td></tr>\n",
       "<tr><td>train_gru2_model_11633d3f</td><td>TERMINATED</td><td>172.23.68.119:66057</td><td style=\"text-align: right;\">          64</td><td style=\"text-align: right;\">0.364916 </td><td style=\"text-align: right;\">           64</td><td style=\"text-align: right;\">    0.00101099 </td><td style=\"text-align: right;\">    30</td><td style=\"text-align: right;\">        55.6858 </td><td style=\"text-align: right;\">  0.00216148</td><td style=\"text-align: right;\">     188.431</td><td style=\"text-align: right;\"> 0.0028153 </td></tr>\n",
       "<tr><td>train_gru2_model_c9fe666f</td><td>TERMINATED</td><td>172.23.68.119:66306</td><td style=\"text-align: right;\">          64</td><td style=\"text-align: right;\">0.337335 </td><td style=\"text-align: right;\">          128</td><td style=\"text-align: right;\">    0.00011311 </td><td style=\"text-align: right;\">     5</td><td style=\"text-align: right;\">         9.82103</td><td style=\"text-align: right;\">  0.00347762</td><td style=\"text-align: right;\">     239.011</td><td style=\"text-align: right;\"> 0.00531075</td></tr>\n",
       "<tr><td>train_gru2_model_f8606d43</td><td>TERMINATED</td><td>172.23.68.119:66419</td><td style=\"text-align: right;\">         128</td><td style=\"text-align: right;\">0.211941 </td><td style=\"text-align: right;\">          128</td><td style=\"text-align: right;\">    0.00423834 </td><td style=\"text-align: right;\">    20</td><td style=\"text-align: right;\">        21.0641 </td><td style=\"text-align: right;\">  0.00183259</td><td style=\"text-align: right;\">     173.504</td><td style=\"text-align: right;\"> 0.00360133</td></tr>\n",
       "<tr><td>train_gru2_model_c3c6b552</td><td>TERMINATED</td><td>172.23.68.119:66562</td><td style=\"text-align: right;\">         128</td><td style=\"text-align: right;\">0.0956596</td><td style=\"text-align: right;\">          128</td><td style=\"text-align: right;\">    0.00027262 </td><td style=\"text-align: right;\">     5</td><td style=\"text-align: right;\">         6.29404</td><td style=\"text-align: right;\">  0.00294477</td><td style=\"text-align: right;\">     219.939</td><td style=\"text-align: right;\"> 0.0052555 </td></tr>\n",
       "<tr><td>train_gru2_model_8da60487</td><td>TERMINATED</td><td>172.23.68.119:66662</td><td style=\"text-align: right;\">          64</td><td style=\"text-align: right;\">0.327331 </td><td style=\"text-align: right;\">          128</td><td style=\"text-align: right;\">    0.000559485</td><td style=\"text-align: right;\">     5</td><td style=\"text-align: right;\">        10.6253 </td><td style=\"text-align: right;\">  0.00267048</td><td style=\"text-align: right;\">     209.445</td><td style=\"text-align: right;\"> 0.00429992</td></tr>\n",
       "<tr><td>train_gru2_model_8f43efd2</td><td>TERMINATED</td><td>172.23.68.119:66781</td><td style=\"text-align: right;\">          64</td><td style=\"text-align: right;\">0.426003 </td><td style=\"text-align: right;\">           64</td><td style=\"text-align: right;\">    0.00243028 </td><td style=\"text-align: right;\">    30</td><td style=\"text-align: right;\">        61.2474 </td><td style=\"text-align: right;\">  0.00193791</td><td style=\"text-align: right;\">     178.42 </td><td style=\"text-align: right;\"> 0.00296088</td></tr>\n",
       "<tr><td>train_gru2_model_99312e12</td><td>TERMINATED</td><td>172.23.68.119:67051</td><td style=\"text-align: right;\">          64</td><td style=\"text-align: right;\">0.336011 </td><td style=\"text-align: right;\">          128</td><td style=\"text-align: right;\">    0.00252261 </td><td style=\"text-align: right;\">     5</td><td style=\"text-align: right;\">        10.6683 </td><td style=\"text-align: right;\">  0.00248279</td><td style=\"text-align: right;\">     201.951</td><td style=\"text-align: right;\"> 0.00345291</td></tr>\n",
       "<tr><td>train_gru2_model_07ff8347</td><td>TERMINATED</td><td>172.23.68.119:67169</td><td style=\"text-align: right;\">          64</td><td style=\"text-align: right;\">0.473366 </td><td style=\"text-align: right;\">          128</td><td style=\"text-align: right;\">    0.000261337</td><td style=\"text-align: right;\">     5</td><td style=\"text-align: right;\">        10.2613 </td><td style=\"text-align: right;\">  0.00296226</td><td style=\"text-align: right;\">     220.591</td><td style=\"text-align: right;\"> 0.00409973</td></tr>\n",
       "<tr><td>train_gru2_model_bcf4ca0d</td><td>TERMINATED</td><td>172.23.68.119:67275</td><td style=\"text-align: right;\">         128</td><td style=\"text-align: right;\">0.230156 </td><td style=\"text-align: right;\">           64</td><td style=\"text-align: right;\">    0.00188405 </td><td style=\"text-align: right;\">    30</td><td style=\"text-align: right;\">        29.962  </td><td style=\"text-align: right;\">  0.00207304</td><td style=\"text-align: right;\">     184.536</td><td style=\"text-align: right;\"> 0.0028534 </td></tr>\n",
       "<tr><td>train_gru2_model_5beb76d1</td><td>TERMINATED</td><td>172.23.68.119:67450</td><td style=\"text-align: right;\">         128</td><td style=\"text-align: right;\">0.434851 </td><td style=\"text-align: right;\">          128</td><td style=\"text-align: right;\">    0.00851863 </td><td style=\"text-align: right;\">    20</td><td style=\"text-align: right;\">        19.8622 </td><td style=\"text-align: right;\">  0.00183374</td><td style=\"text-align: right;\">     173.558</td><td style=\"text-align: right;\"> 0.00336456</td></tr>\n",
       "<tr><td>train_gru2_model_a128e3e7</td><td>TERMINATED</td><td>172.23.68.119:67594</td><td style=\"text-align: right;\">          64</td><td style=\"text-align: right;\">0.0141874</td><td style=\"text-align: right;\">           64</td><td style=\"text-align: right;\">    0.000961048</td><td style=\"text-align: right;\">     5</td><td style=\"text-align: right;\">        10.4027 </td><td style=\"text-align: right;\">  0.00253848</td><td style=\"text-align: right;\">     204.204</td><td style=\"text-align: right;\"> 0.00332695</td></tr>\n",
       "<tr><td>train_gru2_model_5545fe49</td><td>TERMINATED</td><td>172.23.68.119:67706</td><td style=\"text-align: right;\">         128</td><td style=\"text-align: right;\">0.140153 </td><td style=\"text-align: right;\">           64</td><td style=\"text-align: right;\">    0.00119972 </td><td style=\"text-align: right;\">    30</td><td style=\"text-align: right;\">        34.415  </td><td style=\"text-align: right;\">  0.00215389</td><td style=\"text-align: right;\">     188.1  </td><td style=\"text-align: right;\"> 0.00292634</td></tr>\n",
       "<tr><td>train_gru2_model_458e4aad</td><td>TERMINATED</td><td>172.23.68.119:67894</td><td style=\"text-align: right;\">         128</td><td style=\"text-align: right;\">0.201946 </td><td style=\"text-align: right;\">           64</td><td style=\"text-align: right;\">    0.00128675 </td><td style=\"text-align: right;\">    30</td><td style=\"text-align: right;\">        35.2422 </td><td style=\"text-align: right;\">  0.00215338</td><td style=\"text-align: right;\">     188.078</td><td style=\"text-align: right;\"> 0.0029108 </td></tr>\n",
       "<tr><td>train_gru2_model_6565aac6</td><td>TERMINATED</td><td>172.23.68.119:68081</td><td style=\"text-align: right;\">         128</td><td style=\"text-align: right;\">0.250205 </td><td style=\"text-align: right;\">           64</td><td style=\"text-align: right;\">    0.0011198  </td><td style=\"text-align: right;\">     5</td><td style=\"text-align: right;\">         6.35923</td><td style=\"text-align: right;\">  0.00275082</td><td style=\"text-align: right;\">     212.573</td><td style=\"text-align: right;\"> 0.00325761</td></tr>\n",
       "<tr><td>train_gru2_model_916137b5</td><td>TERMINATED</td><td>172.23.68.119:68187</td><td style=\"text-align: right;\">          64</td><td style=\"text-align: right;\">0.273848 </td><td style=\"text-align: right;\">           64</td><td style=\"text-align: right;\">    0.000558879</td><td style=\"text-align: right;\">    20</td><td style=\"text-align: right;\">        37.7419 </td><td style=\"text-align: right;\">  0.00233202</td><td style=\"text-align: right;\">     195.724</td><td style=\"text-align: right;\"> 0.00290914</td></tr>\n",
       "<tr><td>train_gru2_model_1156de40</td><td>TERMINATED</td><td>172.23.68.119:68387</td><td style=\"text-align: right;\">          64</td><td style=\"text-align: right;\">0.384409 </td><td style=\"text-align: right;\">           64</td><td style=\"text-align: right;\">    0.000432805</td><td style=\"text-align: right;\">     5</td><td style=\"text-align: right;\">         9.23357</td><td style=\"text-align: right;\">  0.00294072</td><td style=\"text-align: right;\">     219.788</td><td style=\"text-align: right;\"> 0.00325268</td></tr>\n",
       "<tr><td>train_gru2_model_35e6e477</td><td>TERMINATED</td><td>172.23.68.119:68493</td><td style=\"text-align: right;\">         128</td><td style=\"text-align: right;\">0.386149 </td><td style=\"text-align: right;\">           64</td><td style=\"text-align: right;\">    0.00264182 </td><td style=\"text-align: right;\">    30</td><td style=\"text-align: right;\">        29.5161 </td><td style=\"text-align: right;\">  0.00206113</td><td style=\"text-align: right;\">     184.005</td><td style=\"text-align: right;\"> 0.00280789</td></tr>\n",
       "<tr><td>train_gru2_model_66004247</td><td>TERMINATED</td><td>172.23.68.119:68669</td><td style=\"text-align: right;\">         128</td><td style=\"text-align: right;\">0.142751 </td><td style=\"text-align: right;\">           64</td><td style=\"text-align: right;\">    0.00313546 </td><td style=\"text-align: right;\">    20</td><td style=\"text-align: right;\">        22.6551 </td><td style=\"text-align: right;\">  0.00202644</td><td style=\"text-align: right;\">     182.45 </td><td style=\"text-align: right;\"> 0.00309113</td></tr>\n",
       "<tr><td>train_gru2_model_e161e54d</td><td>TERMINATED</td><td>172.23.68.119:68818</td><td style=\"text-align: right;\">         128</td><td style=\"text-align: right;\">0.499209 </td><td style=\"text-align: right;\">           64</td><td style=\"text-align: right;\">    0.0045433  </td><td style=\"text-align: right;\">    20</td><td style=\"text-align: right;\">        23.0694 </td><td style=\"text-align: right;\">  0.00207076</td><td style=\"text-align: right;\">     184.434</td><td style=\"text-align: right;\"> 0.00307101</td></tr>\n",
       "<tr><td>train_gru2_model_7f9fee64</td><td>TERMINATED</td><td>172.23.68.119:68975</td><td style=\"text-align: right;\">          64</td><td style=\"text-align: right;\">0.499573 </td><td style=\"text-align: right;\">           64</td><td style=\"text-align: right;\">    0.00565531 </td><td style=\"text-align: right;\">    20</td><td style=\"text-align: right;\">        41.1213 </td><td style=\"text-align: right;\">  0.00187479</td><td style=\"text-align: right;\">     175.49 </td><td style=\"text-align: right;\"> 0.00342737</td></tr>\n",
       "<tr><td>train_gru2_model_f584ff04</td><td>TERMINATED</td><td>172.23.68.119:69180</td><td style=\"text-align: right;\">          64</td><td style=\"text-align: right;\">0.395742 </td><td style=\"text-align: right;\">           64</td><td style=\"text-align: right;\">    0.00998623 </td><td style=\"text-align: right;\">    20</td><td style=\"text-align: right;\">        39.4341 </td><td style=\"text-align: right;\">  0.00172134</td><td style=\"text-align: right;\">     168.155</td><td style=\"text-align: right;\"> 0.00324543</td></tr>\n",
       "<tr><td>train_gru2_model_e56e7fe2</td><td>TERMINATED</td><td>172.23.68.119:69387</td><td style=\"text-align: right;\">         128</td><td style=\"text-align: right;\">0.37946  </td><td style=\"text-align: right;\">           64</td><td style=\"text-align: right;\">    0.00156444 </td><td style=\"text-align: right;\">     5</td><td style=\"text-align: right;\">         5.51506</td><td style=\"text-align: right;\">  0.00273258</td><td style=\"text-align: right;\">     211.867</td><td style=\"text-align: right;\"> 0.00331349</td></tr>\n",
       "<tr><td>train_gru2_model_7a5feb04</td><td>TERMINATED</td><td>172.23.68.119:69486</td><td style=\"text-align: right;\">         128</td><td style=\"text-align: right;\">0.310103 </td><td style=\"text-align: right;\">           64</td><td style=\"text-align: right;\">    0.00193424 </td><td style=\"text-align: right;\">     5</td><td style=\"text-align: right;\">         5.9627 </td><td style=\"text-align: right;\">  0.00264186</td><td style=\"text-align: right;\">     208.32 </td><td style=\"text-align: right;\"> 0.00310345</td></tr>\n",
       "<tr><td>train_gru2_model_cca2bb9c</td><td>TERMINATED</td><td>172.23.68.119:69586</td><td style=\"text-align: right;\">         128</td><td style=\"text-align: right;\">0.313179 </td><td style=\"text-align: right;\">           64</td><td style=\"text-align: right;\">    0.00170835 </td><td style=\"text-align: right;\">     5</td><td style=\"text-align: right;\">         5.34341</td><td style=\"text-align: right;\">  0.00267245</td><td style=\"text-align: right;\">     209.523</td><td style=\"text-align: right;\"> 0.00319753</td></tr>\n",
       "<tr><td>train_gru2_model_62e5ded1</td><td>TERMINATED</td><td>172.23.68.119:69684</td><td style=\"text-align: right;\">         128</td><td style=\"text-align: right;\">0.194391 </td><td style=\"text-align: right;\">           64</td><td style=\"text-align: right;\">    0.000844451</td><td style=\"text-align: right;\">     5</td><td style=\"text-align: right;\">         5.51585</td><td style=\"text-align: right;\">  0.00278525</td><td style=\"text-align: right;\">     213.899</td><td style=\"text-align: right;\"> 0.00337723</td></tr>\n",
       "<tr><td>train_gru2_model_433cca7a</td><td>TERMINATED</td><td>172.23.68.119:69784</td><td style=\"text-align: right;\">         128</td><td style=\"text-align: right;\">0.209551 </td><td style=\"text-align: right;\">           64</td><td style=\"text-align: right;\">    0.000868109</td><td style=\"text-align: right;\">     5</td><td style=\"text-align: right;\">         5.34734</td><td style=\"text-align: right;\">  0.00278963</td><td style=\"text-align: right;\">     214.067</td><td style=\"text-align: right;\"> 0.00334897</td></tr>\n",
       "<tr><td>train_gru2_model_86d86f50</td><td>TERMINATED</td><td>172.23.68.119:69883</td><td style=\"text-align: right;\">         128</td><td style=\"text-align: right;\">0.291876 </td><td style=\"text-align: right;\">           64</td><td style=\"text-align: right;\">    0.000737168</td><td style=\"text-align: right;\">     5</td><td style=\"text-align: right;\">         5.58136</td><td style=\"text-align: right;\">  0.00285962</td><td style=\"text-align: right;\">     216.736</td><td style=\"text-align: right;\"> 0.00337654</td></tr>\n",
       "<tr><td>train_gru2_model_201c91f5</td><td>TERMINATED</td><td>172.23.68.119:69983</td><td style=\"text-align: right;\">         128</td><td style=\"text-align: right;\">0.288967 </td><td style=\"text-align: right;\">           64</td><td style=\"text-align: right;\">    0.0033466  </td><td style=\"text-align: right;\">    20</td><td style=\"text-align: right;\">        22.9187 </td><td style=\"text-align: right;\">  0.0020513 </td><td style=\"text-align: right;\">     183.566</td><td style=\"text-align: right;\"> 0.00296647</td></tr>\n",
       "<tr><td>train_gru2_model_d9f9bcd8</td><td>TERMINATED</td><td>172.23.68.119:70133</td><td style=\"text-align: right;\">          64</td><td style=\"text-align: right;\">0.355126 </td><td style=\"text-align: right;\">           64</td><td style=\"text-align: right;\">    0.00276983 </td><td style=\"text-align: right;\">     5</td><td style=\"text-align: right;\">        10.3124 </td><td style=\"text-align: right;\">  0.0025642 </td><td style=\"text-align: right;\">     205.235</td><td style=\"text-align: right;\"> 0.0034299 </td></tr>\n",
       "</tbody>\n",
       "</table>\n",
       "  </div>\n",
       "</div>\n",
       "<style>\n",
       ".tuneStatus {\n",
       "  color: var(--jp-ui-font-color1);\n",
       "}\n",
       ".tuneStatus .systemInfo {\n",
       "  display: flex;\n",
       "  flex-direction: column;\n",
       "}\n",
       ".tuneStatus td {\n",
       "  white-space: nowrap;\n",
       "}\n",
       ".tuneStatus .trialStatus {\n",
       "  display: flex;\n",
       "  flex-direction: column;\n",
       "}\n",
       ".tuneStatus h3 {\n",
       "  font-weight: bold;\n",
       "}\n",
       ".tuneStatus .hDivider {\n",
       "  border-bottom-width: var(--jp-border-width);\n",
       "  border-bottom-color: var(--jp-border-color0);\n",
       "  border-bottom-style: solid;\n",
       "}\n",
       ".tuneStatus .vDivider {\n",
       "  border-left-width: var(--jp-border-width);\n",
       "  border-left-color: var(--jp-border-color0);\n",
       "  border-left-style: solid;\n",
       "  margin: 0.5em 1em 0.5em 1em;\n",
       "}\n",
       "</style>\n"
      ],
      "text/plain": [
       "<IPython.core.display.HTML object>"
      ]
     },
     "metadata": {},
     "output_type": "display_data"
    },
    {
     "name": "stderr",
     "output_type": "stream",
     "text": [
      "2025-05-25 01:36:04,931\tINFO tune.py:1009 -- Wrote the latest version of all result files and experiment state to '/home/omen/Projects/2505_portfolio_r/ray_results/GRU_tune_2/train_gru2_model_2025-05-25_01-24-25' in 0.0059s.\n",
      "2025-05-25 01:36:04,937\tINFO tune.py:1041 -- Total run time: 698.99 seconds (698.82 seconds for the tuning loop).\n"
     ]
    }
   ],
   "source": [
    "exp_name = \"GRU_tune_2\"\n",
    "storage_path = os.path.abspath(\"ray_results\")\n",
    "experiment_path = os.path.join(storage_path, exp_name) # 実験ディレクトリのパスを指定\n",
    "os.makedirs(experiment_path, exist_ok=True) # すでにディレクトリが存在している場合はスキップ\n",
    "\n",
    "# ハイパーパラメータ探索範囲\n",
    "config = {\n",
    "    \"hidden_size\": tune.choice([64, 128]), # メモリが不足するため256を削除\n",
    "    \"learning_rate\": tune.loguniform(1e-4, 1e-2),\n",
    "    \"dropout\": tune.uniform(0.0, 0.5),\n",
    "    \"batch_size\": tune.choice([64, 128]),\n",
    "    \"num_epochs\": 30\n",
    "}\n",
    "\n",
    "# 試行スケジューラ定義\n",
    "ray_scheduler = ASHAScheduler(\n",
    "    max_t=30,\n",
    "    grace_period=5,\n",
    "    reduction_factor=4\n",
    ")\n",
    "\n",
    "def train_gru2_model(config):\n",
    "    set_seed(42)\n",
    "    device = \"cuda\" if torch.cuda.is_available() else \"cpu\"  # GPUが利用可能なら使用\n",
    "    train_loader, test_loader = create_dataloaders(config[\"batch_size\"])\n",
    "\n",
    "    model = GRUModel(\n",
    "        input_size=6,  # 特徴量数に合わせる\n",
    "        hidden_size=config[\"hidden_size\"],\n",
    "        output_size=1,  # 出力サイズ\n",
    "        num_layers=2, # ここを変える\n",
    "        dropout=config[\"dropout\"]\n",
    "    ).to(device)  # モデルをGPUに送る\n",
    "\n",
    "    criterion = nn.MSELoss()\n",
    "    optimizer = torch.optim.Adam(model.parameters(), lr=config[\"learning_rate\"])\n",
    "    scheduler = StepLR(optimizer, step_size=5, gamma=0.5)\n",
    "\n",
    "    best_test_loss = float(\"inf\")\n",
    "    best_epoch = 0\n",
    "    best_model_state = None\n",
    "\n",
    "    for epoch in range(config[\"num_epochs\"]):\n",
    "        model.train()\n",
    "        train_loss = 0.0\n",
    "        train_predictions, train_targets = [], []\n",
    "        for batch_x, batch_y in train_loader:\n",
    "            batch_x, batch_y = batch_x.to(device), batch_y.to(device)  # 入力データをGPUに送る\n",
    "\n",
    "            optimizer.zero_grad()\n",
    "            outputs = model(batch_x)\n",
    "            loss = criterion(outputs, batch_y)\n",
    "            loss.backward()\n",
    "            optimizer.step()\n",
    "            train_loss += loss.item()\n",
    "            train_predictions.append(outputs.cpu())  # CPUに戻す\n",
    "            train_targets.append(batch_y.cpu())\n",
    "\n",
    "        train_loss /= len(train_loader)\n",
    "        train_predictions = scaler_y.inverse_transform(torch.cat(train_predictions).detach().numpy()) # 勾配追跡を無効化\n",
    "        train_targets = scaler_y.inverse_transform(torch.cat(train_targets).detach().numpy())\n",
    "        train_rmse = np.sqrt(mean_squared_error(train_targets, train_predictions))\n",
    "\n",
    "        model.eval()\n",
    "        test_loss = 0.0\n",
    "        test_predictions, test_targets = [], []\n",
    "        with torch.no_grad():\n",
    "            for batch_x, batch_y in test_loader:\n",
    "                batch_x, batch_y = batch_x.to(device), batch_y.to(device)\n",
    "                outputs = model(batch_x)\n",
    "                loss = criterion(outputs, batch_y)\n",
    "                test_loss += loss.item()\n",
    "                test_predictions.append(outputs.cpu())  # CPUに戻す\n",
    "                test_targets.append(batch_y.cpu())\n",
    "\n",
    "        test_loss /= len(test_loader)\n",
    "        test_predictions = scaler_y.inverse_transform(torch.cat(test_predictions).detach().numpy())\n",
    "        test_targets = scaler_y.inverse_transform(torch.cat(test_targets).detach().numpy())\n",
    "        test_rmse = np.sqrt(mean_squared_error(test_targets, test_predictions))\n",
    "        test_r2 = r2_score(test_targets, test_predictions)\n",
    "\n",
    "        if test_loss < best_test_loss:\n",
    "          best_test_loss = test_loss\n",
    "          best_epoch = epoch\n",
    "          best_model_state = model.state_dict()\n",
    "\n",
    "        # 学習率スケジューラを更新\n",
    "        scheduler.step()\n",
    "\n",
    "        # 結果を報告\n",
    "        tune.report({\"train_loss\": train_loss, \"train_rmse\": train_rmse,\n",
    "                        \"test_loss\": test_loss, \"test_rmse\": test_rmse,\n",
    "                        \"test_r2\": test_r2,\n",
    "                        \"epoch\": epoch, \"best_test_loss\": best_test_loss, \"best_epoch\":best_epoch})\n",
    "\n",
    "    torch.save(best_model_state, os.path.join(experiment_path, \"best_model.path\"))\n",
    "\n",
    "algo = OptunaSearch(metric=\"test_loss\", mode=\"min\")\n",
    "\n",
    "# リソース設定\n",
    "scaling_config = ScalingConfig(\n",
    "    num_workers=-2,              # 試行ごとに使用するワーカー数\n",
    "    use_gpu=True,               # GPUを使用\n",
    "    trainer_resources={\"cpu\": 4, \"gpu\": 1},  # トレーナーが使用するリソース\n",
    ")\n",
    "trainable_with_cpu_gpu = tune.with_resources(train_gru2_model, {\"cpu\": 4, \"gpu\": 1})\n",
    "tuner = tune.Tuner(\n",
    "    trainable_with_cpu_gpu,\n",
    "    tune_config=tune.TuneConfig(\n",
    "        metric=\"test_loss\",\n",
    "        mode=\"min\",\n",
    "        num_samples=30,\n",
    "        search_alg=algo,\n",
    "        scheduler=ray_scheduler,\n",
    "        max_concurrent_trials=5\n",
    "    ),\n",
    "    run_config=RunConfig(\n",
    "        storage_path=experiment_path,\n",
    "        verbose=1,\n",
    "    ),\n",
    "    param_space=config,\n",
    ")\n",
    "result_grid = tuner.fit()\n",
    "best_result = result_grid.get_best_result()"
   ]
  },
  {
   "cell_type": "code",
   "execution_count": 46,
   "id": "f538b9c0",
   "metadata": {},
   "outputs": [
    {
     "name": "stdout",
     "output_type": "stream",
     "text": [
      "Result(\n",
      "  metrics={'train_loss': 0.0020611333528239265, 'train_rmse': np.float64(184.00502073652774), 'test_loss': 0.002807889851375375, 'test_rmse': np.float64(215.27811771926565), 'test_r2': 0.9087717533111572, 'epoch': 29, 'best_test_loss': 0.002363709844243915, 'best_epoch': 11},\n",
      "  path='/home/omen/Projects/2505_portfolio_r/ray_results/GRU_tune_2/train_gru2_model_2025-05-25_01-24-25/train_gru2_model_35e6e477_18_batch_size=128,dropout=0.3861,hidden_size=64,learning_rate=0.0026,num_epochs=30_2025-05-25_01-31-41',\n",
      "  filesystem='local',\n",
      "  checkpoint=None\n",
      ")\n",
      "Best config: {'hidden_size': 64, 'learning_rate': 0.0026418151594714495, 'dropout': 0.3861492070587778, 'batch_size': 128, 'num_epochs': 30}\n",
      "Best metrics: {'train_loss': 0.0020611333528239265, 'train_rmse': np.float64(184.00502073652774), 'test_loss': 0.002807889851375375, 'test_rmse': np.float64(215.27811771926565), 'test_r2': 0.9087717533111572, 'epoch': 29, 'best_test_loss': 0.002363709844243915, 'best_epoch': 11, 'timestamp': 1748104343, 'checkpoint_dir_name': None, 'done': True, 'training_iteration': 30, 'trial_id': '35e6e477', 'date': '2025-05-25_01-32-23', 'time_this_iter_s': 0.9830093383789062, 'time_total_s': 29.516148805618286, 'pid': 68493, 'hostname': 'OMEN', 'node_ip': '172.23.68.119', 'config': {'hidden_size': 64, 'learning_rate': 0.0026418151594714495, 'dropout': 0.3861492070587778, 'batch_size': 128, 'num_epochs': 30}, 'time_since_restore': 29.516148805618286, 'iterations_since_restore': 30, 'experiment_tag': '18_batch_size=128,dropout=0.3861,hidden_size=64,learning_rate=0.0026,num_epochs=30'}\n"
     ]
    }
   ],
   "source": [
    "best_config  = best_result.config\n",
    "best_metrics = best_result.metrics\n",
    "print(best_result)\n",
    "print(\"Best config:\", best_config)\n",
    "print(\"Best metrics:\", best_metrics)"
   ]
  },
  {
   "cell_type": "code",
   "execution_count": 47,
   "id": "0af6c1c8",
   "metadata": {},
   "outputs": [],
   "source": [
    "analysis = get_json(\"train_gru2_model\")"
   ]
  },
  {
   "cell_type": "code",
   "execution_count": 49,
   "id": "bc9b7606-5f2b-40f9-8c02-d498f54d6b7e",
   "metadata": {
    "colab": {
     "base_uri": "https://localhost:8080/"
    },
    "id": "pr20AfYJPknL",
    "outputId": "d32d435f-c2da-4479-821a-3d4c663f7ee7"
   },
   "outputs": [
    {
     "name": "stdout",
     "output_type": "stream",
     "text": [
      "Best Epoch: 11\n",
      "Best Test Loss: 0.002363709844243915\n",
      "Best Test RMSE: 197.14889677601548\n",
      "Best Test R²: 0.9234899878501892\n"
     ]
    }
   ],
   "source": [
    "# 最良試行のデータフレームを取得\n",
    "best_trial = analysis.get_best_trial(metric=\"test_loss\", mode=\"min\")\n",
    "best_trial_df = analysis.trial_dataframes[best_trial.trial_id]\n",
    "\n",
    "# test_loss が最小のエポックを取得\n",
    "best_epoch_idx = best_trial_df[\"test_loss\"].idxmin()\n",
    "best_epoch = best_trial_df.loc[best_epoch_idx]\n",
    "\n",
    "# 同じエポックの test_rmse, test_r2 を取得\n",
    "best_epoch_loss = best_epoch[\"test_loss\"]\n",
    "best_epoch_rmse = best_epoch[\"test_rmse\"]\n",
    "best_epoch_r2 = best_epoch[\"test_r2\"]\n",
    "\n",
    "# 結果を表示\n",
    "print(f\"Best Epoch: {best_epoch['epoch']}\")\n",
    "print(f\"Best Test Loss: {best_epoch_loss}\")\n",
    "print(f\"Best Test RMSE: {best_epoch_rmse}\")\n",
    "print(f\"Best Test R²: {best_epoch_r2}\")"
   ]
  },
  {
   "cell_type": "code",
   "execution_count": 50,
   "id": "39ce4500-05e2-4f4e-85b9-b9610f914089",
   "metadata": {
    "colab": {
     "base_uri": "https://localhost:8080/",
     "height": 564
    },
    "id": "g_Hy2nuaPk26",
    "outputId": "2eecb87d-050b-4657-db74-bae5ad29a3da"
   },
   "outputs": [
    {
     "data": {
      "image/png": "[encoded data removed]",
      "text/plain": [
       "<Figure size 1000x600 with 1 Axes>"
      ]
     },
     "metadata": {},
     "output_type": "display_data"
    }
   ],
   "source": [
    "plot_loss(best_trial_df)"
   ]
  },
  {
   "cell_type": "markdown",
   "id": "29480ae0-fea5-4940-a4f6-cfe5b7bac961",
   "metadata": {
    "id": "a9eb7870-f518-4819-8c61-556b0c1280ed"
   },
   "source": [
    "## 結果のまとめ"
   ]
  },
  {
   "cell_type": "markdown",
   "id": "c45bb8be-9a73-4903-9e26-4fb55cd88b70",
   "metadata": {
    "id": "b76f7f0a-42b0-47bb-bd43-793b7a52673c"
   },
   "source": [
    "| Model | train_loss | train_rmse | test_loss | test_rmse | test_r2 | best_test_loss | best_test_rmse | best_test_r2 | hidden_size | learning_rate | dropout | batch_size |\n",
    "| ----- | ---------- | ----------:| ---------:| ---------:| -------:| -------------:| --------------:| ------------:| -----------:| -------------:| -------:| ----------:|\n",
    "| RNN   |      0.0022|    191.7667|     0.0032|    228.0010|   0.8977|         0.0028|       212.6791|       0.9110|          64|         0.0012|   0.2216|          64|\n",
    "| LSTM1 |      0.0019|    178.8018|     0.0030|   222.8499 |   0.9022 |         0.0027|       209.6453|       0.9135|         256|         0.0006|   0.1656|         64|\n",
    "| LSTM2 |      0.0022|    189.7965|     0.00296|   220.0342|   0.9047|         0.0027|       216.3128|       0.9079|         128|         0.0010|   0.4072|         128|\n",
    "| GRU1  |      0.0022|    189.0632|     0.00279|   213.3779|   0.9104|         0.0026|       204.1319|       0.9180|         256|         0.0019|   0.3949|         128|\n",
    "| **GRU2**  |      0.0021|    184.0050|     0.00281|   215.2781|   0.9088|         **0.0024**|       **197.1489**|       **0.9235**|          64|         0.0026|   0.3861|         128|"
   ]
  },
  {
   "cell_type": "markdown",
   "id": "193aa7d8-fc90-4914-bca0-eb55ee01cf9c",
   "metadata": {
    "id": "bbb698ad-f068-4e4a-a815-548f8eaf1d2f"
   },
   "source": [
    "- 一つ一つパラメータ調整を行った結果、デフォルトの設定（学習率0.001、1層、隠れユニット数128、ドロップアウト0.0）から学習率を0.002に変更したGRUモデルで、決定係数0.913、平均平方根誤差210.199という結果が最良の結果であった。\n",
    "- 今回、RayTuneを用いたパラメータチューニングを行った結果では同じくGRUモデルで**決定係数0.9235**、**平均平方根誤差197.149**という結果が出た。\n",
    "- 前回、2層のGRUモデルを用いた際は性能が下がってしまい、過学習を防ぐ仕組みを適切に組み込めていなかったと思料する。"
   ]
  }
 ],
 "metadata": {
  "kernelspec": {
   "display_name": "ray311",
   "language": "python",
   "name": "python3"
  },
  "language_info": {
   "codemirror_mode": {
    "name": "ipython",
    "version": 3
   },
   "file_extension": ".py",
   "mimetype": "text/x-python",
   "name": "python",
   "nbconvert_exporter": "python",
   "pygments_lexer": "ipython3",
   "version": "3.11.12"
  }
 },
 "nbformat": 4,
 "nbformat_minor": 5
}
